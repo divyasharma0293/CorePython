{
  "nbformat": 4,
  "nbformat_minor": 0,
  "metadata": {
    "colab": {
      "name": "List set dictionary filtering Comprehensions.ipynb",
      "provenance": [],
      "authorship_tag": "ABX9TyOHqgJkToCXGlkga1M6FvhL",
      "include_colab_link": true
    },
    "kernelspec": {
      "name": "python3",
      "display_name": "Python 3"
    },
    "language_info": {
      "name": "python"
    }
  },
  "cells": [
    {
      "cell_type": "markdown",
      "metadata": {
        "id": "view-in-github",
        "colab_type": "text"
      },
      "source": [
        "<a href=\"https://colab.research.google.com/github/divyasharma0293/CorePython/blob/main/List_set_dictionary_filtering_Comprehensions.ipynb\" target=\"_parent\"><img src=\"https://colab.research.google.com/assets/colab-badge.svg\" alt=\"Open In Colab\"/></a>"
      ]
    },
    {
      "cell_type": "markdown",
      "metadata": {
        "id": "lRrR7CbzFc7e"
      },
      "source": [
        "##**Comprehensions**\n",
        "###List Comprehension"
      ]
    },
    {
      "cell_type": "code",
      "metadata": {
        "id": "9YsSjCLGEMhI"
      },
      "source": [
        "words = 'I just like marvel movies which are so amazing'.split()"
      ],
      "execution_count": 1,
      "outputs": []
    },
    {
      "cell_type": "code",
      "metadata": {
        "colab": {
          "base_uri": "https://localhost:8080/"
        },
        "id": "WTEy4V_DFsyp",
        "outputId": "71e744db-e45e-4877-d448-4015906030f3"
      },
      "source": [
        "words"
      ],
      "execution_count": 2,
      "outputs": [
        {
          "output_type": "execute_result",
          "data": {
            "text/plain": [
              "['I', 'just', 'like', 'marvel', 'movies', 'which', 'are', 'so', 'amazing']"
            ]
          },
          "metadata": {
            "tags": []
          },
          "execution_count": 2
        }
      ]
    },
    {
      "cell_type": "code",
      "metadata": {
        "colab": {
          "base_uri": "https://localhost:8080/"
        },
        "id": "NVQCWz1HFwpE",
        "outputId": "84ae1796-4149-42b5-b3de-dc56b58a3569"
      },
      "source": [
        "[len(word) for word in words ]"
      ],
      "execution_count": 3,
      "outputs": [
        {
          "output_type": "execute_result",
          "data": {
            "text/plain": [
              "[1, 4, 4, 6, 6, 5, 3, 2, 7]"
            ]
          },
          "metadata": {
            "tags": []
          },
          "execution_count": 3
        }
      ]
    },
    {
      "cell_type": "code",
      "metadata": {
        "colab": {
          "base_uri": "https://localhost:8080/"
        },
        "id": "1CBgEZTgF2et",
        "outputId": "ee96b527-8155-41db-82fc-c3a686b0200c"
      },
      "source": [
        "#finding factorial of len of each item from 1 to 19\n",
        "from math import factorial\n",
        "f = [str(factorial(x)) for x in range(20)]\n",
        "f"
      ],
      "execution_count": 4,
      "outputs": [
        {
          "output_type": "execute_result",
          "data": {
            "text/plain": [
              "['1',\n",
              " '1',\n",
              " '2',\n",
              " '6',\n",
              " '24',\n",
              " '120',\n",
              " '720',\n",
              " '5040',\n",
              " '40320',\n",
              " '362880',\n",
              " '3628800',\n",
              " '39916800',\n",
              " '479001600',\n",
              " '6227020800',\n",
              " '87178291200',\n",
              " '1307674368000',\n",
              " '20922789888000',\n",
              " '355687428096000',\n",
              " '6402373705728000',\n",
              " '121645100408832000']"
            ]
          },
          "metadata": {
            "tags": []
          },
          "execution_count": 4
        }
      ]
    },
    {
      "cell_type": "code",
      "metadata": {
        "colab": {
          "base_uri": "https://localhost:8080/"
        },
        "id": "3iX9hSd1GScf",
        "outputId": "3a560073-0bf2-42de-9178-bdb2a4d02986"
      },
      "source": [
        "f = [len(str(factorial(x))) for x in range(20)]\n",
        "f"
      ],
      "execution_count": 5,
      "outputs": [
        {
          "output_type": "execute_result",
          "data": {
            "text/plain": [
              "[1, 1, 1, 1, 2, 3, 3, 4, 5, 6, 7, 8, 9, 10, 11, 13, 14, 15, 16, 18]"
            ]
          },
          "metadata": {
            "tags": []
          },
          "execution_count": 5
        }
      ]
    },
    {
      "cell_type": "markdown",
      "metadata": {
        "id": "C7t9erLrGjvF"
      },
      "source": [
        "###Set Comprehension"
      ]
    },
    {
      "cell_type": "code",
      "metadata": {
        "colab": {
          "base_uri": "https://localhost:8080/"
        },
        "id": "LYyL8zoUGg97",
        "outputId": "2e55f1fe-e112-4b8d-b5b9-c93283e8ab91"
      },
      "source": [
        "s = {len(str(factorial(x))) for x in range(20)}\n",
        "s"
      ],
      "execution_count": 7,
      "outputs": [
        {
          "output_type": "execute_result",
          "data": {
            "text/plain": [
              "{1, 2, 3, 4, 5, 6, 7, 8, 9, 10, 11, 13, 14, 15, 16, 18}"
            ]
          },
          "metadata": {
            "tags": []
          },
          "execution_count": 7
        }
      ]
    },
    {
      "cell_type": "markdown",
      "metadata": {
        "id": "_rhf8XzhGyrf"
      },
      "source": [
        "###Dictionary Comprehension"
      ]
    },
    {
      "cell_type": "code",
      "metadata": {
        "id": "3J6uqlYLGur3"
      },
      "source": [
        "country_to_capital = {'India': 'Delhi','Germany': 'Berlin', 'Thailand': 'Bangkok'}"
      ],
      "execution_count": 8,
      "outputs": []
    },
    {
      "cell_type": "code",
      "metadata": {
        "colab": {
          "base_uri": "https://localhost:8080/"
        },
        "id": "2BjpiUOGHMM_",
        "outputId": "2b7dd18a-1d97-4e4f-9056-d3b3a4c53653"
      },
      "source": [
        "capital_to_country = {capital:country for country, capital in country_to_capital.items()}\n",
        "capital_to_country"
      ],
      "execution_count": 11,
      "outputs": [
        {
          "output_type": "execute_result",
          "data": {
            "text/plain": [
              "{'Bangkok': 'Thailand', 'Berlin': 'Germany', 'Delhi': 'India'}"
            ]
          },
          "metadata": {
            "tags": []
          },
          "execution_count": 11
        }
      ]
    },
    {
      "cell_type": "code",
      "metadata": {
        "id": "36QsubqpHdEb"
      },
      "source": [
        "words = ['Hi', 'Hello', 'You', 'Me']\n"
      ],
      "execution_count": 12,
      "outputs": []
    },
    {
      "cell_type": "code",
      "metadata": {
        "colab": {
          "base_uri": "https://localhost:8080/"
        },
        "id": "sR6jPoLvIHAq",
        "outputId": "2a207de6-436f-4669-9918-128f368c1727"
      },
      "source": [
        "{x[0]:x for x in words}"
      ],
      "execution_count": 14,
      "outputs": [
        {
          "output_type": "execute_result",
          "data": {
            "text/plain": [
              "{'H': 'Hello', 'M': 'Me', 'Y': 'You'}"
            ]
          },
          "metadata": {
            "tags": []
          },
          "execution_count": 14
        }
      ]
    }
  ]
}