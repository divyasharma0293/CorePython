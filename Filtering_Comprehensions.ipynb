{
  "nbformat": 4,
  "nbformat_minor": 0,
  "metadata": {
    "colab": {
      "name": "Filtering Comprehensions.ipynb",
      "provenance": [],
      "authorship_tag": "ABX9TyNaDJ/a0zvNKjzNKXGyHjPY",
      "include_colab_link": true
    },
    "kernelspec": {
      "name": "python3",
      "display_name": "Python 3"
    },
    "language_info": {
      "name": "python"
    }
  },
  "cells": [
    {
      "cell_type": "markdown",
      "metadata": {
        "id": "view-in-github",
        "colab_type": "text"
      },
      "source": [
        "<a href=\"https://colab.research.google.com/github/divyasharma0293/CorePython/blob/main/Filtering_Comprehensions.ipynb\" target=\"_parent\"><img src=\"https://colab.research.google.com/assets/colab-badge.svg\" alt=\"Open In Colab\"/></a>"
      ]
    },
    {
      "cell_type": "markdown",
      "metadata": {
        "id": "U_-ghiK1Bwb-"
      },
      "source": [
        "##**Filtering** **Comprehensions**"
      ]
    },
    {
      "cell_type": "code",
      "metadata": {
        "id": "jjzGj0XkBpi5"
      },
      "source": [
        "#checking prime or not\n",
        "from math import sqrt\n",
        "\n",
        "def is_prime(x):\n",
        "  if x<2:\n",
        "    return False\n",
        "  for i in range(2, int(sqrt(x))+1):\n",
        "    if x%i ==0:\n",
        "      return False\n",
        "  return True"
      ],
      "execution_count": 1,
      "outputs": []
    },
    {
      "cell_type": "code",
      "metadata": {
        "colab": {
          "base_uri": "https://localhost:8080/"
        },
        "id": "wz0gg27TDHCH",
        "outputId": "27e70e39-42dc-48ae-c50d-e7792752012c"
      },
      "source": [
        "[x for x in range(101) if is_prime(x)]"
      ],
      "execution_count": 2,
      "outputs": [
        {
          "output_type": "execute_result",
          "data": {
            "text/plain": [
              "[2,\n",
              " 3,\n",
              " 5,\n",
              " 7,\n",
              " 11,\n",
              " 13,\n",
              " 17,\n",
              " 19,\n",
              " 23,\n",
              " 29,\n",
              " 31,\n",
              " 37,\n",
              " 41,\n",
              " 43,\n",
              " 47,\n",
              " 53,\n",
              " 59,\n",
              " 61,\n",
              " 67,\n",
              " 71,\n",
              " 73,\n",
              " 79,\n",
              " 83,\n",
              " 89,\n",
              " 97]"
            ]
          },
          "metadata": {
            "tags": []
          },
          "execution_count": 2
        }
      ]
    },
    {
      "cell_type": "code",
      "metadata": {
        "colab": {
          "base_uri": "https://localhost:8080/"
        },
        "id": "UbXfbj9iDMky",
        "outputId": "aba97df6-1e71-4723-c308-2c9458926508"
      },
      "source": [
        "prime_square_divisors = { x: (1,x,x*x) for x in range(101) if is_prime(x)}\n",
        "prime_square_divisors"
      ],
      "execution_count": 3,
      "outputs": [
        {
          "output_type": "execute_result",
          "data": {
            "text/plain": [
              "{2: (1, 2, 4),\n",
              " 3: (1, 3, 9),\n",
              " 5: (1, 5, 25),\n",
              " 7: (1, 7, 49),\n",
              " 11: (1, 11, 121),\n",
              " 13: (1, 13, 169),\n",
              " 17: (1, 17, 289),\n",
              " 19: (1, 19, 361),\n",
              " 23: (1, 23, 529),\n",
              " 29: (1, 29, 841),\n",
              " 31: (1, 31, 961),\n",
              " 37: (1, 37, 1369),\n",
              " 41: (1, 41, 1681),\n",
              " 43: (1, 43, 1849),\n",
              " 47: (1, 47, 2209),\n",
              " 53: (1, 53, 2809),\n",
              " 59: (1, 59, 3481),\n",
              " 61: (1, 61, 3721),\n",
              " 67: (1, 67, 4489),\n",
              " 71: (1, 71, 5041),\n",
              " 73: (1, 73, 5329),\n",
              " 79: (1, 79, 6241),\n",
              " 83: (1, 83, 6889),\n",
              " 89: (1, 89, 7921),\n",
              " 97: (1, 97, 9409)}"
            ]
          },
          "metadata": {
            "tags": []
          },
          "execution_count": 3
        }
      ]
    }
  ]
}