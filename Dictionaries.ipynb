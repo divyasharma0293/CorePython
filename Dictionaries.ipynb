{
  "nbformat": 4,
  "nbformat_minor": 0,
  "metadata": {
    "colab": {
      "name": "Dictionaries.ipynb",
      "provenance": [],
      "authorship_tag": "ABX9TyPUk81cSaWFVol6pih9K7/L",
      "include_colab_link": true
    },
    "kernelspec": {
      "name": "python3",
      "display_name": "Python 3"
    },
    "language_info": {
      "name": "python"
    }
  },
  "cells": [
    {
      "cell_type": "markdown",
      "metadata": {
        "id": "view-in-github",
        "colab_type": "text"
      },
      "source": [
        "<a href=\"https://colab.research.google.com/github/divyasharma0293/CorePython/blob/main/Dictionaries.ipynb\" target=\"_parent\"><img src=\"https://colab.research.google.com/assets/colab-badge.svg\" alt=\"Open In Colab\"/></a>"
      ]
    },
    {
      "cell_type": "markdown",
      "metadata": {
        "id": "6GnutUFmz-o2"
      },
      "source": [
        "#**DICTIONARIES**"
      ]
    },
    {
      "cell_type": "code",
      "metadata": {
        "id": "twP2iezczHkh"
      },
      "source": [
        "urls = {\"google\": \"www.google.com\", \"yahoo\": \"www.yahoo.com\"}"
      ],
      "execution_count": 1,
      "outputs": []
    },
    {
      "cell_type": "code",
      "metadata": {
        "colab": {
          "base_uri": "https://localhost:8080/",
          "height": 35
        },
        "id": "dU7pb_ExzVVc",
        "outputId": "400a486c-9be3-4379-b92e-2926b007975d"
      },
      "source": [
        "urls[\"google\"]"
      ],
      "execution_count": 2,
      "outputs": [
        {
          "output_type": "execute_result",
          "data": {
            "application/vnd.google.colaboratory.intrinsic+json": {
              "type": "string"
            },
            "text/plain": [
              "'www.google.com'"
            ]
          },
          "metadata": {
            "tags": []
          },
          "execution_count": 2
        }
      ]
    },
    {
      "cell_type": "code",
      "metadata": {
        "id": "ntjexmiEzXYI"
      },
      "source": [
        "name_ages = [(\"Richard\",30), (\"Vivian\", 26)]"
      ],
      "execution_count": 3,
      "outputs": []
    },
    {
      "cell_type": "code",
      "metadata": {
        "id": "HbDPL7l9zi6j"
      },
      "source": [
        "d= dict(name_ages)"
      ],
      "execution_count": 4,
      "outputs": []
    },
    {
      "cell_type": "code",
      "metadata": {
        "colab": {
          "base_uri": "https://localhost:8080/"
        },
        "id": "vcKgycrXzlEZ",
        "outputId": "17f23725-00ff-43e2-b329-335d61ffae67"
      },
      "source": [
        "d"
      ],
      "execution_count": 5,
      "outputs": [
        {
          "output_type": "execute_result",
          "data": {
            "text/plain": [
              "{'Richard': 30, 'Vivian': 26}"
            ]
          },
          "metadata": {
            "tags": []
          },
          "execution_count": 5
        }
      ]
    },
    {
      "cell_type": "markdown",
      "metadata": {
        "id": "fOxM1GJfz5JG"
      },
      "source": [
        "###Shallow Copy\n"
      ]
    },
    {
      "cell_type": "code",
      "metadata": {
        "id": "5I2pzdbvzmZB"
      },
      "source": [
        "e = d.copy()"
      ],
      "execution_count": 6,
      "outputs": []
    },
    {
      "cell_type": "code",
      "metadata": {
        "colab": {
          "base_uri": "https://localhost:8080/"
        },
        "id": "I3mwShjlzq2K",
        "outputId": "038a07ad-ba1c-43dc-916c-bade9b0ca4a9"
      },
      "source": [
        "e"
      ],
      "execution_count": 7,
      "outputs": [
        {
          "output_type": "execute_result",
          "data": {
            "text/plain": [
              "{'Richard': 30, 'Vivian': 26}"
            ]
          },
          "metadata": {
            "tags": []
          },
          "execution_count": 7
        }
      ]
    },
    {
      "cell_type": "code",
      "metadata": {
        "colab": {
          "base_uri": "https://localhost:8080/"
        },
        "id": "ZbKYVizHztgb",
        "outputId": "4551223a-ebd8-4e80-e3e3-51cfb3cee1d2"
      },
      "source": [
        "f = dict(e)\n",
        "f"
      ],
      "execution_count": 8,
      "outputs": [
        {
          "output_type": "execute_result",
          "data": {
            "text/plain": [
              "{'Richard': 30, 'Vivian': 26}"
            ]
          },
          "metadata": {
            "tags": []
          },
          "execution_count": 8
        }
      ]
    },
    {
      "cell_type": "markdown",
      "metadata": {
        "id": "JLrCqrza0J13"
      },
      "source": [
        "###dict.upate(): add enteries from one dictionary to another"
      ]
    },
    {
      "cell_type": "code",
      "metadata": {
        "id": "ojWuwrnhzwqQ"
      },
      "source": [
        "g = {\"Aung\":20}"
      ],
      "execution_count": 9,
      "outputs": []
    },
    {
      "cell_type": "code",
      "metadata": {
        "colab": {
          "base_uri": "https://localhost:8080/"
        },
        "id": "6P04IVYK0eIF",
        "outputId": "3b91eae5-6125-4a96-f154-601dee55c137"
      },
      "source": [
        "f.update(g)\n",
        "f"
      ],
      "execution_count": 11,
      "outputs": [
        {
          "output_type": "execute_result",
          "data": {
            "text/plain": [
              "{'Aung': 20, 'Richard': 30, 'Vivian': 26}"
            ]
          },
          "metadata": {
            "tags": []
          },
          "execution_count": 11
        }
      ]
    },
    {
      "cell_type": "markdown",
      "metadata": {
        "id": "qjbS4vaJ0pfh"
      },
      "source": [
        "###If keys already exist in dict, values will be overwritten"
      ]
    },
    {
      "cell_type": "code",
      "metadata": {
        "colab": {
          "base_uri": "https://localhost:8080/"
        },
        "id": "aIgdQsdm0g7J",
        "outputId": "de2f0678-da98-4e5a-8526-5159ed2a5c86"
      },
      "source": [
        "stocks1 = {'GOOG':981, 'APPL':425, 'YHOO':25}\n",
        "stocks1"
      ],
      "execution_count": 22,
      "outputs": [
        {
          "output_type": "execute_result",
          "data": {
            "text/plain": [
              "{'APPL': 425, 'GOOG': 981, 'YHOO': 25}"
            ]
          },
          "metadata": {
            "tags": []
          },
          "execution_count": 22
        }
      ]
    },
    {
      "cell_type": "code",
      "metadata": {
        "id": "QYS1CUIh1MTZ"
      },
      "source": [
        "stocks1.update( {'GOOG':1000, 'APPL':600, 'YHOO':100} )\n"
      ],
      "execution_count": 23,
      "outputs": []
    },
    {
      "cell_type": "code",
      "metadata": {
        "colab": {
          "base_uri": "https://localhost:8080/"
        },
        "id": "iz4PlDjj1a9t",
        "outputId": "1f618915-2628-4658-8980-2021c1baef64"
      },
      "source": [
        "stocks1"
      ],
      "execution_count": 24,
      "outputs": [
        {
          "output_type": "execute_result",
          "data": {
            "text/plain": [
              "{'APPL': 600, 'GOOG': 1000, 'YHOO': 100}"
            ]
          },
          "metadata": {
            "tags": []
          },
          "execution_count": 24
        }
      ]
    },
    {
      "cell_type": "markdown",
      "metadata": {
        "id": "GnpbrpPZ2OVi"
      },
      "source": [
        "###Iteration for dict"
      ]
    },
    {
      "cell_type": "code",
      "metadata": {
        "colab": {
          "base_uri": "https://localhost:8080/"
        },
        "id": "MkswvRHi1uyR",
        "outputId": "0dbbbbce-d95a-4106-a2e4-7e109f4e85dd"
      },
      "source": [
        "for item in stocks1:\n",
        "  print(f'{item} is currently priced at {stocks[item]}')"
      ],
      "execution_count": 25,
      "outputs": [
        {
          "output_type": "stream",
          "text": [
            "GOOG is currently priced at 1000\n",
            "APPL is currently priced at 600\n",
            "YHOO is currently priced at 100\n"
          ],
          "name": "stdout"
        }
      ]
    },
    {
      "cell_type": "code",
      "metadata": {
        "colab": {
          "base_uri": "https://localhost:8080/"
        },
        "id": "FCw-1rw22nYs",
        "outputId": "1858b0a2-e430-4580-ca77-b31bcd59318d"
      },
      "source": [
        "for value in stocks1.values():\n",
        "  print(value)"
      ],
      "execution_count": 27,
      "outputs": [
        {
          "output_type": "stream",
          "text": [
            "1000\n",
            "600\n",
            "100\n"
          ],
          "name": "stdout"
        }
      ]
    },
    {
      "cell_type": "code",
      "metadata": {
        "colab": {
          "base_uri": "https://localhost:8080/"
        },
        "id": "OpgJD_Zq21yy",
        "outputId": "0a44cba3-354f-4035-c79a-f3d1b2329a12"
      },
      "source": [
        "for key in stocks1.keys():\n",
        "  print(key)"
      ],
      "execution_count": 28,
      "outputs": [
        {
          "output_type": "stream",
          "text": [
            "GOOG\n",
            "APPL\n",
            "YHOO\n"
          ],
          "name": "stdout"
        }
      ]
    },
    {
      "cell_type": "markdown",
      "metadata": {
        "id": "70YVfxUk3B-R"
      },
      "source": [
        "###dict.items()"
      ]
    },
    {
      "cell_type": "code",
      "metadata": {
        "colab": {
          "base_uri": "https://localhost:8080/"
        },
        "id": "Q9QVh8aE2-W8",
        "outputId": "2b6967c5-8aa2-4ff7-cc0a-659d63e65a32"
      },
      "source": [
        "for key, value in stocks1.items():\n",
        "  print(f'{key} is currently priced at {value}')"
      ],
      "execution_count": 29,
      "outputs": [
        {
          "output_type": "stream",
          "text": [
            "GOOG is currently priced at 1000\n",
            "APPL is currently priced at 600\n",
            "YHOO is currently priced at 100\n"
          ],
          "name": "stdout"
        }
      ]
    },
    {
      "cell_type": "markdown",
      "metadata": {
        "id": "kR-WrXKN3XdM"
      },
      "source": [
        "###in/not in"
      ]
    },
    {
      "cell_type": "code",
      "metadata": {
        "colab": {
          "base_uri": "https://localhost:8080/"
        },
        "id": "8ZpLV-Ob3Ue7",
        "outputId": "1d2e1aa2-66c3-47d1-9f7b-ff1ddd02b2fa"
      },
      "source": [
        "'GOOG' in stocks1"
      ],
      "execution_count": 30,
      "outputs": [
        {
          "output_type": "execute_result",
          "data": {
            "text/plain": [
              "True"
            ]
          },
          "metadata": {
            "tags": []
          },
          "execution_count": 30
        }
      ]
    },
    {
      "cell_type": "code",
      "metadata": {
        "colab": {
          "base_uri": "https://localhost:8080/"
        },
        "id": "TkAdmZGr3fTA",
        "outputId": "aa78c043-69da-4f98-8442-7137c839c002"
      },
      "source": [
        "'APPL' not in stocks1"
      ],
      "execution_count": 31,
      "outputs": [
        {
          "output_type": "execute_result",
          "data": {
            "text/plain": [
              "False"
            ]
          },
          "metadata": {
            "tags": []
          },
          "execution_count": 31
        }
      ]
    },
    {
      "cell_type": "markdown",
      "metadata": {
        "id": "hd7Wr1Wg3mLE"
      },
      "source": [
        "###del keyword to remove item from dict"
      ]
    },
    {
      "cell_type": "code",
      "metadata": {
        "colab": {
          "base_uri": "https://localhost:8080/"
        },
        "id": "V95lE_O93jdJ",
        "outputId": "d2c972d5-bbfb-4b14-c20b-8b2899ec6207"
      },
      "source": [
        "stocks1"
      ],
      "execution_count": 32,
      "outputs": [
        {
          "output_type": "execute_result",
          "data": {
            "text/plain": [
              "{'APPL': 600, 'GOOG': 1000, 'YHOO': 100}"
            ]
          },
          "metadata": {
            "tags": []
          },
          "execution_count": 32
        }
      ]
    },
    {
      "cell_type": "code",
      "metadata": {
        "id": "Gp4Wd26P3xnu"
      },
      "source": [
        "del stocks1['YHOO']"
      ],
      "execution_count": 33,
      "outputs": []
    },
    {
      "cell_type": "code",
      "metadata": {
        "colab": {
          "base_uri": "https://localhost:8080/"
        },
        "id": "TIeJqxq133E9",
        "outputId": "6319c7d9-befb-442c-f90c-dcff92502963"
      },
      "source": [
        "stocks1"
      ],
      "execution_count": 35,
      "outputs": [
        {
          "output_type": "execute_result",
          "data": {
            "text/plain": [
              "{'APPL': 600, 'GOOG': 1000}"
            ]
          },
          "metadata": {
            "tags": []
          },
          "execution_count": 35
        }
      ]
    },
    {
      "cell_type": "markdown",
      "metadata": {
        "id": "f68Js6S937yW"
      },
      "source": [
        "###Updating dict items"
      ]
    },
    {
      "cell_type": "code",
      "metadata": {
        "id": "BdD573vY34Tp"
      },
      "source": [
        "world = {'North America':['USA', 'CANADA'], 'Asia':['India', 'China']}"
      ],
      "execution_count": 36,
      "outputs": []
    },
    {
      "cell_type": "code",
      "metadata": {
        "colab": {
          "base_uri": "https://localhost:8080/"
        },
        "id": "hpQ_vJ0F4T0x",
        "outputId": "eac7a5c2-5878-43ee-e117-e1ba78d276b4"
      },
      "source": [
        "world"
      ],
      "execution_count": 37,
      "outputs": [
        {
          "output_type": "execute_result",
          "data": {
            "text/plain": [
              "{'Asia': ['India', 'China'], 'North America': ['USA', 'CANADA']}"
            ]
          },
          "metadata": {
            "tags": []
          },
          "execution_count": 37
        }
      ]
    },
    {
      "cell_type": "code",
      "metadata": {
        "id": "Nn7yCPMq4VUo"
      },
      "source": [
        "world['Asia'] += ['Thailand', 'Malaysia']"
      ],
      "execution_count": 38,
      "outputs": []
    },
    {
      "cell_type": "code",
      "metadata": {
        "colab": {
          "base_uri": "https://localhost:8080/"
        },
        "id": "DdAehABL4lI5",
        "outputId": "daeb410e-ae6b-498a-9027-edc93415af90"
      },
      "source": [
        "world"
      ],
      "execution_count": 39,
      "outputs": [
        {
          "output_type": "execute_result",
          "data": {
            "text/plain": [
              "{'Asia': ['India', 'China', 'Thailand', 'Malaysia'],\n",
              " 'North America': ['USA', 'CANADA']}"
            ]
          },
          "metadata": {
            "tags": []
          },
          "execution_count": 39
        }
      ]
    },
    {
      "cell_type": "code",
      "metadata": {
        "id": "TOuUTqjY4lzj"
      },
      "source": [
        ""
      ],
      "execution_count": null,
      "outputs": []
    }
  ]
}