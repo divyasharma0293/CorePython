{
  "nbformat": 4,
  "nbformat_minor": 0,
  "metadata": {
    "colab": {
      "name": "Exceptions-02.ipynb",
      "provenance": [],
      "authorship_tag": "ABX9TyPeNy64GdjiXZ+iv5y0JZiB",
      "include_colab_link": true
    },
    "kernelspec": {
      "name": "python3",
      "display_name": "Python 3"
    },
    "language_info": {
      "name": "python"
    }
  },
  "cells": [
    {
      "cell_type": "markdown",
      "metadata": {
        "id": "view-in-github",
        "colab_type": "text"
      },
      "source": [
        "<a href=\"https://colab.research.google.com/github/divyasharma0293/CorePython/blob/main/Exceptions_02.ipynb\" target=\"_parent\"><img src=\"https://colab.research.google.com/assets/colab-badge.svg\" alt=\"Open In Colab\"/></a>"
      ]
    },
    {
      "cell_type": "code",
      "metadata": {
        "id": "GK24XpCK4enM"
      },
      "source": [
        "def sqrt(x):\n",
        "  guess = x\n",
        "  i = 0\n",
        "  while guess * guess != x and i<20:\n",
        "    guess = (guess + x/guess)/2.0\n",
        "    i+=1\n",
        "  return guess"
      ],
      "execution_count": 1,
      "outputs": []
    },
    {
      "cell_type": "code",
      "metadata": {
        "id": "u6dGutyf5xC9"
      },
      "source": [
        "def main():\n",
        "  print(sqrt(9))\n",
        "  print(sqrt(2))"
      ],
      "execution_count": 2,
      "outputs": []
    },
    {
      "cell_type": "code",
      "metadata": {
        "colab": {
          "base_uri": "https://localhost:8080/"
        },
        "id": "0pP_a9LO56rD",
        "outputId": "9a24aeff-b3f1-4dcd-f212-be8265ce7575"
      },
      "source": [
        "main()"
      ],
      "execution_count": 3,
      "outputs": [
        {
          "output_type": "stream",
          "text": [
            "3.0\n",
            "1.414213562373095\n"
          ],
          "name": "stdout"
        }
      ]
    },
    {
      "cell_type": "code",
      "metadata": {
        "id": "Fe7UD02H57sU"
      },
      "source": [
        "def main():\n",
        "  print(sqrt(9))\n",
        "  print(sqrt(2))\n",
        "  print(sqrt(-1))"
      ],
      "execution_count": 4,
      "outputs": []
    },
    {
      "cell_type": "code",
      "metadata": {
        "colab": {
          "base_uri": "https://localhost:8080/",
          "height": 346
        },
        "id": "r3i5H42g6FTq",
        "outputId": "f669a3d4-9fa3-4aab-da95-421e6fdd8c05"
      },
      "source": [
        "main()"
      ],
      "execution_count": 5,
      "outputs": [
        {
          "output_type": "stream",
          "text": [
            "3.0\n",
            "1.414213562373095\n"
          ],
          "name": "stdout"
        },
        {
          "output_type": "error",
          "ename": "ZeroDivisionError",
          "evalue": "ignored",
          "traceback": [
            "\u001b[0;31m---------------------------------------------------------------------------\u001b[0m",
            "\u001b[0;31mZeroDivisionError\u001b[0m                         Traceback (most recent call last)",
            "\u001b[0;32m<ipython-input-5-263240bbee7e>\u001b[0m in \u001b[0;36m<module>\u001b[0;34m()\u001b[0m\n\u001b[0;32m----> 1\u001b[0;31m \u001b[0mmain\u001b[0m\u001b[0;34m(\u001b[0m\u001b[0;34m)\u001b[0m\u001b[0;34m\u001b[0m\u001b[0;34m\u001b[0m\u001b[0m\n\u001b[0m",
            "\u001b[0;32m<ipython-input-4-dd48896851eb>\u001b[0m in \u001b[0;36mmain\u001b[0;34m()\u001b[0m\n\u001b[1;32m      2\u001b[0m   \u001b[0mprint\u001b[0m\u001b[0;34m(\u001b[0m\u001b[0msqrt\u001b[0m\u001b[0;34m(\u001b[0m\u001b[0;36m9\u001b[0m\u001b[0;34m)\u001b[0m\u001b[0;34m)\u001b[0m\u001b[0;34m\u001b[0m\u001b[0;34m\u001b[0m\u001b[0m\n\u001b[1;32m      3\u001b[0m   \u001b[0mprint\u001b[0m\u001b[0;34m(\u001b[0m\u001b[0msqrt\u001b[0m\u001b[0;34m(\u001b[0m\u001b[0;36m2\u001b[0m\u001b[0;34m)\u001b[0m\u001b[0;34m)\u001b[0m\u001b[0;34m\u001b[0m\u001b[0;34m\u001b[0m\u001b[0m\n\u001b[0;32m----> 4\u001b[0;31m   \u001b[0mprint\u001b[0m\u001b[0;34m(\u001b[0m\u001b[0msqrt\u001b[0m\u001b[0;34m(\u001b[0m\u001b[0;34m-\u001b[0m\u001b[0;36m1\u001b[0m\u001b[0;34m)\u001b[0m\u001b[0;34m)\u001b[0m\u001b[0;34m\u001b[0m\u001b[0;34m\u001b[0m\u001b[0m\n\u001b[0m",
            "\u001b[0;32m<ipython-input-1-bbbb410386f7>\u001b[0m in \u001b[0;36msqrt\u001b[0;34m(x)\u001b[0m\n\u001b[1;32m      3\u001b[0m   \u001b[0mi\u001b[0m \u001b[0;34m=\u001b[0m \u001b[0;36m0\u001b[0m\u001b[0;34m\u001b[0m\u001b[0;34m\u001b[0m\u001b[0m\n\u001b[1;32m      4\u001b[0m   \u001b[0;32mwhile\u001b[0m \u001b[0mguess\u001b[0m \u001b[0;34m*\u001b[0m \u001b[0mguess\u001b[0m \u001b[0;34m!=\u001b[0m \u001b[0mx\u001b[0m \u001b[0;32mand\u001b[0m \u001b[0mi\u001b[0m\u001b[0;34m<\u001b[0m\u001b[0;36m20\u001b[0m\u001b[0;34m:\u001b[0m\u001b[0;34m\u001b[0m\u001b[0;34m\u001b[0m\u001b[0m\n\u001b[0;32m----> 5\u001b[0;31m     \u001b[0mguess\u001b[0m \u001b[0;34m=\u001b[0m \u001b[0;34m(\u001b[0m\u001b[0mguess\u001b[0m \u001b[0;34m+\u001b[0m \u001b[0mx\u001b[0m\u001b[0;34m/\u001b[0m\u001b[0mguess\u001b[0m\u001b[0;34m)\u001b[0m\u001b[0;34m/\u001b[0m\u001b[0;36m2.0\u001b[0m\u001b[0;34m\u001b[0m\u001b[0;34m\u001b[0m\u001b[0m\n\u001b[0m\u001b[1;32m      6\u001b[0m     \u001b[0mi\u001b[0m\u001b[0;34m+=\u001b[0m\u001b[0;36m1\u001b[0m\u001b[0;34m\u001b[0m\u001b[0;34m\u001b[0m\u001b[0m\n\u001b[1;32m      7\u001b[0m   \u001b[0;32mreturn\u001b[0m \u001b[0mguess\u001b[0m\u001b[0;34m\u001b[0m\u001b[0;34m\u001b[0m\u001b[0m\n",
            "\u001b[0;31mZeroDivisionError\u001b[0m: float division by zero"
          ]
        }
      ]
    },
    {
      "cell_type": "markdown",
      "metadata": {
        "id": "Irc0tzj36MFJ"
      },
      "source": [
        "###Modified to include exceptions"
      ]
    },
    {
      "cell_type": "code",
      "metadata": {
        "id": "U1TIrwVs6Grc"
      },
      "source": [
        "def main():\n",
        "  try:\n",
        "    print(sqrt(9))\n",
        "    print(sqrt(81))\n",
        "    print(sqrt(2))\n",
        "    print(sqrt(-1))\n",
        "  except ZeroDivisionError:\n",
        "    print('Cannot compute square root of negative number')\n",
        "  print('Execution runs normally from here')"
      ],
      "execution_count": 8,
      "outputs": []
    },
    {
      "cell_type": "code",
      "metadata": {
        "colab": {
          "base_uri": "https://localhost:8080/"
        },
        "id": "v6qy3n4Q6sx7",
        "outputId": "762bdd8a-56ec-4b96-f94b-c5824f9f1276"
      },
      "source": [
        "main()"
      ],
      "execution_count": 9,
      "outputs": [
        {
          "output_type": "stream",
          "text": [
            "3.0\n",
            "9.0\n",
            "1.414213562373095\n",
            "Cannot compute square root of negative number\n",
            "Execution runs normally from here\n"
          ],
          "name": "stdout"
        }
      ]
    },
    {
      "cell_type": "markdown",
      "metadata": {
        "id": "Hdmqpwga60b9"
      },
      "source": [
        "###Raise error and handling early on"
      ]
    },
    {
      "cell_type": "code",
      "metadata": {
        "id": "hWE99sLX6t5N"
      },
      "source": [
        "def sqrt(x):\n",
        "  if x<0:\n",
        "    raise ValueError(\n",
        "    print(f'Cannot compute square root of negative number {x}')\n",
        "    )\n",
        "  guess = x\n",
        "  i=0\n",
        "  while guess * guess !=x and i <20:\n",
        "    guess = (guess + x/guess)/2.0\n",
        "    i+=1\n",
        "  return guess\n",
        "  "
      ],
      "execution_count": 10,
      "outputs": []
    },
    {
      "cell_type": "code",
      "metadata": {
        "id": "ntx0L6b774sl"
      },
      "source": [
        "import sys\n",
        "\n",
        "def main():\n",
        "  try:\n",
        "    print(sqrt(9))\n",
        "    print(sqrt(2))\n",
        "    print(sqrt(-1))\n",
        "    print(sqrt(0))\n",
        "  except ValueError as e:\n",
        "    print(e, file= sys.stderr)\n",
        "  print('program execution continues normally here')"
      ],
      "execution_count": 11,
      "outputs": []
    },
    {
      "cell_type": "code",
      "metadata": {
        "colab": {
          "base_uri": "https://localhost:8080/"
        },
        "id": "sRRtuCOlBNo3",
        "outputId": "53247b92-d4e3-4b06-a7b4-41ca39aadfda"
      },
      "source": [
        "main()"
      ],
      "execution_count": 12,
      "outputs": [
        {
          "output_type": "stream",
          "text": [
            "3.0\n",
            "1.414213562373095\n",
            "Cannot compute square root of negative number -1\n",
            "program execution continues normally here\n"
          ],
          "name": "stdout"
        },
        {
          "output_type": "stream",
          "text": [
            "None\n"
          ],
          "name": "stderr"
        }
      ]
    }
  ]
}