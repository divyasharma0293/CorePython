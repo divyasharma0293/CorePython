{
  "nbformat": 4,
  "nbformat_minor": 0,
  "metadata": {
    "colab": {
      "name": "Sets.ipynb",
      "provenance": [],
      "authorship_tag": "ABX9TyNSNirfkkwwMMMP8djQLaem",
      "include_colab_link": true
    },
    "kernelspec": {
      "name": "python3",
      "display_name": "Python 3"
    },
    "language_info": {
      "name": "python"
    }
  },
  "cells": [
    {
      "cell_type": "markdown",
      "metadata": {
        "id": "view-in-github",
        "colab_type": "text"
      },
      "source": [
        "<a href=\"https://colab.research.google.com/github/divyasharma0293/CorePython/blob/main/Sets.ipynb\" target=\"_parent\"><img src=\"https://colab.research.google.com/assets/colab-badge.svg\" alt=\"Open In Colab\"/></a>"
      ]
    },
    {
      "cell_type": "markdown",
      "metadata": {
        "id": "u8JvCrvcLl8B"
      },
      "source": [
        "##Sets"
      ]
    },
    {
      "cell_type": "code",
      "metadata": {
        "id": "qaZZ-RztLicl"
      },
      "source": [
        "p = {6,28,496,8128,23434645}"
      ],
      "execution_count": 1,
      "outputs": []
    },
    {
      "cell_type": "code",
      "metadata": {
        "colab": {
          "base_uri": "https://localhost:8080/"
        },
        "id": "Ka8vCv_DLtjf",
        "outputId": "ca39c8a3-d84a-488f-dee5-63135a116c74"
      },
      "source": [
        "p"
      ],
      "execution_count": 2,
      "outputs": [
        {
          "output_type": "execute_result",
          "data": {
            "text/plain": [
              "{6, 28, 496, 8128, 23434645}"
            ]
          },
          "metadata": {
            "tags": []
          },
          "execution_count": 2
        }
      ]
    },
    {
      "cell_type": "code",
      "metadata": {
        "colab": {
          "base_uri": "https://localhost:8080/"
        },
        "id": "tx4AhaAzLt4L",
        "outputId": "66a76f8a-904d-4cad-8c94-f629109a8c31"
      },
      "source": [
        "type(p)"
      ],
      "execution_count": 3,
      "outputs": [
        {
          "output_type": "execute_result",
          "data": {
            "text/plain": [
              "set"
            ]
          },
          "metadata": {
            "tags": []
          },
          "execution_count": 3
        }
      ]
    },
    {
      "cell_type": "code",
      "metadata": {
        "id": "nair-P24LwpG"
      },
      "source": [
        "e = set()"
      ],
      "execution_count": 4,
      "outputs": []
    },
    {
      "cell_type": "code",
      "metadata": {
        "colab": {
          "base_uri": "https://localhost:8080/"
        },
        "id": "MYJybMdVL1pU",
        "outputId": "55b21d5a-18ed-44d2-d57a-da93f01c1910"
      },
      "source": [
        "e"
      ],
      "execution_count": 5,
      "outputs": [
        {
          "output_type": "execute_result",
          "data": {
            "text/plain": [
              "set()"
            ]
          },
          "metadata": {
            "tags": []
          },
          "execution_count": 5
        }
      ]
    },
    {
      "cell_type": "code",
      "metadata": {
        "id": "ve-4919hL2Mv"
      },
      "source": [
        "s = set([2,5,7,2,2,3,4,5])"
      ],
      "execution_count": 6,
      "outputs": []
    },
    {
      "cell_type": "code",
      "metadata": {
        "colab": {
          "base_uri": "https://localhost:8080/"
        },
        "id": "evDBmThBMA6n",
        "outputId": "8f5884ee-d5eb-4a28-f55a-324cb6f6300e"
      },
      "source": [
        "type(s)"
      ],
      "execution_count": 7,
      "outputs": [
        {
          "output_type": "execute_result",
          "data": {
            "text/plain": [
              "set"
            ]
          },
          "metadata": {
            "tags": []
          },
          "execution_count": 7
        }
      ]
    },
    {
      "cell_type": "code",
      "metadata": {
        "colab": {
          "base_uri": "https://localhost:8080/"
        },
        "id": "d5rbtj5eMCDt",
        "outputId": "5672b5a6-3b82-487d-f9fe-d1b7d780aca7"
      },
      "source": [
        "s"
      ],
      "execution_count": 8,
      "outputs": [
        {
          "output_type": "execute_result",
          "data": {
            "text/plain": [
              "{2, 3, 4, 5, 7}"
            ]
          },
          "metadata": {
            "tags": []
          },
          "execution_count": 8
        }
      ]
    },
    {
      "cell_type": "code",
      "metadata": {
        "id": "gGRWCjTmMG0b"
      },
      "source": [
        "my_list = list(s)"
      ],
      "execution_count": 9,
      "outputs": []
    },
    {
      "cell_type": "code",
      "metadata": {
        "colab": {
          "base_uri": "https://localhost:8080/"
        },
        "id": "lxNZdZZZMPC0",
        "outputId": "2744b6a7-937c-4552-d420-a385cab55bb6"
      },
      "source": [
        "my_list"
      ],
      "execution_count": 10,
      "outputs": [
        {
          "output_type": "execute_result",
          "data": {
            "text/plain": [
              "[2, 3, 4, 5, 7]"
            ]
          },
          "metadata": {
            "tags": []
          },
          "execution_count": 10
        }
      ]
    },
    {
      "cell_type": "code",
      "metadata": {
        "id": "R3eajP_BMQgr"
      },
      "source": [
        "thisset = {\"banana\", \"cherry\", \"apple\"}"
      ],
      "execution_count": 11,
      "outputs": []
    },
    {
      "cell_type": "code",
      "metadata": {
        "colab": {
          "base_uri": "https://localhost:8080/"
        },
        "id": "rIjwWDjeMeCD",
        "outputId": "1a96a4d7-9d81-4240-cbd3-35ff61f953c9"
      },
      "source": [
        "thisset"
      ],
      "execution_count": 12,
      "outputs": [
        {
          "output_type": "execute_result",
          "data": {
            "text/plain": [
              "{'apple', 'banana', 'cherry'}"
            ]
          },
          "metadata": {
            "tags": []
          },
          "execution_count": 12
        }
      ]
    },
    {
      "cell_type": "code",
      "metadata": {
        "id": "_3s_PVSBMexh"
      },
      "source": [
        "q = {2,9,1,5,10}"
      ],
      "execution_count": 13,
      "outputs": []
    },
    {
      "cell_type": "code",
      "metadata": {
        "colab": {
          "base_uri": "https://localhost:8080/"
        },
        "id": "JOW0Lp59Mkru",
        "outputId": "3958715f-d5a2-4b24-da02-1fb70bd3e405"
      },
      "source": [
        "3 in q"
      ],
      "execution_count": 14,
      "outputs": [
        {
          "output_type": "execute_result",
          "data": {
            "text/plain": [
              "False"
            ]
          },
          "metadata": {
            "tags": []
          },
          "execution_count": 14
        }
      ]
    },
    {
      "cell_type": "code",
      "metadata": {
        "colab": {
          "base_uri": "https://localhost:8080/"
        },
        "id": "S16u9IeVMmIw",
        "outputId": "f2757010-8865-4f47-d619-3ce160bc3e1b"
      },
      "source": [
        "2 in q"
      ],
      "execution_count": 15,
      "outputs": [
        {
          "output_type": "execute_result",
          "data": {
            "text/plain": [
              "True"
            ]
          },
          "metadata": {
            "tags": []
          },
          "execution_count": 15
        }
      ]
    },
    {
      "cell_type": "markdown",
      "metadata": {
        "id": "lxx7Wki5MoUX"
      },
      "source": [
        "###Adding and updating items to set"
      ]
    },
    {
      "cell_type": "code",
      "metadata": {
        "id": "_vojwqsCMnp5"
      },
      "source": [
        "q.add(20)"
      ],
      "execution_count": 16,
      "outputs": []
    },
    {
      "cell_type": "code",
      "metadata": {
        "colab": {
          "base_uri": "https://localhost:8080/"
        },
        "id": "UNoa6hYCOvjm",
        "outputId": "c4aec985-c019-4135-c59d-f22c4031314b"
      },
      "source": [
        "q"
      ],
      "execution_count": 17,
      "outputs": [
        {
          "output_type": "execute_result",
          "data": {
            "text/plain": [
              "{1, 2, 5, 9, 10, 20}"
            ]
          },
          "metadata": {
            "tags": []
          },
          "execution_count": 17
        }
      ]
    },
    {
      "cell_type": "code",
      "metadata": {
        "id": "wpXBoITyOz7r"
      },
      "source": [
        "q.update({30,40,50})"
      ],
      "execution_count": 18,
      "outputs": []
    },
    {
      "cell_type": "code",
      "metadata": {
        "colab": {
          "base_uri": "https://localhost:8080/"
        },
        "id": "15-vJUfiPMdA",
        "outputId": "a80e081b-baee-425f-fe7d-a752b3407970"
      },
      "source": [
        "q"
      ],
      "execution_count": 19,
      "outputs": [
        {
          "output_type": "execute_result",
          "data": {
            "text/plain": [
              "{1, 2, 5, 9, 10, 20, 30, 40, 50}"
            ]
          },
          "metadata": {
            "tags": []
          },
          "execution_count": 19
        }
      ]
    },
    {
      "cell_type": "markdown",
      "metadata": {
        "id": "sfhF3NSzP8MT"
      },
      "source": [
        "###Remove elements from set(set.remove(), set.discard())"
      ]
    },
    {
      "cell_type": "code",
      "metadata": {
        "id": "JEjSCRqTPNcy"
      },
      "source": [
        "q.remove(20)"
      ],
      "execution_count": 20,
      "outputs": []
    },
    {
      "cell_type": "code",
      "metadata": {
        "colab": {
          "base_uri": "https://localhost:8080/"
        },
        "id": "IK7bjFNdQKdX",
        "outputId": "59e29b47-9c1c-4d2e-96d2-bef8176a6ecc"
      },
      "source": [
        "q"
      ],
      "execution_count": 21,
      "outputs": [
        {
          "output_type": "execute_result",
          "data": {
            "text/plain": [
              "{1, 2, 5, 9, 10, 30, 40, 50}"
            ]
          },
          "metadata": {
            "tags": []
          },
          "execution_count": 21
        }
      ]
    },
    {
      "cell_type": "code",
      "metadata": {
        "colab": {
          "base_uri": "https://localhost:8080/",
          "height": 183
        },
        "id": "Z2x1CbE4QLFW",
        "outputId": "aba1b939-d4b9-4a76-a901-2f63592cccef"
      },
      "source": [
        "#raise error if the element is not in the set\n",
        "q.remove(3)"
      ],
      "execution_count": 22,
      "outputs": [
        {
          "output_type": "error",
          "ename": "KeyError",
          "evalue": "ignored",
          "traceback": [
            "\u001b[0;31m---------------------------------------------------------------------------\u001b[0m",
            "\u001b[0;31mKeyError\u001b[0m                                  Traceback (most recent call last)",
            "\u001b[0;32m<ipython-input-22-6eec03a961a2>\u001b[0m in \u001b[0;36m<module>\u001b[0;34m()\u001b[0m\n\u001b[1;32m      1\u001b[0m \u001b[0;31m#raise error if the element is not in the set\u001b[0m\u001b[0;34m\u001b[0m\u001b[0;34m\u001b[0m\u001b[0;34m\u001b[0m\u001b[0m\n\u001b[0;32m----> 2\u001b[0;31m \u001b[0mq\u001b[0m\u001b[0;34m.\u001b[0m\u001b[0mremove\u001b[0m\u001b[0;34m(\u001b[0m\u001b[0;36m3\u001b[0m\u001b[0;34m)\u001b[0m\u001b[0;34m\u001b[0m\u001b[0;34m\u001b[0m\u001b[0m\n\u001b[0m",
            "\u001b[0;31mKeyError\u001b[0m: 3"
          ]
        }
      ]
    },
    {
      "cell_type": "code",
      "metadata": {
        "id": "A25mTm4WQRBz"
      },
      "source": [
        "#no error if the element is not in the set, unlike remove() method\n",
        "q.discard(3)"
      ],
      "execution_count": 23,
      "outputs": []
    },
    {
      "cell_type": "code",
      "metadata": {
        "colab": {
          "base_uri": "https://localhost:8080/"
        },
        "id": "YpFbUw0JQVQO",
        "outputId": "d6142214-b746-42dd-e62c-403f375b96fe"
      },
      "source": [
        "q"
      ],
      "execution_count": 24,
      "outputs": [
        {
          "output_type": "execute_result",
          "data": {
            "text/plain": [
              "{1, 2, 5, 9, 10, 30, 40, 50}"
            ]
          },
          "metadata": {
            "tags": []
          },
          "execution_count": 24
        }
      ]
    },
    {
      "cell_type": "markdown",
      "metadata": {
        "id": "Bu8EADz8QaAL"
      },
      "source": [
        "###Shallow Copy"
      ]
    },
    {
      "cell_type": "code",
      "metadata": {
        "id": "hj6I8F8XQWzE"
      },
      "source": [
        "j = q.copy()"
      ],
      "execution_count": 25,
      "outputs": []
    },
    {
      "cell_type": "code",
      "metadata": {
        "colab": {
          "base_uri": "https://localhost:8080/"
        },
        "id": "CtfkM-3LQePZ",
        "outputId": "0a572825-59ee-42e2-e6b8-19a1918d65e5"
      },
      "source": [
        "j"
      ],
      "execution_count": 26,
      "outputs": [
        {
          "output_type": "execute_result",
          "data": {
            "text/plain": [
              "{1, 2, 5, 9, 10, 30, 40, 50}"
            ]
          },
          "metadata": {
            "tags": []
          },
          "execution_count": 26
        }
      ]
    },
    {
      "cell_type": "code",
      "metadata": {
        "id": "rF1Wnq_HQfRB"
      },
      "source": [
        "j.add(0)"
      ],
      "execution_count": 27,
      "outputs": []
    },
    {
      "cell_type": "code",
      "metadata": {
        "colab": {
          "base_uri": "https://localhost:8080/"
        },
        "id": "KruWxbI-Qhmi",
        "outputId": "4ff0865f-cccd-4221-ca13-47163f1c53e0"
      },
      "source": [
        "j"
      ],
      "execution_count": 28,
      "outputs": [
        {
          "output_type": "execute_result",
          "data": {
            "text/plain": [
              "{0, 1, 2, 5, 9, 10, 30, 40, 50}"
            ]
          },
          "metadata": {
            "tags": []
          },
          "execution_count": 28
        }
      ]
    },
    {
      "cell_type": "code",
      "metadata": {
        "colab": {
          "base_uri": "https://localhost:8080/"
        },
        "id": "JH17ehI_QjII",
        "outputId": "c70126d2-2333-4b55-bf34-fc0d0e7c71c9"
      },
      "source": [
        "q"
      ],
      "execution_count": 29,
      "outputs": [
        {
          "output_type": "execute_result",
          "data": {
            "text/plain": [
              "{1, 2, 5, 9, 10, 30, 40, 50}"
            ]
          },
          "metadata": {
            "tags": []
          },
          "execution_count": 29
        }
      ]
    },
    {
      "cell_type": "code",
      "metadata": {
        "id": "lJpzTRETQnCN"
      },
      "source": [
        "j.discard(10)"
      ],
      "execution_count": 30,
      "outputs": []
    },
    {
      "cell_type": "code",
      "metadata": {
        "colab": {
          "base_uri": "https://localhost:8080/"
        },
        "id": "gMjOknjZQqd-",
        "outputId": "5a4b9223-7955-4709-d913-1e6a0614d3d1"
      },
      "source": [
        "j"
      ],
      "execution_count": 31,
      "outputs": [
        {
          "output_type": "execute_result",
          "data": {
            "text/plain": [
              "{0, 1, 2, 5, 9, 30, 40, 50}"
            ]
          },
          "metadata": {
            "tags": []
          },
          "execution_count": 31
        }
      ]
    },
    {
      "cell_type": "code",
      "metadata": {
        "colab": {
          "base_uri": "https://localhost:8080/"
        },
        "id": "paYAVAcDQrmJ",
        "outputId": "e519e543-0857-4377-f639-2f4d00e56171"
      },
      "source": [
        "q"
      ],
      "execution_count": 32,
      "outputs": [
        {
          "output_type": "execute_result",
          "data": {
            "text/plain": [
              "{1, 2, 5, 9, 10, 30, 40, 50}"
            ]
          },
          "metadata": {
            "tags": []
          },
          "execution_count": 32
        }
      ]
    },
    {
      "cell_type": "code",
      "metadata": {
        "id": "cVpVGqz1QtFz"
      },
      "source": [
        "k = set(q)"
      ],
      "execution_count": 33,
      "outputs": []
    },
    {
      "cell_type": "code",
      "metadata": {
        "colab": {
          "base_uri": "https://localhost:8080/"
        },
        "id": "RcULGP7rQxFS",
        "outputId": "49d33589-9307-41ab-b461-996eea6dd7c5"
      },
      "source": [
        "k"
      ],
      "execution_count": 34,
      "outputs": [
        {
          "output_type": "execute_result",
          "data": {
            "text/plain": [
              "{1, 2, 5, 9, 10, 30, 40, 50}"
            ]
          },
          "metadata": {
            "tags": []
          },
          "execution_count": 34
        }
      ]
    },
    {
      "cell_type": "markdown",
      "metadata": {
        "id": "Kfk-8DtSS_OW"
      },
      "source": [
        "###Set Algebra operations\n",
        "union()\n",
        "\n",
        "intersection()\n",
        "\n",
        "difference() : LEFT JOIN()\n",
        "\n",
        "symmetric_difference() : either one, NOT BOTH\n",
        "\n",
        "issubset()\n",
        "\n",
        "issuperset()\n",
        "\n",
        "isdisjoint() : set A is not included in set B?"
      ]
    },
    {
      "cell_type": "code",
      "metadata": {
        "id": "phGPDizrQytc"
      },
      "source": [
        "blue_eyes = {'Oliva', 'Harry', 'Lily', 'Jack', 'Amelia'}\n",
        "blond_hair = {'Harry', 'Jack', 'Amelia', 'Mia', 'Joshua'}\n",
        "smell_hcn ={'Harry', 'Amelia'}\n",
        "taste_ptc = {'Harry', 'Lily', 'Amelia', 'Lola'}\n",
        "o_blood = {'Mia', 'Joshua', 'Lily', 'Oliva'}\n",
        "b_blood = {'Amelia', 'Jack'}\n",
        "a_blood = {'Harry'}\n",
        "ab_blood = {'Joshua', 'Lola'}"
      ],
      "execution_count": 35,
      "outputs": []
    },
    {
      "cell_type": "code",
      "metadata": {
        "colab": {
          "base_uri": "https://localhost:8080/"
        },
        "id": "PKt0bLZDTKAN",
        "outputId": "b3e79f0c-a92b-4b9a-dad9-e5ffc2c49cca"
      },
      "source": [
        "# people who have blues eyes , blond hair or both\n",
        "blue_eyes.union(blond_hair)"
      ],
      "execution_count": 36,
      "outputs": [
        {
          "output_type": "execute_result",
          "data": {
            "text/plain": [
              "{'Amelia', 'Harry', 'Jack', 'Joshua', 'Lily', 'Mia', 'Oliva'}"
            ]
          },
          "metadata": {
            "tags": []
          },
          "execution_count": 36
        }
      ]
    },
    {
      "cell_type": "code",
      "metadata": {
        "colab": {
          "base_uri": "https://localhost:8080/"
        },
        "id": "g7LiB7f7q1_j",
        "outputId": "608edd49-74b2-418e-c9a2-441efdafd5c5"
      },
      "source": [
        "blue_eyes.union(blond_hair) == blond_hair.union(blue_eyes)"
      ],
      "execution_count": 37,
      "outputs": [
        {
          "output_type": "execute_result",
          "data": {
            "text/plain": [
              "True"
            ]
          },
          "metadata": {
            "tags": []
          },
          "execution_count": 37
        }
      ]
    },
    {
      "cell_type": "code",
      "metadata": {
        "colab": {
          "base_uri": "https://localhost:8080/"
        },
        "id": "PXsPjYmNrRr6",
        "outputId": "ebd0d093-bcac-40dd-9bab-ad654b06b74c"
      },
      "source": [
        "# people with blues eyes and blond hair\n",
        "blue_eyes.intersection(blond_hair)"
      ],
      "execution_count": 38,
      "outputs": [
        {
          "output_type": "execute_result",
          "data": {
            "text/plain": [
              "{'Amelia', 'Harry', 'Jack'}"
            ]
          },
          "metadata": {
            "tags": []
          },
          "execution_count": 38
        }
      ]
    },
    {
      "cell_type": "code",
      "metadata": {
        "colab": {
          "base_uri": "https://localhost:8080/"
        },
        "id": "i4HTu7bYrlNb",
        "outputId": "29c40f2f-9eb5-42fc-bece-3a100e90d822"
      },
      "source": [
        "# people with blue eyes, but don't have blond hair\n",
        "# LEFT JOIN\n",
        "blue_eyes.difference(blond_hair)"
      ],
      "execution_count": 39,
      "outputs": [
        {
          "output_type": "execute_result",
          "data": {
            "text/plain": [
              "{'Lily', 'Oliva'}"
            ]
          },
          "metadata": {
            "tags": []
          },
          "execution_count": 39
        }
      ]
    },
    {
      "cell_type": "code",
      "metadata": {
        "colab": {
          "base_uri": "https://localhost:8080/"
        },
        "id": "9tJ1-w7vtnKW",
        "outputId": "c49a3e56-36fd-4666-b6dd-f90a8c643e83"
      },
      "source": [
        "# people with blond hair, but don't have blue eyes\n",
        "blond_hair.difference(blue_eyes)"
      ],
      "execution_count": 40,
      "outputs": [
        {
          "output_type": "execute_result",
          "data": {
            "text/plain": [
              "{'Joshua', 'Mia'}"
            ]
          },
          "metadata": {
            "tags": []
          },
          "execution_count": 40
        }
      ]
    },
    {
      "cell_type": "code",
      "metadata": {
        "colab": {
          "base_uri": "https://localhost:8080/"
        },
        "id": "rPCvCHsPtw5E",
        "outputId": "3104a812-47ed-4fed-b98f-902a38ccd070"
      },
      "source": [
        "#people who only have blue eyes or blond hair, NOT BOTH\n",
        "blue_eyes.symmetric_difference(blond_hair)"
      ],
      "execution_count": 41,
      "outputs": [
        {
          "output_type": "execute_result",
          "data": {
            "text/plain": [
              "{'Joshua', 'Lily', 'Mia', 'Oliva'}"
            ]
          },
          "metadata": {
            "tags": []
          },
          "execution_count": 41
        }
      ]
    },
    {
      "cell_type": "code",
      "metadata": {
        "colab": {
          "base_uri": "https://localhost:8080/"
        },
        "id": "IJAUyCzTt78N",
        "outputId": "dfd72656-31db-4588-bffb-76313cbaf962"
      },
      "source": [
        "#people who can smell hcn is subset of blond hair?\n",
        "smell_hcn.issubset(blond_hair)"
      ],
      "execution_count": 42,
      "outputs": [
        {
          "output_type": "execute_result",
          "data": {
            "text/plain": [
              "True"
            ]
          },
          "metadata": {
            "tags": []
          },
          "execution_count": 42
        }
      ]
    },
    {
      "cell_type": "code",
      "metadata": {
        "colab": {
          "base_uri": "https://localhost:8080/"
        },
        "id": "lulyZ248uEZ_",
        "outputId": "bd220ba2-8099-4c5e-9742-3b91572e1fc5"
      },
      "source": [
        "#o blood type people not in b blood type people\n",
        "o_blood.isdisjoint(b_blood)"
      ],
      "execution_count": 43,
      "outputs": [
        {
          "output_type": "execute_result",
          "data": {
            "text/plain": [
              "True"
            ]
          },
          "metadata": {
            "tags": []
          },
          "execution_count": 43
        }
      ]
    },
    {
      "cell_type": "code",
      "metadata": {
        "id": "T_9X3inwuRCr"
      },
      "source": [
        ""
      ],
      "execution_count": null,
      "outputs": []
    }
  ]
}