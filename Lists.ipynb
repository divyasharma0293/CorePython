{
  "nbformat": 4,
  "nbformat_minor": 0,
  "metadata": {
    "colab": {
      "name": "Lists.ipynb",
      "provenance": [],
      "authorship_tag": "ABX9TyM9fXLidylNHo100KEzWDjc",
      "include_colab_link": true
    },
    "kernelspec": {
      "name": "python3",
      "display_name": "Python 3"
    },
    "language_info": {
      "name": "python"
    }
  },
  "cells": [
    {
      "cell_type": "markdown",
      "metadata": {
        "id": "view-in-github",
        "colab_type": "text"
      },
      "source": [
        "<a href=\"https://colab.research.google.com/github/divyasharma0293/CorePython/blob/main/Lists.ipynb\" target=\"_parent\"><img src=\"https://colab.research.google.com/assets/colab-badge.svg\" alt=\"Open In Colab\"/></a>"
      ]
    },
    {
      "cell_type": "markdown",
      "metadata": {
        "id": "aGUZw2fW5n8O"
      },
      "source": [
        "#Lists"
      ]
    },
    {
      "cell_type": "markdown",
      "metadata": {
        "id": "3OoIP6Lc5teZ"
      },
      "source": [
        "###index using negative"
      ]
    },
    {
      "cell_type": "code",
      "metadata": {
        "id": "4LMI3MFu5gbj"
      },
      "source": [
        "r = [1,-5,200,-400]"
      ],
      "execution_count": 1,
      "outputs": []
    },
    {
      "cell_type": "code",
      "metadata": {
        "colab": {
          "base_uri": "https://localhost:8080/"
        },
        "id": "SbOcAU0F585x",
        "outputId": "a7b26cbf-cba8-4c6b-9bf2-743bddad719a"
      },
      "source": [
        "r[-1]"
      ],
      "execution_count": 3,
      "outputs": [
        {
          "output_type": "execute_result",
          "data": {
            "text/plain": [
              "-400"
            ]
          },
          "metadata": {
            "tags": []
          },
          "execution_count": 3
        }
      ]
    },
    {
      "cell_type": "code",
      "metadata": {
        "colab": {
          "base_uri": "https://localhost:8080/"
        },
        "id": "Um0Hiv_K59S8",
        "outputId": "75affe07-0101-4290-e050-a8a20d202053"
      },
      "source": [
        "r[2]"
      ],
      "execution_count": 4,
      "outputs": [
        {
          "output_type": "execute_result",
          "data": {
            "text/plain": [
              "200"
            ]
          },
          "metadata": {
            "tags": []
          },
          "execution_count": 4
        }
      ]
    },
    {
      "cell_type": "code",
      "metadata": {
        "colab": {
          "base_uri": "https://localhost:8080/"
        },
        "id": "UtnbCqii6B7J",
        "outputId": "fde20409-560a-4ff5-90dc-e1087971cb19"
      },
      "source": [
        "r[len(r)-1]"
      ],
      "execution_count": 6,
      "outputs": [
        {
          "output_type": "execute_result",
          "data": {
            "text/plain": [
              "-400"
            ]
          },
          "metadata": {
            "tags": []
          },
          "execution_count": 6
        }
      ]
    },
    {
      "cell_type": "code",
      "metadata": {
        "colab": {
          "base_uri": "https://localhost:8080/"
        },
        "id": "05aunhec6Ff3",
        "outputId": "4535bbed-2ac1-420a-9845-aaf4a5a177ec"
      },
      "source": [
        "r[-0]"
      ],
      "execution_count": 7,
      "outputs": [
        {
          "output_type": "execute_result",
          "data": {
            "text/plain": [
              "1"
            ]
          },
          "metadata": {
            "tags": []
          },
          "execution_count": 7
        }
      ]
    },
    {
      "cell_type": "markdown",
      "metadata": {
        "id": "PSCZ6Wtn6S3R"
      },
      "source": [
        "###Slicing"
      ]
    },
    {
      "cell_type": "code",
      "metadata": {
        "colab": {
          "base_uri": "https://localhost:8080/"
        },
        "id": "hjXrGyw76QD0",
        "outputId": "7f0c20ff-3c94-4780-c840-0d82d16c2c99"
      },
      "source": [
        "s = [100, 200, 300, 400]\n",
        "s"
      ],
      "execution_count": 19,
      "outputs": [
        {
          "output_type": "execute_result",
          "data": {
            "text/plain": [
              "[100, 200, 300, 400]"
            ]
          },
          "metadata": {
            "tags": []
          },
          "execution_count": 19
        }
      ]
    },
    {
      "cell_type": "code",
      "metadata": {
        "colab": {
          "base_uri": "https://localhost:8080/"
        },
        "id": "z6erJNHc6ZEs",
        "outputId": "2bdbb4fc-3c03-4260-ddb5-0c0d2391ba9b"
      },
      "source": [
        "s[1:3]"
      ],
      "execution_count": 9,
      "outputs": [
        {
          "output_type": "execute_result",
          "data": {
            "text/plain": [
              "[200, 300]"
            ]
          },
          "metadata": {
            "tags": []
          },
          "execution_count": 9
        }
      ]
    },
    {
      "cell_type": "code",
      "metadata": {
        "colab": {
          "base_uri": "https://localhost:8080/"
        },
        "id": "-pDzKICr6bN1",
        "outputId": "a3acfb0f-3184-4b07-c12e-f7d1fbb96ef6"
      },
      "source": [
        "s[1:]"
      ],
      "execution_count": 10,
      "outputs": [
        {
          "output_type": "execute_result",
          "data": {
            "text/plain": [
              "[200, 300, 400]"
            ]
          },
          "metadata": {
            "tags": []
          },
          "execution_count": 10
        }
      ]
    },
    {
      "cell_type": "code",
      "metadata": {
        "colab": {
          "base_uri": "https://localhost:8080/"
        },
        "id": "LgiluAVP6ifo",
        "outputId": "0b3e81e9-0b88-4ef4-860c-7d4bc52457a1"
      },
      "source": [
        "s[:2]"
      ],
      "execution_count": 11,
      "outputs": [
        {
          "output_type": "execute_result",
          "data": {
            "text/plain": [
              "[100, 200]"
            ]
          },
          "metadata": {
            "tags": []
          },
          "execution_count": 11
        }
      ]
    },
    {
      "cell_type": "code",
      "metadata": {
        "colab": {
          "base_uri": "https://localhost:8080/"
        },
        "id": "IdDDW8-36lhz",
        "outputId": "c93610d3-d4c5-4cb5-e3bf-a38f895583cf"
      },
      "source": [
        "s[:]"
      ],
      "execution_count": 12,
      "outputs": [
        {
          "output_type": "execute_result",
          "data": {
            "text/plain": [
              "[100, 200, 300, 400]"
            ]
          },
          "metadata": {
            "tags": []
          },
          "execution_count": 12
        }
      ]
    },
    {
      "cell_type": "markdown",
      "metadata": {
        "id": "vifTmii06sCK"
      },
      "source": [
        "###Copying List"
      ]
    },
    {
      "cell_type": "code",
      "metadata": {
        "id": "HlP_XdAt6oIo"
      },
      "source": [
        "t = s"
      ],
      "execution_count": 13,
      "outputs": []
    },
    {
      "cell_type": "code",
      "metadata": {
        "colab": {
          "base_uri": "https://localhost:8080/"
        },
        "id": "9lg4djzY6wpm",
        "outputId": "7f4f7ec1-38fc-4eb1-c5fc-8b848ca9839d"
      },
      "source": [
        "t is s"
      ],
      "execution_count": 15,
      "outputs": [
        {
          "output_type": "execute_result",
          "data": {
            "text/plain": [
              "True"
            ]
          },
          "metadata": {
            "tags": []
          },
          "execution_count": 15
        }
      ]
    },
    {
      "cell_type": "code",
      "metadata": {
        "id": "c3PF1xXH6xMX"
      },
      "source": [
        "t = s[:]"
      ],
      "execution_count": 16,
      "outputs": []
    },
    {
      "cell_type": "code",
      "metadata": {
        "colab": {
          "base_uri": "https://localhost:8080/"
        },
        "id": "18f6AFYz62MM",
        "outputId": "ebe9262b-2673-49aa-89f6-48550c7833e5"
      },
      "source": [
        "t is s"
      ],
      "execution_count": 17,
      "outputs": [
        {
          "output_type": "execute_result",
          "data": {
            "text/plain": [
              "False"
            ]
          },
          "metadata": {
            "tags": []
          },
          "execution_count": 17
        }
      ]
    },
    {
      "cell_type": "code",
      "metadata": {
        "colab": {
          "base_uri": "https://localhost:8080/"
        },
        "id": "gUHowx6r633r",
        "outputId": "1edeb3ec-c222-46a5-f181-4dcb37ff1794"
      },
      "source": [
        "t"
      ],
      "execution_count": 18,
      "outputs": [
        {
          "output_type": "execute_result",
          "data": {
            "text/plain": [
              "[100, 200, 300, 400]"
            ]
          },
          "metadata": {
            "tags": []
          },
          "execution_count": 18
        }
      ]
    },
    {
      "cell_type": "code",
      "metadata": {
        "id": "72_2M1k064hD"
      },
      "source": [
        "u = s.copy()"
      ],
      "execution_count": 20,
      "outputs": []
    },
    {
      "cell_type": "code",
      "metadata": {
        "colab": {
          "base_uri": "https://localhost:8080/"
        },
        "id": "BXTMAc6m7H4J",
        "outputId": "af9604d9-8d97-4a8b-9663-ac62e554b31e"
      },
      "source": [
        "u is s"
      ],
      "execution_count": 21,
      "outputs": [
        {
          "output_type": "execute_result",
          "data": {
            "text/plain": [
              "False"
            ]
          },
          "metadata": {
            "tags": []
          },
          "execution_count": 21
        }
      ]
    },
    {
      "cell_type": "code",
      "metadata": {
        "colab": {
          "base_uri": "https://localhost:8080/"
        },
        "id": "lNv-l1Nw7ImH",
        "outputId": "d3e536ce-e41b-4f55-ff34-1c12dda8f116"
      },
      "source": [
        "u"
      ],
      "execution_count": 22,
      "outputs": [
        {
          "output_type": "execute_result",
          "data": {
            "text/plain": [
              "[100, 200, 300, 400]"
            ]
          },
          "metadata": {
            "tags": []
          },
          "execution_count": 22
        }
      ]
    },
    {
      "cell_type": "code",
      "metadata": {
        "id": "FLxd7O4g7K2a"
      },
      "source": [
        "v = list(s)"
      ],
      "execution_count": 23,
      "outputs": []
    },
    {
      "cell_type": "code",
      "metadata": {
        "colab": {
          "base_uri": "https://localhost:8080/"
        },
        "id": "DQCa3RjK7NLE",
        "outputId": "800f604b-d6e7-4606-8170-af601f4f9c9e"
      },
      "source": [
        "v is s"
      ],
      "execution_count": 24,
      "outputs": [
        {
          "output_type": "execute_result",
          "data": {
            "text/plain": [
              "False"
            ]
          },
          "metadata": {
            "tags": []
          },
          "execution_count": 24
        }
      ]
    },
    {
      "cell_type": "markdown",
      "metadata": {
        "id": "EiLqAtjp7Q8K"
      },
      "source": [
        "###Shallow Copy"
      ]
    },
    {
      "cell_type": "code",
      "metadata": {
        "id": "GucrkZvT7OLo"
      },
      "source": [
        "a = [[1,2],[3,4]]"
      ],
      "execution_count": 25,
      "outputs": []
    },
    {
      "cell_type": "code",
      "metadata": {
        "id": "r-Ah8Th87YLQ"
      },
      "source": [
        "b = a[:]"
      ],
      "execution_count": 26,
      "outputs": []
    },
    {
      "cell_type": "code",
      "metadata": {
        "colab": {
          "base_uri": "https://localhost:8080/"
        },
        "id": "jzBCHhbU7Z_b",
        "outputId": "4ab47f20-4f31-44c1-fe3a-942560edc905"
      },
      "source": [
        "b is a "
      ],
      "execution_count": 27,
      "outputs": [
        {
          "output_type": "execute_result",
          "data": {
            "text/plain": [
              "False"
            ]
          },
          "metadata": {
            "tags": []
          },
          "execution_count": 27
        }
      ]
    },
    {
      "cell_type": "code",
      "metadata": {
        "colab": {
          "base_uri": "https://localhost:8080/"
        },
        "id": "iqtZymK87bR5",
        "outputId": "56492f74-70a0-4c53-94e8-9cac803d8e5e"
      },
      "source": [
        "a==b"
      ],
      "execution_count": 28,
      "outputs": [
        {
          "output_type": "execute_result",
          "data": {
            "text/plain": [
              "True"
            ]
          },
          "metadata": {
            "tags": []
          },
          "execution_count": 28
        }
      ]
    },
    {
      "cell_type": "code",
      "metadata": {
        "colab": {
          "base_uri": "https://localhost:8080/"
        },
        "id": "Dsed7jld7emV",
        "outputId": "c5cf82da-efef-4629-c93e-6b4e4eb99f54"
      },
      "source": [
        "a[0]"
      ],
      "execution_count": 29,
      "outputs": [
        {
          "output_type": "execute_result",
          "data": {
            "text/plain": [
              "[1, 2]"
            ]
          },
          "metadata": {
            "tags": []
          },
          "execution_count": 29
        }
      ]
    },
    {
      "cell_type": "code",
      "metadata": {
        "colab": {
          "base_uri": "https://localhost:8080/"
        },
        "id": "uw_JOkfG7j4v",
        "outputId": "36dc223f-cb50-4867-ff24-adffb8e1d6c9"
      },
      "source": [
        "b[0]"
      ],
      "execution_count": 30,
      "outputs": [
        {
          "output_type": "execute_result",
          "data": {
            "text/plain": [
              "[1, 2]"
            ]
          },
          "metadata": {
            "tags": []
          },
          "execution_count": 30
        }
      ]
    },
    {
      "cell_type": "markdown",
      "metadata": {
        "id": "nUmhuKaE7lkD"
      },
      "source": [
        "####because of shallow copy, inside elements are using the same address\n",
        "######if there is any changes to elements of a,b element will get changed too "
      ]
    },
    {
      "cell_type": "code",
      "metadata": {
        "colab": {
          "base_uri": "https://localhost:8080/"
        },
        "id": "VQtCHoxk7kvZ",
        "outputId": "7508314e-eefe-4460-d6de-4dad6ba206aa"
      },
      "source": [
        "a[0] is b[0]"
      ],
      "execution_count": 31,
      "outputs": [
        {
          "output_type": "execute_result",
          "data": {
            "text/plain": [
              "True"
            ]
          },
          "metadata": {
            "tags": []
          },
          "execution_count": 31
        }
      ]
    },
    {
      "cell_type": "code",
      "metadata": {
        "id": "TFMbVg7Y8GpD"
      },
      "source": [
        "a[0] = [5,6]"
      ],
      "execution_count": 32,
      "outputs": []
    },
    {
      "cell_type": "code",
      "metadata": {
        "colab": {
          "base_uri": "https://localhost:8080/"
        },
        "id": "8h7N7u118Ksd",
        "outputId": "b35ae530-3dd0-4672-b3cc-13c894318237"
      },
      "source": [
        "b[0]"
      ],
      "execution_count": 33,
      "outputs": [
        {
          "output_type": "execute_result",
          "data": {
            "text/plain": [
              "[1, 2]"
            ]
          },
          "metadata": {
            "tags": []
          },
          "execution_count": 33
        }
      ]
    },
    {
      "cell_type": "code",
      "metadata": {
        "id": "xumNqHeX8Lnz"
      },
      "source": [
        "a[1].append(5)"
      ],
      "execution_count": 34,
      "outputs": []
    },
    {
      "cell_type": "code",
      "metadata": {
        "colab": {
          "base_uri": "https://localhost:8080/"
        },
        "id": "Wn1v2JDT8URt",
        "outputId": "42a08d61-361a-488f-fc92-9db760a94707"
      },
      "source": [
        "a[1]"
      ],
      "execution_count": 35,
      "outputs": [
        {
          "output_type": "execute_result",
          "data": {
            "text/plain": [
              "[3, 4, 5]"
            ]
          },
          "metadata": {
            "tags": []
          },
          "execution_count": 35
        }
      ]
    },
    {
      "cell_type": "code",
      "metadata": {
        "colab": {
          "base_uri": "https://localhost:8080/"
        },
        "id": "5bRyvCrA8VrU",
        "outputId": "3c6dcadd-1acd-48b8-87b8-c16bcb7909ef"
      },
      "source": [
        "b[1]"
      ],
      "execution_count": 36,
      "outputs": [
        {
          "output_type": "execute_result",
          "data": {
            "text/plain": [
              "[3, 4, 5]"
            ]
          },
          "metadata": {
            "tags": []
          },
          "execution_count": 36
        }
      ]
    },
    {
      "cell_type": "code",
      "metadata": {
        "colab": {
          "base_uri": "https://localhost:8080/"
        },
        "id": "hQmvPU-78YFx",
        "outputId": "90062bf9-15bc-460d-a22f-aa1d0eda90a7"
      },
      "source": [
        "a"
      ],
      "execution_count": 37,
      "outputs": [
        {
          "output_type": "execute_result",
          "data": {
            "text/plain": [
              "[[5, 6], [3, 4, 5]]"
            ]
          },
          "metadata": {
            "tags": []
          },
          "execution_count": 37
        }
      ]
    },
    {
      "cell_type": "code",
      "metadata": {
        "colab": {
          "base_uri": "https://localhost:8080/"
        },
        "id": "KdJlQyXF8aZW",
        "outputId": "cf646e8e-066f-4532-dd08-5e99bfa49b4b"
      },
      "source": [
        "b"
      ],
      "execution_count": 38,
      "outputs": [
        {
          "output_type": "execute_result",
          "data": {
            "text/plain": [
              "[[1, 2], [3, 4, 5]]"
            ]
          },
          "metadata": {
            "tags": []
          },
          "execution_count": 38
        }
      ]
    },
    {
      "cell_type": "markdown",
      "metadata": {
        "id": "mDSIs0DP8g4P"
      },
      "source": [
        "###Deep Copy, standard library copy.deepcopy()"
      ]
    },
    {
      "cell_type": "code",
      "metadata": {
        "colab": {
          "base_uri": "https://localhost:8080/"
        },
        "id": "A85bpygv8bBx",
        "outputId": "1506305b-39be-4929-8c54-973d2578b667"
      },
      "source": [
        "a"
      ],
      "execution_count": 39,
      "outputs": [
        {
          "output_type": "execute_result",
          "data": {
            "text/plain": [
              "[[5, 6], [3, 4, 5]]"
            ]
          },
          "metadata": {
            "tags": []
          },
          "execution_count": 39
        }
      ]
    },
    {
      "cell_type": "code",
      "metadata": {
        "id": "eJRxelLI8xOw"
      },
      "source": [
        "import copy\n",
        "c = copy.deepcopy(a)"
      ],
      "execution_count": 40,
      "outputs": []
    },
    {
      "cell_type": "code",
      "metadata": {
        "colab": {
          "base_uri": "https://localhost:8080/"
        },
        "id": "BqDUCHrj82DR",
        "outputId": "4af5cfd2-3ae5-4414-826e-34532362567d"
      },
      "source": [
        "c"
      ],
      "execution_count": 41,
      "outputs": [
        {
          "output_type": "execute_result",
          "data": {
            "text/plain": [
              "[[5, 6], [3, 4, 5]]"
            ]
          },
          "metadata": {
            "tags": []
          },
          "execution_count": 41
        }
      ]
    },
    {
      "cell_type": "code",
      "metadata": {
        "id": "MVRyx8Q183V9"
      },
      "source": [
        "a[1].append(7)"
      ],
      "execution_count": 42,
      "outputs": []
    },
    {
      "cell_type": "code",
      "metadata": {
        "id": "iSaPj_t69Go_"
      },
      "source": [
        "a[1].append(8)"
      ],
      "execution_count": null,
      "outputs": []
    },
    {
      "cell_type": "code",
      "metadata": {
        "id": "6ys5ObWR88MH"
      },
      "source": [
        "a[1].append(8)"
      ],
      "execution_count": 44,
      "outputs": []
    },
    {
      "cell_type": "code",
      "metadata": {
        "colab": {
          "base_uri": "https://localhost:8080/"
        },
        "id": "2vlVCgj59AnC",
        "outputId": "3455ad74-354b-4b7d-d487-d70cdb6b5e22"
      },
      "source": [
        "a"
      ],
      "execution_count": 45,
      "outputs": [
        {
          "output_type": "execute_result",
          "data": {
            "text/plain": [
              "[[5, 6], [3, 4, 5, 7, 8, 8]]"
            ]
          },
          "metadata": {
            "tags": []
          },
          "execution_count": 45
        }
      ]
    },
    {
      "cell_type": "code",
      "metadata": {
        "colab": {
          "base_uri": "https://localhost:8080/"
        },
        "id": "6fDF96Bp9ELX",
        "outputId": "2a8dafb0-c7c6-4ff7-afd6-d7d290dd2b81"
      },
      "source": [
        "c"
      ],
      "execution_count": 46,
      "outputs": [
        {
          "output_type": "execute_result",
          "data": {
            "text/plain": [
              "[[5, 6], [3, 4, 5]]"
            ]
          },
          "metadata": {
            "tags": []
          },
          "execution_count": 46
        }
      ]
    },
    {
      "cell_type": "markdown",
      "metadata": {
        "id": "OWVpquhUBGSK"
      },
      "source": [
        "###Multiplication"
      ]
    },
    {
      "cell_type": "code",
      "metadata": {
        "id": "AZqYuu6N9Kpf"
      },
      "source": [
        "d = [21, 37]"
      ],
      "execution_count": 47,
      "outputs": []
    },
    {
      "cell_type": "code",
      "metadata": {
        "id": "SMs-RA2rBfC_"
      },
      "source": [
        "e = d*5"
      ],
      "execution_count": 48,
      "outputs": []
    },
    {
      "cell_type": "code",
      "metadata": {
        "colab": {
          "base_uri": "https://localhost:8080/"
        },
        "id": "RtzjakukCD6c",
        "outputId": "3a05eded-867a-413c-eed9-320fd4d21021"
      },
      "source": [
        "e"
      ],
      "execution_count": 49,
      "outputs": [
        {
          "output_type": "execute_result",
          "data": {
            "text/plain": [
              "[21, 37, 21, 37, 21, 37, 21, 37, 21, 37]"
            ]
          },
          "metadata": {
            "tags": []
          },
          "execution_count": 49
        }
      ]
    },
    {
      "cell_type": "code",
      "metadata": {
        "colab": {
          "base_uri": "https://localhost:8080/"
        },
        "id": "uGK12KSDCEYB",
        "outputId": "14542b1e-894f-48e3-d3fe-373e1e70adf7"
      },
      "source": [
        "[0]*10"
      ],
      "execution_count": 50,
      "outputs": [
        {
          "output_type": "execute_result",
          "data": {
            "text/plain": [
              "[0, 0, 0, 0, 0, 0, 0, 0, 0, 0]"
            ]
          },
          "metadata": {
            "tags": []
          },
          "execution_count": 50
        }
      ]
    },
    {
      "cell_type": "markdown",
      "metadata": {
        "id": "bY6v3471CQCD"
      },
      "source": [
        "####but this will mess up if we try to manipulate a certain index element"
      ]
    },
    {
      "cell_type": "code",
      "metadata": {
        "id": "igMHSvkICKfP"
      },
      "source": [
        "s = [[-1,1]]*5"
      ],
      "execution_count": 51,
      "outputs": []
    },
    {
      "cell_type": "code",
      "metadata": {
        "colab": {
          "base_uri": "https://localhost:8080/"
        },
        "id": "qq1rZhKOCjDN",
        "outputId": "7ac8bd28-f9a4-4eed-a6e0-8196b2559feb"
      },
      "source": [
        "s"
      ],
      "execution_count": 52,
      "outputs": [
        {
          "output_type": "execute_result",
          "data": {
            "text/plain": [
              "[[-1, 1], [-1, 1], [-1, 1], [-1, 1], [-1, 1]]"
            ]
          },
          "metadata": {
            "tags": []
          },
          "execution_count": 52
        }
      ]
    },
    {
      "cell_type": "code",
      "metadata": {
        "id": "08TqNa4zCkM9"
      },
      "source": [
        "s[2].append(3)"
      ],
      "execution_count": 54,
      "outputs": []
    },
    {
      "cell_type": "code",
      "metadata": {
        "colab": {
          "base_uri": "https://localhost:8080/"
        },
        "id": "XoGa9NNICuag",
        "outputId": "125a4bf6-f126-4430-d01d-a2e10fdac181"
      },
      "source": [
        "s"
      ],
      "execution_count": 55,
      "outputs": [
        {
          "output_type": "execute_result",
          "data": {
            "text/plain": [
              "[[-1, 1, 3], [-1, 1, 3], [-1, 1, 3], [-1, 1, 3], [-1, 1, 3]]"
            ]
          },
          "metadata": {
            "tags": []
          },
          "execution_count": 55
        }
      ]
    },
    {
      "cell_type": "markdown",
      "metadata": {
        "id": "XdteIrU9C1C3"
      },
      "source": [
        "###Find element using list.index()"
      ]
    },
    {
      "cell_type": "code",
      "metadata": {
        "id": "9fJbbtsyCwhj"
      },
      "source": [
        "w = 'the quick brown fox jumps over the lazy dog'.split()"
      ],
      "execution_count": 58,
      "outputs": []
    },
    {
      "cell_type": "code",
      "metadata": {
        "colab": {
          "base_uri": "https://localhost:8080/"
        },
        "id": "1UxNI0uMDC3z",
        "outputId": "47cf77dd-89f0-4968-9027-d0f4d4e29e50"
      },
      "source": [
        "w"
      ],
      "execution_count": 59,
      "outputs": [
        {
          "output_type": "execute_result",
          "data": {
            "text/plain": [
              "['the', 'quick', 'brown', 'fox', 'jumps', 'over', 'the', 'lazy', 'dog']"
            ]
          },
          "metadata": {
            "tags": []
          },
          "execution_count": 59
        }
      ]
    },
    {
      "cell_type": "code",
      "metadata": {
        "id": "C9jvzNkMDECB"
      },
      "source": [
        "index = w.index('fox')"
      ],
      "execution_count": 60,
      "outputs": []
    },
    {
      "cell_type": "code",
      "metadata": {
        "colab": {
          "base_uri": "https://localhost:8080/",
          "height": 35
        },
        "id": "2cbi142hDMvb",
        "outputId": "1f7d6ead-1b92-4f53-f4b5-6c3150a9b654"
      },
      "source": [
        "w[index]"
      ],
      "execution_count": 61,
      "outputs": [
        {
          "output_type": "execute_result",
          "data": {
            "application/vnd.google.colaboratory.intrinsic+json": {
              "type": "string"
            },
            "text/plain": [
              "'fox'"
            ]
          },
          "metadata": {
            "tags": []
          },
          "execution_count": 61
        }
      ]
    },
    {
      "cell_type": "markdown",
      "metadata": {
        "id": "iL8ZkptfDUuJ"
      },
      "source": [
        "###count()"
      ]
    },
    {
      "cell_type": "code",
      "metadata": {
        "colab": {
          "base_uri": "https://localhost:8080/"
        },
        "id": "oj4CByQaDOKV",
        "outputId": "6746b1e6-bb71-430a-ba82-829c0404b4ba"
      },
      "source": [
        "w.count('fox')"
      ],
      "execution_count": 62,
      "outputs": [
        {
          "output_type": "execute_result",
          "data": {
            "text/plain": [
              "1"
            ]
          },
          "metadata": {
            "tags": []
          },
          "execution_count": 62
        }
      ]
    },
    {
      "cell_type": "code",
      "metadata": {
        "colab": {
          "base_uri": "https://localhost:8080/"
        },
        "id": "JzZmNJnyDY9D",
        "outputId": "bde3f2c0-3b37-4f47-f5ce-d3c2dcc62354"
      },
      "source": [
        "w.count('the')"
      ],
      "execution_count": 63,
      "outputs": [
        {
          "output_type": "execute_result",
          "data": {
            "text/plain": [
              "2"
            ]
          },
          "metadata": {
            "tags": []
          },
          "execution_count": 63
        }
      ]
    },
    {
      "cell_type": "markdown",
      "metadata": {
        "id": "YsoI_8YADfIB"
      },
      "source": [
        "###in/not in"
      ]
    },
    {
      "cell_type": "code",
      "metadata": {
        "colab": {
          "base_uri": "https://localhost:8080/"
        },
        "id": "ZO4jmDJJDckG",
        "outputId": "87f01ab2-1def-48a7-880d-7b01a0039a6f"
      },
      "source": [
        "37 in [83, 24, 37, 50]"
      ],
      "execution_count": 64,
      "outputs": [
        {
          "output_type": "execute_result",
          "data": {
            "text/plain": [
              "True"
            ]
          },
          "metadata": {
            "tags": []
          },
          "execution_count": 64
        }
      ]
    },
    {
      "cell_type": "markdown",
      "metadata": {
        "id": "IqbfIkVADoXL"
      },
      "source": [
        "###del: remove element from list"
      ]
    },
    {
      "cell_type": "code",
      "metadata": {
        "id": "iBpvA0aBDlrR"
      },
      "source": [
        "u = 'jackdraws love my big sphinx of quartz'.split()"
      ],
      "execution_count": 65,
      "outputs": []
    },
    {
      "cell_type": "code",
      "metadata": {
        "colab": {
          "base_uri": "https://localhost:8080/"
        },
        "id": "A0PKxMgmDwFq",
        "outputId": "f968b284-b113-4de1-e85d-9d94c658f30e"
      },
      "source": [
        "u"
      ],
      "execution_count": 66,
      "outputs": [
        {
          "output_type": "execute_result",
          "data": {
            "text/plain": [
              "['jackdraws', 'love', 'my', 'big', 'sphinx', 'of', 'quartz']"
            ]
          },
          "metadata": {
            "tags": []
          },
          "execution_count": 66
        }
      ]
    },
    {
      "cell_type": "code",
      "metadata": {
        "id": "uMOGnOlZDwoH"
      },
      "source": [
        "del u[3]"
      ],
      "execution_count": 67,
      "outputs": []
    },
    {
      "cell_type": "code",
      "metadata": {
        "colab": {
          "base_uri": "https://localhost:8080/"
        },
        "id": "qNz0J6BkD0l6",
        "outputId": "7a821adb-23c1-4dac-e1c1-43eb999a6bdd"
      },
      "source": [
        "u"
      ],
      "execution_count": 68,
      "outputs": [
        {
          "output_type": "execute_result",
          "data": {
            "text/plain": [
              "['jackdraws', 'love', 'my', 'sphinx', 'of', 'quartz']"
            ]
          },
          "metadata": {
            "tags": []
          },
          "execution_count": 68
        }
      ]
    },
    {
      "cell_type": "code",
      "metadata": {
        "id": "MSucD8_vD1Ln"
      },
      "source": [
        "u.remove('jackdraws')"
      ],
      "execution_count": 69,
      "outputs": []
    },
    {
      "cell_type": "code",
      "metadata": {
        "colab": {
          "base_uri": "https://localhost:8080/"
        },
        "id": "So-5h1ZSD5nh",
        "outputId": "e9002b12-0fde-42a2-b99e-7dcefb9445c2"
      },
      "source": [
        "u"
      ],
      "execution_count": 70,
      "outputs": [
        {
          "output_type": "execute_result",
          "data": {
            "text/plain": [
              "['love', 'my', 'sphinx', 'of', 'quartz']"
            ]
          },
          "metadata": {
            "tags": []
          },
          "execution_count": 70
        }
      ]
    },
    {
      "cell_type": "code",
      "metadata": {
        "id": "_WfocWk4D6Le"
      },
      "source": [
        "del u[u.index('sphinx')]"
      ],
      "execution_count": 71,
      "outputs": []
    },
    {
      "cell_type": "code",
      "metadata": {
        "colab": {
          "base_uri": "https://localhost:8080/"
        },
        "id": "4KrNShnuEBjm",
        "outputId": "53e15bc7-9452-499e-cc05-7d0e936bc095"
      },
      "source": [
        "u"
      ],
      "execution_count": 72,
      "outputs": [
        {
          "output_type": "execute_result",
          "data": {
            "text/plain": [
              "['love', 'my', 'of', 'quartz']"
            ]
          },
          "metadata": {
            "tags": []
          },
          "execution_count": 72
        }
      ]
    },
    {
      "cell_type": "markdown",
      "metadata": {
        "id": "sMwzrjRSEFS-"
      },
      "source": [
        "###list.insert()"
      ]
    },
    {
      "cell_type": "code",
      "metadata": {
        "id": "gcGkeRZ4ECNG"
      },
      "source": [
        "a = 'I love and butter'.split()"
      ],
      "execution_count": 73,
      "outputs": []
    },
    {
      "cell_type": "code",
      "metadata": {
        "id": "6IV_YYLkEO8S"
      },
      "source": [
        "a.insert(2,'bread')"
      ],
      "execution_count": 74,
      "outputs": []
    },
    {
      "cell_type": "code",
      "metadata": {
        "colab": {
          "base_uri": "https://localhost:8080/"
        },
        "id": "eS03DQ8qEUCN",
        "outputId": "279212ba-02a3-440b-9fba-b26c95da0e86"
      },
      "source": [
        "a"
      ],
      "execution_count": 75,
      "outputs": [
        {
          "output_type": "execute_result",
          "data": {
            "text/plain": [
              "['I', 'love', 'bread', 'and', 'butter']"
            ]
          },
          "metadata": {
            "tags": []
          },
          "execution_count": 75
        }
      ]
    },
    {
      "cell_type": "code",
      "metadata": {
        "colab": {
          "base_uri": "https://localhost:8080/",
          "height": 35
        },
        "id": "4H7tGq85EUZl",
        "outputId": "72b5c16d-365c-4ae6-8d3b-b168267c739a"
      },
      "source": [
        "' '.join(a)"
      ],
      "execution_count": 76,
      "outputs": [
        {
          "output_type": "execute_result",
          "data": {
            "application/vnd.google.colaboratory.intrinsic+json": {
              "type": "string"
            },
            "text/plain": [
              "'I love bread and butter'"
            ]
          },
          "metadata": {
            "tags": []
          },
          "execution_count": 76
        }
      ]
    },
    {
      "cell_type": "markdown",
      "metadata": {
        "id": "3IZmEtcXEZtE"
      },
      "source": [
        "###Concat lists"
      ]
    },
    {
      "cell_type": "code",
      "metadata": {
        "id": "gX--H8muEYM6"
      },
      "source": [
        "m = [1,2,3]\n",
        "n = [4,5,6]"
      ],
      "execution_count": 77,
      "outputs": []
    },
    {
      "cell_type": "code",
      "metadata": {
        "id": "Fqlmhp4YEiEz"
      },
      "source": [
        "k = m+n"
      ],
      "execution_count": 78,
      "outputs": []
    },
    {
      "cell_type": "code",
      "metadata": {
        "colab": {
          "base_uri": "https://localhost:8080/"
        },
        "id": "0iM96x_IEjwz",
        "outputId": "62609a6e-5cc8-49d8-ac3e-645b12e1df08"
      },
      "source": [
        "k"
      ],
      "execution_count": 79,
      "outputs": [
        {
          "output_type": "execute_result",
          "data": {
            "text/plain": [
              "[1, 2, 3, 4, 5, 6]"
            ]
          },
          "metadata": {
            "tags": []
          },
          "execution_count": 79
        }
      ]
    },
    {
      "cell_type": "code",
      "metadata": {
        "id": "kewVw33-EkZc"
      },
      "source": [
        "k+=[7,8,9]"
      ],
      "execution_count": 80,
      "outputs": []
    },
    {
      "cell_type": "code",
      "metadata": {
        "colab": {
          "base_uri": "https://localhost:8080/"
        },
        "id": "2KoOyermEndm",
        "outputId": "a87b8d87-7228-4f30-b41b-7a870f404c97"
      },
      "source": [
        "k"
      ],
      "execution_count": 81,
      "outputs": [
        {
          "output_type": "execute_result",
          "data": {
            "text/plain": [
              "[1, 2, 3, 4, 5, 6, 7, 8, 9]"
            ]
          },
          "metadata": {
            "tags": []
          },
          "execution_count": 81
        }
      ]
    },
    {
      "cell_type": "code",
      "metadata": {
        "id": "JlJG_pzkEn56"
      },
      "source": [
        "k.extend([10,11,12])"
      ],
      "execution_count": 82,
      "outputs": []
    },
    {
      "cell_type": "code",
      "metadata": {
        "colab": {
          "base_uri": "https://localhost:8080/"
        },
        "id": "evI4xhyMEtY0",
        "outputId": "9a5b3a02-da76-4cdc-c337-4e46c6df466b"
      },
      "source": [
        "k"
      ],
      "execution_count": 83,
      "outputs": [
        {
          "output_type": "execute_result",
          "data": {
            "text/plain": [
              "[1, 2, 3, 4, 5, 6, 7, 8, 9, 10, 11, 12]"
            ]
          },
          "metadata": {
            "tags": []
          },
          "execution_count": 83
        }
      ]
    },
    {
      "cell_type": "markdown",
      "metadata": {
        "id": "isfdxEqOExa5"
      },
      "source": [
        "###list.reverse() and list.sort()"
      ]
    },
    {
      "cell_type": "code",
      "metadata": {
        "id": "nhxAMUWnEt9V"
      },
      "source": [
        "k.reverse()"
      ],
      "execution_count": 84,
      "outputs": []
    },
    {
      "cell_type": "code",
      "metadata": {
        "colab": {
          "base_uri": "https://localhost:8080/"
        },
        "id": "bO5oySQTE2ZW",
        "outputId": "4dcf5262-39d0-4b82-fe00-c5dad6ff1c68"
      },
      "source": [
        "k"
      ],
      "execution_count": 85,
      "outputs": [
        {
          "output_type": "execute_result",
          "data": {
            "text/plain": [
              "[12, 11, 10, 9, 8, 7, 6, 5, 4, 3, 2, 1]"
            ]
          },
          "metadata": {
            "tags": []
          },
          "execution_count": 85
        }
      ]
    },
    {
      "cell_type": "code",
      "metadata": {
        "id": "NQS2cHBGE3EH"
      },
      "source": [
        "l = [5,4,7,1,2,7]"
      ],
      "execution_count": 86,
      "outputs": []
    },
    {
      "cell_type": "code",
      "metadata": {
        "id": "nVSVTO_FE8a_"
      },
      "source": [
        "l.sort()"
      ],
      "execution_count": 87,
      "outputs": []
    },
    {
      "cell_type": "code",
      "metadata": {
        "colab": {
          "base_uri": "https://localhost:8080/"
        },
        "id": "eyrrd27rE9cU",
        "outputId": "ede27cc9-aa2c-43ef-9040-395e11245c35"
      },
      "source": [
        "l"
      ],
      "execution_count": 88,
      "outputs": [
        {
          "output_type": "execute_result",
          "data": {
            "text/plain": [
              "[1, 2, 4, 5, 7, 7]"
            ]
          },
          "metadata": {
            "tags": []
          },
          "execution_count": 88
        }
      ]
    },
    {
      "cell_type": "code",
      "metadata": {
        "id": "9-PLKe2_E-DH"
      },
      "source": [
        "l.sort(reverse = True)"
      ],
      "execution_count": 89,
      "outputs": []
    },
    {
      "cell_type": "code",
      "metadata": {
        "colab": {
          "base_uri": "https://localhost:8080/"
        },
        "id": "fdzBIbrkFCcd",
        "outputId": "c416ea92-b188-4847-d423-5b8eb7655ad4"
      },
      "source": [
        "l"
      ],
      "execution_count": 90,
      "outputs": [
        {
          "output_type": "execute_result",
          "data": {
            "text/plain": [
              "[7, 7, 5, 4, 2, 1]"
            ]
          },
          "metadata": {
            "tags": []
          },
          "execution_count": 90
        }
      ]
    },
    {
      "cell_type": "markdown",
      "metadata": {
        "id": "dqoHUHI5FF-Z"
      },
      "source": [
        "###sort() using key which can be callable function"
      ]
    },
    {
      "cell_type": "code",
      "metadata": {
        "id": "0GaV9PpRFC36"
      },
      "source": [
        "h = 'hello world today is a beautiful day'.split()"
      ],
      "execution_count": 91,
      "outputs": []
    },
    {
      "cell_type": "code",
      "metadata": {
        "id": "9CQi0w9WFT-s"
      },
      "source": [
        "h.sort(key = len)"
      ],
      "execution_count": 92,
      "outputs": []
    },
    {
      "cell_type": "code",
      "metadata": {
        "colab": {
          "base_uri": "https://localhost:8080/"
        },
        "id": "L-RXCLDlFYNl",
        "outputId": "02ff7493-c5a3-430b-e88c-c8e597e6add3"
      },
      "source": [
        "h"
      ],
      "execution_count": 93,
      "outputs": [
        {
          "output_type": "execute_result",
          "data": {
            "text/plain": [
              "['a', 'is', 'day', 'hello', 'world', 'today', 'beautiful']"
            ]
          },
          "metadata": {
            "tags": []
          },
          "execution_count": 93
        }
      ]
    },
    {
      "cell_type": "code",
      "metadata": {
        "colab": {
          "base_uri": "https://localhost:8080/",
          "height": 35
        },
        "id": "I1L7YxQdFYls",
        "outputId": "18f94125-8e9d-4d01-ca59-fa679a5fb666"
      },
      "source": [
        "' '.join(h)"
      ],
      "execution_count": 94,
      "outputs": [
        {
          "output_type": "execute_result",
          "data": {
            "application/vnd.google.colaboratory.intrinsic+json": {
              "type": "string"
            },
            "text/plain": [
              "'a is day hello world today beautiful'"
            ]
          },
          "metadata": {
            "tags": []
          },
          "execution_count": 94
        }
      ]
    },
    {
      "cell_type": "markdown",
      "metadata": {
        "id": "MrRqm336Fgxu"
      },
      "source": [
        "###sorted() and reversed(): do the function and return as a new list and object "
      ]
    },
    {
      "cell_type": "code",
      "metadata": {
        "id": "HKI9E6laFfvL"
      },
      "source": [
        "x= [4,8,1,2]"
      ],
      "execution_count": 95,
      "outputs": []
    },
    {
      "cell_type": "code",
      "metadata": {
        "id": "Y2EDJPK3Fx02"
      },
      "source": [
        "y = sorted(x)"
      ],
      "execution_count": 96,
      "outputs": []
    },
    {
      "cell_type": "code",
      "metadata": {
        "colab": {
          "base_uri": "https://localhost:8080/"
        },
        "id": "Y0dSXzEeFzDO",
        "outputId": "28104a7e-a3eb-4cc2-eb4d-5e4c820a426e"
      },
      "source": [
        "y"
      ],
      "execution_count": 97,
      "outputs": [
        {
          "output_type": "execute_result",
          "data": {
            "text/plain": [
              "[1, 2, 4, 8]"
            ]
          },
          "metadata": {
            "tags": []
          },
          "execution_count": 97
        }
      ]
    },
    {
      "cell_type": "code",
      "metadata": {
        "id": "5PaalPRsFzuN"
      },
      "source": [
        "p = [9,3,1,0]\n",
        "q = reversed(p)"
      ],
      "execution_count": 98,
      "outputs": []
    },
    {
      "cell_type": "code",
      "metadata": {
        "colab": {
          "base_uri": "https://localhost:8080/"
        },
        "id": "r5UhCI1EF8RF",
        "outputId": "f131d40a-4ed4-44bb-fda7-d66faca50b05"
      },
      "source": [
        "list(q)"
      ],
      "execution_count": 100,
      "outputs": [
        {
          "output_type": "execute_result",
          "data": {
            "text/plain": [
              "[0, 1, 3, 9]"
            ]
          },
          "metadata": {
            "tags": []
          },
          "execution_count": 100
        }
      ]
    }
  ]
}