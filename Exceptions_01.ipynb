{
  "nbformat": 4,
  "nbformat_minor": 0,
  "metadata": {
    "colab": {
      "name": "Exceptions-01.ipynb",
      "provenance": [],
      "authorship_tag": "ABX9TyOEjiQLbEzqF37ZM5pN7zFM",
      "include_colab_link": true
    },
    "kernelspec": {
      "name": "python3",
      "display_name": "Python 3"
    },
    "language_info": {
      "name": "python"
    }
  },
  "cells": [
    {
      "cell_type": "markdown",
      "metadata": {
        "id": "view-in-github",
        "colab_type": "text"
      },
      "source": [
        "<a href=\"https://colab.research.google.com/github/divyasharma0293/CorePython/blob/main/Exceptions_01.ipynb\" target=\"_parent\"><img src=\"https://colab.research.google.com/assets/colab-badge.svg\" alt=\"Open In Colab\"/></a>"
      ]
    },
    {
      "cell_type": "code",
      "metadata": {
        "id": "wj13I1aHU1q9"
      },
      "source": [
        "DIGIT_MAP = {\n",
        "    'zero': '0',\n",
        "    'one': '1',\n",
        "    'two': '2',\n",
        "    'three': '3',\n",
        "    'four':'4',\n",
        "    'five':'5'\n",
        "}"
      ],
      "execution_count": 1,
      "outputs": []
    },
    {
      "cell_type": "code",
      "metadata": {
        "id": "NSOoAaq8VSME"
      },
      "source": [
        "def convert(s):\n",
        "  number = ''\n",
        "  for token in s:\n",
        "    number += DIGIT_MAP[token]\n",
        "  x = int(number)\n",
        "  return x"
      ],
      "execution_count": 2,
      "outputs": []
    },
    {
      "cell_type": "code",
      "metadata": {
        "colab": {
          "base_uri": "https://localhost:8080/"
        },
        "id": "A_SL2wslVxC-",
        "outputId": "e72b67f1-ffe2-45bb-ceff-e97c1d72a135"
      },
      "source": [
        "#call function\n",
        "convert('one two three five'.split())"
      ],
      "execution_count": 3,
      "outputs": [
        {
          "output_type": "execute_result",
          "data": {
            "text/plain": [
              "1235"
            ]
          },
          "metadata": {
            "tags": []
          },
          "execution_count": 3
        }
      ]
    },
    {
      "cell_type": "markdown",
      "metadata": {
        "id": "seDiH-ShWFOV"
      },
      "source": [
        "###Modified to include try except block"
      ]
    },
    {
      "cell_type": "code",
      "metadata": {
        "id": "l-RNoPq5WCHZ"
      },
      "source": [
        "def convert(s):\n",
        "  try:\n",
        "    number = ''\n",
        "    for token in s:\n",
        "      number += DIGIT_MAP[token]\n",
        "    x = int(number)\n",
        "    print(f'conversion succeeded! x={x}')\n",
        "  except KeyError:\n",
        "    print(f'conversion failed!')\n",
        "    x = -1\n",
        "    return x"
      ],
      "execution_count": 8,
      "outputs": []
    },
    {
      "cell_type": "code",
      "metadata": {
        "colab": {
          "base_uri": "https://localhost:8080/"
        },
        "id": "DuRlvs7ZWrMA",
        "outputId": "1408ce4c-fdd3-4141-ce96-04c8d45b3ed9"
      },
      "source": [
        "convert('blah'.split())"
      ],
      "execution_count": 9,
      "outputs": [
        {
          "output_type": "stream",
          "text": [
            "conversion failed!\n"
          ],
          "name": "stdout"
        },
        {
          "output_type": "execute_result",
          "data": {
            "text/plain": [
              "-1"
            ]
          },
          "metadata": {
            "tags": []
          },
          "execution_count": 9
        }
      ]
    },
    {
      "cell_type": "code",
      "metadata": {
        "colab": {
          "base_uri": "https://localhost:8080/"
        },
        "id": "Z6egrNYDW4Hh",
        "outputId": "675e19e5-253b-4e48-f984-73b084a723d4"
      },
      "source": [
        "convert('three four'.split())"
      ],
      "execution_count": 10,
      "outputs": [
        {
          "output_type": "stream",
          "text": [
            "conversion succeeded! x=34\n"
          ],
          "name": "stdout"
        }
      ]
    },
    {
      "cell_type": "code",
      "metadata": {
        "colab": {
          "base_uri": "https://localhost:8080/",
          "height": 287
        },
        "id": "WrnR12xdX2qg",
        "outputId": "cf14c8b1-8eac-4799-f8d7-992b58e85f31"
      },
      "source": [
        "convert(55)"
      ],
      "execution_count": 11,
      "outputs": [
        {
          "output_type": "error",
          "ename": "TypeError",
          "evalue": "ignored",
          "traceback": [
            "\u001b[0;31m---------------------------------------------------------------------------\u001b[0m",
            "\u001b[0;31mTypeError\u001b[0m                                 Traceback (most recent call last)",
            "\u001b[0;32m<ipython-input-11-a2c2dfc9e966>\u001b[0m in \u001b[0;36m<module>\u001b[0;34m()\u001b[0m\n\u001b[0;32m----> 1\u001b[0;31m \u001b[0mconvert\u001b[0m\u001b[0;34m(\u001b[0m\u001b[0;36m55\u001b[0m\u001b[0;34m)\u001b[0m\u001b[0;34m\u001b[0m\u001b[0;34m\u001b[0m\u001b[0m\n\u001b[0m",
            "\u001b[0;32m<ipython-input-8-d37f8a3ba5eb>\u001b[0m in \u001b[0;36mconvert\u001b[0;34m(s)\u001b[0m\n\u001b[1;32m      2\u001b[0m   \u001b[0;32mtry\u001b[0m\u001b[0;34m:\u001b[0m\u001b[0;34m\u001b[0m\u001b[0;34m\u001b[0m\u001b[0m\n\u001b[1;32m      3\u001b[0m     \u001b[0mnumber\u001b[0m \u001b[0;34m=\u001b[0m \u001b[0;34m''\u001b[0m\u001b[0;34m\u001b[0m\u001b[0;34m\u001b[0m\u001b[0m\n\u001b[0;32m----> 4\u001b[0;31m     \u001b[0;32mfor\u001b[0m \u001b[0mtoken\u001b[0m \u001b[0;32min\u001b[0m \u001b[0ms\u001b[0m\u001b[0;34m:\u001b[0m\u001b[0;34m\u001b[0m\u001b[0;34m\u001b[0m\u001b[0m\n\u001b[0m\u001b[1;32m      5\u001b[0m       \u001b[0mnumber\u001b[0m \u001b[0;34m+=\u001b[0m \u001b[0mDIGIT_MAP\u001b[0m\u001b[0;34m[\u001b[0m\u001b[0mtoken\u001b[0m\u001b[0;34m]\u001b[0m\u001b[0;34m\u001b[0m\u001b[0;34m\u001b[0m\u001b[0m\n\u001b[1;32m      6\u001b[0m     \u001b[0mx\u001b[0m \u001b[0;34m=\u001b[0m \u001b[0mint\u001b[0m\u001b[0;34m(\u001b[0m\u001b[0mnumber\u001b[0m\u001b[0;34m)\u001b[0m\u001b[0;34m\u001b[0m\u001b[0;34m\u001b[0m\u001b[0m\n",
            "\u001b[0;31mTypeError\u001b[0m: 'int' object is not iterable"
          ]
        }
      ]
    },
    {
      "cell_type": "markdown",
      "metadata": {
        "id": "-Dp_nNJsXXHa"
      },
      "source": [
        "###Added TypeError in exception block"
      ]
    },
    {
      "cell_type": "code",
      "metadata": {
        "id": "5E8g-eKTXAg_"
      },
      "source": [
        "def convert(s):\n",
        "  try:\n",
        "    number = ''\n",
        "    for token in s:\n",
        "      number += DIGIT_MAP[token]\n",
        "    x = int(number)\n",
        "    print(f'conversion succesfull! x = {x}')\n",
        "  except KeyError:\n",
        "    print(f'conversion error!')\n",
        "    x = -1\n",
        "  except  TypeError:\n",
        "    print(f'conversion failed!')\n",
        "    x = -1\n",
        "  return x\n"
      ],
      "execution_count": 12,
      "outputs": []
    },
    {
      "cell_type": "code",
      "metadata": {
        "colab": {
          "base_uri": "https://localhost:8080/"
        },
        "id": "prNhtdZYYqfE",
        "outputId": "5e8149bb-0fb9-4be6-d822-41c19a145e68"
      },
      "source": [
        "convert(55)"
      ],
      "execution_count": 13,
      "outputs": [
        {
          "output_type": "stream",
          "text": [
            "conversion failed!\n"
          ],
          "name": "stdout"
        },
        {
          "output_type": "execute_result",
          "data": {
            "text/plain": [
              "-1"
            ]
          },
          "metadata": {
            "tags": []
          },
          "execution_count": 13
        }
      ]
    },
    {
      "cell_type": "markdown",
      "metadata": {
        "id": "zfNDjFXZYx1y"
      },
      "source": [
        "###Clean up the code"
      ]
    },
    {
      "cell_type": "code",
      "metadata": {
        "id": "JIkDB964Yr9-"
      },
      "source": [
        "def convert(s):\n",
        "    \"\"\"convert string to integer\n",
        "    \"\"\"\n",
        "    x = -1\n",
        "    try:\n",
        "        number = ''\n",
        "        for token in s:\n",
        "            number += DIGIT_MAP[token]\n",
        "        x = int(number)\n",
        "        print(f'conversion succeeded! x={x}')\n",
        "    except (KeyError,TypeError):\n",
        "        print(f'conversion failed!')      \n",
        "    return x"
      ],
      "execution_count": 14,
      "outputs": []
    },
    {
      "cell_type": "code",
      "metadata": {
        "colab": {
          "base_uri": "https://localhost:8080/"
        },
        "id": "d2iBfghnY7jR",
        "outputId": "4a2a0df5-5d71-4cf3-802a-c192df92ebc8"
      },
      "source": [
        "convert(55)"
      ],
      "execution_count": 15,
      "outputs": [
        {
          "output_type": "stream",
          "text": [
            "conversion failed!\n"
          ],
          "name": "stdout"
        },
        {
          "output_type": "execute_result",
          "data": {
            "text/plain": [
              "-1"
            ]
          },
          "metadata": {
            "tags": []
          },
          "execution_count": 15
        }
      ]
    },
    {
      "cell_type": "code",
      "metadata": {
        "colab": {
          "base_uri": "https://localhost:8080/"
        },
        "id": "9txxYCvwY9-7",
        "outputId": "a10d4a9f-d571-4f12-9c41-c69a2926f760"
      },
      "source": [
        "\n",
        "convert('six eight'.split())"
      ],
      "execution_count": 16,
      "outputs": [
        {
          "output_type": "stream",
          "text": [
            "conversion failed!\n"
          ],
          "name": "stdout"
        },
        {
          "output_type": "execute_result",
          "data": {
            "text/plain": [
              "-1"
            ]
          },
          "metadata": {
            "tags": []
          },
          "execution_count": 16
        }
      ]
    },
    {
      "cell_type": "code",
      "metadata": {
        "colab": {
          "base_uri": "https://localhost:8080/"
        },
        "id": "fHUvjuIbZDLL",
        "outputId": "e0887618-6455-4e05-f960-9107efc700cd"
      },
      "source": [
        "convert('one one three'.split())"
      ],
      "execution_count": 17,
      "outputs": [
        {
          "output_type": "stream",
          "text": [
            "conversion succeeded! x=113\n"
          ],
          "name": "stdout"
        },
        {
          "output_type": "execute_result",
          "data": {
            "text/plain": [
              "113"
            ]
          },
          "metadata": {
            "tags": []
          },
          "execution_count": 17
        }
      ]
    },
    {
      "cell_type": "markdown",
      "metadata": {
        "id": "bLruUVjkZRb7"
      },
      "source": [
        "###Now everything seems working fine, remove print statement"
      ]
    },
    {
      "cell_type": "code",
      "metadata": {
        "colab": {
          "base_uri": "https://localhost:8080/",
          "height": 131
        },
        "id": "tKOJIBchZG2Y",
        "outputId": "8398d3b2-e576-487b-9b73-38be25726756"
      },
      "source": [
        "def convert(s):\n",
        "    \"\"\"convert string to integer\n",
        "    \"\"\"\n",
        "    x = -1\n",
        "    try:\n",
        "        number = ''\n",
        "        for token in s:\n",
        "            number += DIGIT_MAP[token]\n",
        "        x = int(number)\n",
        "    except (KeyError,TypeError):\n",
        "    return x"
      ],
      "execution_count": 19,
      "outputs": [
        {
          "output_type": "error",
          "ename": "IndentationError",
          "evalue": "ignored",
          "traceback": [
            "\u001b[0;36m  File \u001b[0;32m\"<ipython-input-19-2e982a90c256>\"\u001b[0;36m, line \u001b[0;32m11\u001b[0m\n\u001b[0;31m    return x\u001b[0m\n\u001b[0m         ^\u001b[0m\n\u001b[0;31mIndentationError\u001b[0m\u001b[0;31m:\u001b[0m expected an indented block\n"
          ]
        }
      ]
    },
    {
      "cell_type": "markdown",
      "metadata": {
        "id": "7_gncoR7Zom1"
      },
      "source": [
        "###using pass : no op, as python doesn't allow empty statements"
      ]
    },
    {
      "cell_type": "code",
      "metadata": {
        "id": "U3dQghEzZhYJ"
      },
      "source": [
        "def convert(s):\n",
        "    \"\"\"convert string to integer\n",
        "    \"\"\"\n",
        "    x = -1\n",
        "    try:\n",
        "        number = ''\n",
        "        for token in s:\n",
        "            number += DIGIT_MAP[token]\n",
        "        x = int(number)\n",
        "    except (KeyError,TypeError):\n",
        "        pass\n",
        "    return x"
      ],
      "execution_count": 20,
      "outputs": []
    },
    {
      "cell_type": "markdown",
      "metadata": {
        "id": "YRC0B457Zw5j"
      },
      "source": [
        "###Printing out details info for exception, standard error, raise exception"
      ]
    },
    {
      "cell_type": "code",
      "metadata": {
        "id": "dbqWzGWSZwJt"
      },
      "source": [
        "import sys\n",
        "from math import log\n",
        "\n",
        "def convert(s):\n",
        "    \"\"\"convert string to integer\n",
        "    \"\"\"\n",
        "    try:\n",
        "        number = ''\n",
        "        for token in s:\n",
        "            number += DIGIT_MAP[token]\n",
        "        return int(number)\n",
        "    except (KeyError,TypeError) as e:\n",
        "        print(f'Conversion Error: {e!r}', file=sys.stderr)       \n",
        "        raise\n",
        "    \n",
        "    \n",
        "def string_log(s):\n",
        "    v = convert(s)\n",
        "    return log(v)"
      ],
      "execution_count": 21,
      "outputs": []
    }
  ]
}