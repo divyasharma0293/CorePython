{
  "nbformat": 4,
  "nbformat_minor": 0,
  "metadata": {
    "colab": {
      "name": "Untitled34.ipynb",
      "provenance": [],
      "authorship_tag": "ABX9TyNGvlUuo7DvAZiYqHu3rjCZ",
      "include_colab_link": true
    },
    "kernelspec": {
      "name": "python3",
      "display_name": "Python 3"
    },
    "language_info": {
      "name": "python"
    }
  },
  "cells": [
    {
      "cell_type": "markdown",
      "metadata": {
        "id": "view-in-github",
        "colab_type": "text"
      },
      "source": [
        "<a href=\"https://colab.research.google.com/github/divyasharma0293/CorePython/blob/main/Untitled34.ipynb\" target=\"_parent\"><img src=\"https://colab.research.google.com/assets/colab-badge.svg\" alt=\"Open In Colab\"/></a>"
      ]
    },
    {
      "cell_type": "markdown",
      "metadata": {
        "id": "-64MSR84zVr3"
      },
      "source": [
        "# Predict CLTV with linear regression\n",
        "\n",
        "## Table of Contents\n",
        "\n",
        "\n",
        "[Introduction](#Introduction)\n",
        "\n",
        "[Data wrangling](#Data-wrangling)\n",
        "\n",
        "[Exploratory data analysis](#Exploratory-data-analysis)\n",
        "\n",
        "[Data transformation](#Data-transformation)\n",
        "\n",
        "[Data analysis](#Data-analysis)\n",
        "\n",
        "[Predict 3-month CLTV](#Predict-3-month-CLTV)\n",
        "\n",
        "[Summary](#Summary)\n",
        "\n",
        "[References](#References)\n",
        "\n",
        "## Introduction\n",
        "### CLTV\n",
        "Customer Lifetime Value (CLTV) represents the total amount of money a customer is expected to spend in a business during his/her lifetime. This is an important metric to monitor because it helps to make decisions about how much money to invest in acquiring new customers and retaining existing ones.\n",
        "\n",
        "### Dataset\n",
        "This dataset contains information on transactions occurring between 01/12/2016 and 09/12/2017.\n",
        "\n",
        "### Attribute information:\n",
        "\n",
        "invoice no.: Invoice number. Nominal, a 6-digit integral number uniquely assigned to each transaction. \n",
        "product: Product (item) code. Nominal, a 5-digit integral number uniquely assigned to each distinct product.\n",
        "date: Invoice Date. Numeric, the day and time when each transaction was generated\n",
        "customer: Customer number. Nominal, a 5-digit integral number uniquely assigned to each customer\n",
        "country: Country name. Nominal, the name of the country where each customer resides.\n",
        "sales: sales generated per product. Float"
      ]
    },
    {
      "cell_type": "markdown",
      "metadata": {
        "id": "quR9XQkFzkc1"
      },
      "source": [
        "## Data wrangling"
      ]
    },
    {
      "cell_type": "code",
      "metadata": {
        "id": "okX_xYdczoeh"
      },
      "source": [
        "import pandas as pd\n",
        "import numpy as np\n",
        "import datetime as dt\n",
        "import matplotlib.pyplot as plt\n",
        "import seaborn as sns\n",
        "%matplotlib inline"
      ],
      "execution_count": 1,
      "outputs": []
    },
    {
      "cell_type": "code",
      "metadata": {
        "colab": {
          "base_uri": "https://localhost:8080/",
          "height": 206
        },
        "id": "oW25I4HPzs5u",
        "outputId": "6b3562ca-f5aa-4faf-adc1-4f277ef38107"
      },
      "source": [
        "df = pd.read_csv('Sales1.csv')\n",
        "df.head()\n"
      ],
      "execution_count": 2,
      "outputs": [
        {
          "output_type": "execute_result",
          "data": {
            "text/html": [
              "<div>\n",
              "<style scoped>\n",
              "    .dataframe tbody tr th:only-of-type {\n",
              "        vertical-align: middle;\n",
              "    }\n",
              "\n",
              "    .dataframe tbody tr th {\n",
              "        vertical-align: top;\n",
              "    }\n",
              "\n",
              "    .dataframe thead th {\n",
              "        text-align: right;\n",
              "    }\n",
              "</style>\n",
              "<table border=\"1\" class=\"dataframe\">\n",
              "  <thead>\n",
              "    <tr style=\"text-align: right;\">\n",
              "      <th></th>\n",
              "      <th>product</th>\n",
              "      <th>date</th>\n",
              "      <th>invoice no.</th>\n",
              "      <th>customer</th>\n",
              "      <th>country</th>\n",
              "      <th>sales</th>\n",
              "    </tr>\n",
              "  </thead>\n",
              "  <tbody>\n",
              "    <tr>\n",
              "      <th>0</th>\n",
              "      <td>85123A</td>\n",
              "      <td>01-12-2016</td>\n",
              "      <td>60555</td>\n",
              "      <td>17850</td>\n",
              "      <td>United Kingdom</td>\n",
              "      <td>15.30</td>\n",
              "    </tr>\n",
              "    <tr>\n",
              "      <th>1</th>\n",
              "      <td>71053</td>\n",
              "      <td>01-12-2016</td>\n",
              "      <td>60555</td>\n",
              "      <td>17850</td>\n",
              "      <td>United Kingdom</td>\n",
              "      <td>20.34</td>\n",
              "    </tr>\n",
              "    <tr>\n",
              "      <th>2</th>\n",
              "      <td>84406B</td>\n",
              "      <td>01-12-2016</td>\n",
              "      <td>60555</td>\n",
              "      <td>17850</td>\n",
              "      <td>United Kingdom</td>\n",
              "      <td>22.00</td>\n",
              "    </tr>\n",
              "    <tr>\n",
              "      <th>3</th>\n",
              "      <td>84029G</td>\n",
              "      <td>01-12-2016</td>\n",
              "      <td>60555</td>\n",
              "      <td>17850</td>\n",
              "      <td>United Kingdom</td>\n",
              "      <td>20.34</td>\n",
              "    </tr>\n",
              "    <tr>\n",
              "      <th>4</th>\n",
              "      <td>84029E</td>\n",
              "      <td>01-12-2016</td>\n",
              "      <td>60555</td>\n",
              "      <td>17850</td>\n",
              "      <td>United Kingdom</td>\n",
              "      <td>20.34</td>\n",
              "    </tr>\n",
              "  </tbody>\n",
              "</table>\n",
              "</div>"
            ],
            "text/plain": [
              "  product        date  invoice no.  customer         country  sales\n",
              "0  85123A  01-12-2016        60555     17850  United Kingdom  15.30\n",
              "1   71053  01-12-2016        60555     17850  United Kingdom  20.34\n",
              "2  84406B  01-12-2016        60555     17850  United Kingdom  22.00\n",
              "3  84029G  01-12-2016        60555     17850  United Kingdom  20.34\n",
              "4  84029E  01-12-2016        60555     17850  United Kingdom  20.34"
            ]
          },
          "metadata": {},
          "execution_count": 2
        }
      ]
    },
    {
      "cell_type": "code",
      "metadata": {
        "colab": {
          "base_uri": "https://localhost:8080/"
        },
        "id": "PAO7FG_3zvaz",
        "outputId": "d248fc9d-89c4-43ba-b278-4a910c7fc7a3"
      },
      "source": [
        "#df['date']= pd.to_datetime(df['date'])\n",
        "df['date']= pd.to_datetime(df['date'],format='%d-%m-%Y')\n",
        "df.info()"
      ],
      "execution_count": 3,
      "outputs": [
        {
          "output_type": "stream",
          "text": [
            "<class 'pandas.core.frame.DataFrame'>\n",
            "RangeIndex: 406829 entries, 0 to 406828\n",
            "Data columns (total 6 columns):\n",
            " #   Column       Non-Null Count   Dtype         \n",
            "---  ------       --------------   -----         \n",
            " 0   product      406829 non-null  object        \n",
            " 1   date         406829 non-null  datetime64[ns]\n",
            " 2   invoice no.  406829 non-null  int64         \n",
            " 3   customer     406829 non-null  int64         \n",
            " 4   country      406829 non-null  object        \n",
            " 5   sales        406829 non-null  float64       \n",
            "dtypes: datetime64[ns](1), float64(1), int64(2), object(2)\n",
            "memory usage: 18.6+ MB\n"
          ],
          "name": "stdout"
        }
      ]
    },
    {
      "cell_type": "code",
      "metadata": {
        "colab": {
          "base_uri": "https://localhost:8080/"
        },
        "id": "Hlw4t8UXzxTq",
        "outputId": "60f71686-77a1-419e-8668-17aa8c20f316"
      },
      "source": [
        "df.shape"
      ],
      "execution_count": 4,
      "outputs": [
        {
          "output_type": "execute_result",
          "data": {
            "text/plain": [
              "(406829, 6)"
            ]
          },
          "metadata": {},
          "execution_count": 4
        }
      ]
    },
    {
      "cell_type": "markdown",
      "metadata": {
        "id": "7IeDotDZz7QZ"
      },
      "source": [
        "## Exploratory data analysis\n",
        "\n",
        "Let us have a look at the data and decide whether we need any data cleaning and data transformation for further analysis.\n",
        "\n",
        "### NULL Values"
      ]
    },
    {
      "cell_type": "code",
      "metadata": {
        "colab": {
          "base_uri": "https://localhost:8080/"
        },
        "id": "UMoDClZWz2cU",
        "outputId": "34f6a022-4469-4ca8-ea75-d1a94e896c4a"
      },
      "source": [
        "print('Number of missing values in the dataset:', df.isnull().sum().sum())\n",
        "print('Percentage of missing values in the dataset:', df.isnull().sum().sum()*100/(df.shape[0]*df.shape[1]))"
      ],
      "execution_count": 5,
      "outputs": [
        {
          "output_type": "stream",
          "text": [
            "Number of missing values in the dataset: 0\n",
            "Percentage of missing values in the dataset: 0.0\n"
          ],
          "name": "stdout"
        }
      ]
    },
    {
      "cell_type": "markdown",
      "metadata": {
        "id": "adf0mLag0Pe-"
      },
      "source": [
        "Good news!! There are no null values in our dataset."
      ]
    },
    {
      "cell_type": "markdown",
      "metadata": {
        "id": "_Uh7NVjr0Vuz"
      },
      "source": [
        "### Duplicates"
      ]
    },
    {
      "cell_type": "code",
      "metadata": {
        "colab": {
          "base_uri": "https://localhost:8080/"
        },
        "id": "4fQf43bd0Gcp",
        "outputId": "c2772e9b-6073-4e93-d394-c9ec975be5fc"
      },
      "source": [
        "# Check the number of duplicated values\n",
        "df.duplicated().sum().sum()"
      ],
      "execution_count": 6,
      "outputs": [
        {
          "output_type": "execute_result",
          "data": {
            "text/plain": [
              "6679"
            ]
          },
          "metadata": {},
          "execution_count": 6
        }
      ]
    },
    {
      "cell_type": "code",
      "metadata": {
        "id": "jTfAkQ_b0Ygk"
      },
      "source": [
        "# Let's get the duplicated rows\n",
        "duplicates = df[df.duplicated()]"
      ],
      "execution_count": 7,
      "outputs": []
    },
    {
      "cell_type": "code",
      "metadata": {
        "colab": {
          "base_uri": "https://localhost:8080/",
          "height": 676
        },
        "id": "SM3kkBe30bQy",
        "outputId": "bfe1f27f-6cef-4b80-960a-eba4c6186d29"
      },
      "source": [
        "duplicates[:20]"
      ],
      "execution_count": 8,
      "outputs": [
        {
          "output_type": "execute_result",
          "data": {
            "text/html": [
              "<div>\n",
              "<style scoped>\n",
              "    .dataframe tbody tr th:only-of-type {\n",
              "        vertical-align: middle;\n",
              "    }\n",
              "\n",
              "    .dataframe tbody tr th {\n",
              "        vertical-align: top;\n",
              "    }\n",
              "\n",
              "    .dataframe thead th {\n",
              "        text-align: right;\n",
              "    }\n",
              "</style>\n",
              "<table border=\"1\" class=\"dataframe\">\n",
              "  <thead>\n",
              "    <tr style=\"text-align: right;\">\n",
              "      <th></th>\n",
              "      <th>product</th>\n",
              "      <th>date</th>\n",
              "      <th>invoice no.</th>\n",
              "      <th>customer</th>\n",
              "      <th>country</th>\n",
              "      <th>sales</th>\n",
              "    </tr>\n",
              "  </thead>\n",
              "  <tbody>\n",
              "    <tr>\n",
              "      <th>47</th>\n",
              "      <td>22632</td>\n",
              "      <td>2016-12-01</td>\n",
              "      <td>60555</td>\n",
              "      <td>17850</td>\n",
              "      <td>United Kingdom</td>\n",
              "      <td>11.10</td>\n",
              "    </tr>\n",
              "    <tr>\n",
              "      <th>48</th>\n",
              "      <td>22633</td>\n",
              "      <td>2016-12-01</td>\n",
              "      <td>60555</td>\n",
              "      <td>17850</td>\n",
              "      <td>United Kingdom</td>\n",
              "      <td>11.10</td>\n",
              "    </tr>\n",
              "    <tr>\n",
              "      <th>49</th>\n",
              "      <td>85123A</td>\n",
              "      <td>2016-12-01</td>\n",
              "      <td>60555</td>\n",
              "      <td>17850</td>\n",
              "      <td>United Kingdom</td>\n",
              "      <td>15.30</td>\n",
              "    </tr>\n",
              "    <tr>\n",
              "      <th>50</th>\n",
              "      <td>71053</td>\n",
              "      <td>2016-12-01</td>\n",
              "      <td>60555</td>\n",
              "      <td>17850</td>\n",
              "      <td>United Kingdom</td>\n",
              "      <td>20.34</td>\n",
              "    </tr>\n",
              "    <tr>\n",
              "      <th>51</th>\n",
              "      <td>84406B</td>\n",
              "      <td>2016-12-01</td>\n",
              "      <td>60555</td>\n",
              "      <td>17850</td>\n",
              "      <td>United Kingdom</td>\n",
              "      <td>22.00</td>\n",
              "    </tr>\n",
              "    <tr>\n",
              "      <th>61</th>\n",
              "      <td>84029G</td>\n",
              "      <td>2016-12-01</td>\n",
              "      <td>60555</td>\n",
              "      <td>17850</td>\n",
              "      <td>United Kingdom</td>\n",
              "      <td>20.34</td>\n",
              "    </tr>\n",
              "    <tr>\n",
              "      <th>62</th>\n",
              "      <td>84029E</td>\n",
              "      <td>2016-12-01</td>\n",
              "      <td>60555</td>\n",
              "      <td>17850</td>\n",
              "      <td>United Kingdom</td>\n",
              "      <td>20.34</td>\n",
              "    </tr>\n",
              "    <tr>\n",
              "      <th>63</th>\n",
              "      <td>22752</td>\n",
              "      <td>2016-12-01</td>\n",
              "      <td>60555</td>\n",
              "      <td>17850</td>\n",
              "      <td>United Kingdom</td>\n",
              "      <td>15.30</td>\n",
              "    </tr>\n",
              "    <tr>\n",
              "      <th>64</th>\n",
              "      <td>21730</td>\n",
              "      <td>2016-12-01</td>\n",
              "      <td>60555</td>\n",
              "      <td>17850</td>\n",
              "      <td>United Kingdom</td>\n",
              "      <td>25.50</td>\n",
              "    </tr>\n",
              "    <tr>\n",
              "      <th>66</th>\n",
              "      <td>85123A</td>\n",
              "      <td>2016-12-01</td>\n",
              "      <td>60555</td>\n",
              "      <td>17850</td>\n",
              "      <td>United Kingdom</td>\n",
              "      <td>15.30</td>\n",
              "    </tr>\n",
              "    <tr>\n",
              "      <th>67</th>\n",
              "      <td>71053</td>\n",
              "      <td>2016-12-01</td>\n",
              "      <td>60555</td>\n",
              "      <td>17850</td>\n",
              "      <td>United Kingdom</td>\n",
              "      <td>20.34</td>\n",
              "    </tr>\n",
              "    <tr>\n",
              "      <th>68</th>\n",
              "      <td>84406B</td>\n",
              "      <td>2016-12-01</td>\n",
              "      <td>60555</td>\n",
              "      <td>17850</td>\n",
              "      <td>United Kingdom</td>\n",
              "      <td>22.00</td>\n",
              "    </tr>\n",
              "    <tr>\n",
              "      <th>69</th>\n",
              "      <td>20679</td>\n",
              "      <td>2016-12-01</td>\n",
              "      <td>60555</td>\n",
              "      <td>17850</td>\n",
              "      <td>United Kingdom</td>\n",
              "      <td>29.70</td>\n",
              "    </tr>\n",
              "    <tr>\n",
              "      <th>70</th>\n",
              "      <td>37370</td>\n",
              "      <td>2016-12-01</td>\n",
              "      <td>60555</td>\n",
              "      <td>17850</td>\n",
              "      <td>United Kingdom</td>\n",
              "      <td>6.36</td>\n",
              "    </tr>\n",
              "    <tr>\n",
              "      <th>71</th>\n",
              "      <td>21871</td>\n",
              "      <td>2016-12-01</td>\n",
              "      <td>60555</td>\n",
              "      <td>17850</td>\n",
              "      <td>United Kingdom</td>\n",
              "      <td>6.36</td>\n",
              "    </tr>\n",
              "    <tr>\n",
              "      <th>72</th>\n",
              "      <td>21071</td>\n",
              "      <td>2016-12-01</td>\n",
              "      <td>60555</td>\n",
              "      <td>17850</td>\n",
              "      <td>United Kingdom</td>\n",
              "      <td>6.36</td>\n",
              "    </tr>\n",
              "    <tr>\n",
              "      <th>73</th>\n",
              "      <td>21068</td>\n",
              "      <td>2016-12-01</td>\n",
              "      <td>60555</td>\n",
              "      <td>17850</td>\n",
              "      <td>United Kingdom</td>\n",
              "      <td>6.36</td>\n",
              "    </tr>\n",
              "    <tr>\n",
              "      <th>74</th>\n",
              "      <td>82483</td>\n",
              "      <td>2016-12-01</td>\n",
              "      <td>60555</td>\n",
              "      <td>17850</td>\n",
              "      <td>United Kingdom</td>\n",
              "      <td>9.90</td>\n",
              "    </tr>\n",
              "    <tr>\n",
              "      <th>75</th>\n",
              "      <td>82486</td>\n",
              "      <td>2016-12-01</td>\n",
              "      <td>60555</td>\n",
              "      <td>17850</td>\n",
              "      <td>United Kingdom</td>\n",
              "      <td>27.80</td>\n",
              "    </tr>\n",
              "    <tr>\n",
              "      <th>76</th>\n",
              "      <td>82482</td>\n",
              "      <td>2016-12-01</td>\n",
              "      <td>60555</td>\n",
              "      <td>17850</td>\n",
              "      <td>United Kingdom</td>\n",
              "      <td>12.60</td>\n",
              "    </tr>\n",
              "  </tbody>\n",
              "</table>\n",
              "</div>"
            ],
            "text/plain": [
              "   product       date  invoice no.  customer         country  sales\n",
              "47   22632 2016-12-01        60555     17850  United Kingdom  11.10\n",
              "48   22633 2016-12-01        60555     17850  United Kingdom  11.10\n",
              "49  85123A 2016-12-01        60555     17850  United Kingdom  15.30\n",
              "50   71053 2016-12-01        60555     17850  United Kingdom  20.34\n",
              "51  84406B 2016-12-01        60555     17850  United Kingdom  22.00\n",
              "61  84029G 2016-12-01        60555     17850  United Kingdom  20.34\n",
              "62  84029E 2016-12-01        60555     17850  United Kingdom  20.34\n",
              "63   22752 2016-12-01        60555     17850  United Kingdom  15.30\n",
              "64   21730 2016-12-01        60555     17850  United Kingdom  25.50\n",
              "66  85123A 2016-12-01        60555     17850  United Kingdom  15.30\n",
              "67   71053 2016-12-01        60555     17850  United Kingdom  20.34\n",
              "68  84406B 2016-12-01        60555     17850  United Kingdom  22.00\n",
              "69   20679 2016-12-01        60555     17850  United Kingdom  29.70\n",
              "70   37370 2016-12-01        60555     17850  United Kingdom   6.36\n",
              "71   21871 2016-12-01        60555     17850  United Kingdom   6.36\n",
              "72   21071 2016-12-01        60555     17850  United Kingdom   6.36\n",
              "73   21068 2016-12-01        60555     17850  United Kingdom   6.36\n",
              "74   82483 2016-12-01        60555     17850  United Kingdom   9.90\n",
              "75   82486 2016-12-01        60555     17850  United Kingdom  27.80\n",
              "76   82482 2016-12-01        60555     17850  United Kingdom  12.60"
            ]
          },
          "metadata": {},
          "execution_count": 8
        }
      ]
    },
    {
      "cell_type": "markdown",
      "metadata": {
        "id": "KnJg8sad0j1Y"
      },
      "source": [
        "It seems that products, which were bought together in one invoice, were considered as duplicates. However, there are no duplicates, if we look at the invoice no. column"
      ]
    },
    {
      "cell_type": "markdown",
      "metadata": {
        "id": "qf-W0xwI0nAO"
      },
      "source": [
        "### Number of unique customers"
      ]
    },
    {
      "cell_type": "code",
      "metadata": {
        "colab": {
          "base_uri": "https://localhost:8080/"
        },
        "id": "bCCNcfD-0dBV",
        "outputId": "e070ba86-7a9d-4782-fcde-36a915964262"
      },
      "source": [
        "df['customer'].nunique()"
      ],
      "execution_count": 9,
      "outputs": [
        {
          "output_type": "execute_result",
          "data": {
            "text/plain": [
              "4372"
            ]
          },
          "metadata": {},
          "execution_count": 9
        }
      ]
    },
    {
      "cell_type": "markdown",
      "metadata": {
        "id": "jGlXEbMO0vpG"
      },
      "source": [
        "### Number of purchases"
      ]
    },
    {
      "cell_type": "code",
      "metadata": {
        "colab": {
          "base_uri": "https://localhost:8080/"
        },
        "id": "ZwjLEH1l0qXV",
        "outputId": "e6338082-8e76-432c-9ae5-dafc35b48679"
      },
      "source": [
        "df['invoice no.'].nunique()"
      ],
      "execution_count": 10,
      "outputs": [
        {
          "output_type": "execute_result",
          "data": {
            "text/plain": [
              "5868"
            ]
          },
          "metadata": {},
          "execution_count": 10
        }
      ]
    },
    {
      "cell_type": "markdown",
      "metadata": {
        "id": "4quhYWz202b3"
      },
      "source": [
        "### Period of time"
      ]
    },
    {
      "cell_type": "code",
      "metadata": {
        "colab": {
          "base_uri": "https://localhost:8080/"
        },
        "id": "xOZiwcOC0yTT",
        "outputId": "a9d1cdbd-4b44-4026-8e95-610f04ff3ca1"
      },
      "source": [
        "df['date'].min()"
      ],
      "execution_count": 11,
      "outputs": [
        {
          "output_type": "execute_result",
          "data": {
            "text/plain": [
              "Timestamp('2016-12-01 00:00:00')"
            ]
          },
          "metadata": {},
          "execution_count": 11
        }
      ]
    },
    {
      "cell_type": "code",
      "metadata": {
        "colab": {
          "base_uri": "https://localhost:8080/"
        },
        "id": "ktUQ6HxX06LC",
        "outputId": "24cc7751-8fdf-4379-a819-e1172ac3ef7e"
      },
      "source": [
        "df['date'].max()"
      ],
      "execution_count": 12,
      "outputs": [
        {
          "output_type": "execute_result",
          "data": {
            "text/plain": [
              "Timestamp('2017-12-09 00:00:00')"
            ]
          },
          "metadata": {},
          "execution_count": 12
        }
      ]
    },
    {
      "cell_type": "markdown",
      "metadata": {
        "id": "xBy87RxI0_A-"
      },
      "source": [
        "### Country"
      ]
    },
    {
      "cell_type": "code",
      "metadata": {
        "colab": {
          "base_uri": "https://localhost:8080/",
          "height": 363
        },
        "id": "zg8ClFKf08VU",
        "outputId": "ade899e4-89cd-440e-9af0-08ac128323a8"
      },
      "source": [
        "df['country'].value_counts().plot.bar(color='darkorange');"
      ],
      "execution_count": 13,
      "outputs": [
        {
          "output_type": "display_data",
          "data": {
            "image/png": "[encoded data removed]",
            "text/plain": [
              "<Figure size 432x288 with 1 Axes>"
            ]
          },
          "metadata": {
            "needs_background": "light"
          }
        }
      ]
    },
    {
      "cell_type": "code",
      "metadata": {
        "colab": {
          "base_uri": "https://localhost:8080/"
        },
        "id": "CCsd5DfB1BuQ",
        "outputId": "20ec5be4-4297-446d-cd6d-6200041ae6f3"
      },
      "source": [
        "df['country'].nunique()"
      ],
      "execution_count": 14,
      "outputs": [
        {
          "output_type": "execute_result",
          "data": {
            "text/plain": [
              "37"
            ]
          },
          "metadata": {},
          "execution_count": 14
        }
      ]
    },
    {
      "cell_type": "markdown",
      "metadata": {
        "id": "_g2VaFQ_1H6h"
      },
      "source": [
        "So we have approximately 1 year data record of 5,868 purchases for 4,372 unique users made in 37 countries (mostly in the UK)"
      ]
    },
    {
      "cell_type": "markdown",
      "metadata": {
        "id": "8QYYr5JO1P8f"
      },
      "source": [
        "### sales price of the products"
      ]
    },
    {
      "cell_type": "code",
      "metadata": {
        "colab": {
          "base_uri": "https://localhost:8080/",
          "height": 301
        },
        "id": "X1cI23ds1FBw",
        "outputId": "1d12ce26-0ca6-409b-ce72-ef88c4e0c0b8"
      },
      "source": [
        "# Let's look at the sales distribution of the products\n",
        "\n",
        "plt.hist(data=df, x='sales', color='darkorange')\n",
        "plt.xlabel('sales', fontsize=14)\n",
        "plt.ylabel('Count', fontsize=14)\n",
        "plt.title(\"sales distribution\", fontsize=16);"
      ],
      "execution_count": 15,
      "outputs": [
        {
          "output_type": "display_data",
          "data": {
            "image/png": "[encoded data removed]",
            "text/plain": [
              "<Figure size 432x288 with 1 Axes>"
            ]
          },
          "metadata": {
            "needs_background": "light"
          }
        }
      ]
    },
    {
      "cell_type": "markdown",
      "metadata": {
        "id": "eQ1HlH561cuX"
      },
      "source": [
        "It seems that we have negative values. The negative values may be associated with cancelled or refunded orders. Let's remove negative records and outliers and look at the sales distribution."
      ]
    },
    {
      "cell_type": "code",
      "metadata": {
        "colab": {
          "base_uri": "https://localhost:8080/"
        },
        "id": "m7G8LRbJ1Lm8",
        "outputId": "3837aa6b-f3c1-454a-c5a5-e3313e9a878c"
      },
      "source": [
        "df['sales'].describe(percentiles=[.99])"
      ],
      "execution_count": 16,
      "outputs": [
        {
          "output_type": "execute_result",
          "data": {
            "text/plain": [
              "count    406829.000000\n",
              "mean         20.401854\n",
              "std         427.591718\n",
              "min     -168469.600000\n",
              "50%          11.100000\n",
              "99%         199.680000\n",
              "max      168469.600000\n",
              "Name: sales, dtype: float64"
            ]
          },
          "metadata": {},
          "execution_count": 16
        }
      ]
    },
    {
      "cell_type": "code",
      "metadata": {
        "colab": {
          "base_uri": "https://localhost:8080/",
          "height": 301
        },
        "id": "_Snul0oV1hjg",
        "outputId": "0a5391c9-3ac5-4107-a61c-94c4b0af2a4d"
      },
      "source": [
        "bins = np.arange(0, 210, 20)\n",
        "ticks = np.arange(0, 210, 20)\n",
        "plt.hist(data=df, x='sales', bins=bins, color='darkorange')\n",
        "plt.xticks(ticks, ticks)\n",
        "plt.xlabel('sales', fontsize=14)\n",
        "plt.ylabel('Count', fontsize=14)\n",
        "plt.title('Distribution of sales', fontsize=16);"
      ],
      "execution_count": 17,
      "outputs": [
        {
          "output_type": "display_data",
          "data": {
            "image/png": "[encoded data removed]",
            "text/plain": [
              "<Figure size 432x288 with 1 Axes>"
            ]
          },
          "metadata": {
            "needs_background": "light"
          }
        }
      ]
    },
    {
      "cell_type": "markdown",
      "metadata": {
        "id": "i9yb7P7x1sc8"
      },
      "source": [
        "In most cases customers buy for less than 40 euros per order."
      ]
    },
    {
      "cell_type": "markdown",
      "metadata": {
        "id": "Q_ooAl9s1vry"
      },
      "source": [
        "Let's look at the negative values in sales"
      ]
    },
    {
      "cell_type": "code",
      "metadata": {
        "id": "Ntq-oWRl1mEA"
      },
      "source": [
        "neg_sales = df[df['sales']<0]"
      ],
      "execution_count": 18,
      "outputs": []
    },
    {
      "cell_type": "code",
      "metadata": {
        "colab": {
          "base_uri": "https://localhost:8080/",
          "height": 363
        },
        "id": "IjeP9oXZ1yGz",
        "outputId": "ab238972-552c-4b16-da0f-33fa80dbb533"
      },
      "source": [
        "neg_sales.head(10)"
      ],
      "execution_count": 19,
      "outputs": [
        {
          "output_type": "execute_result",
          "data": {
            "text/html": [
              "<div>\n",
              "<style scoped>\n",
              "    .dataframe tbody tr th:only-of-type {\n",
              "        vertical-align: middle;\n",
              "    }\n",
              "\n",
              "    .dataframe tbody tr th {\n",
              "        vertical-align: top;\n",
              "    }\n",
              "\n",
              "    .dataframe thead th {\n",
              "        text-align: right;\n",
              "    }\n",
              "</style>\n",
              "<table border=\"1\" class=\"dataframe\">\n",
              "  <thead>\n",
              "    <tr style=\"text-align: right;\">\n",
              "      <th></th>\n",
              "      <th>product</th>\n",
              "      <th>date</th>\n",
              "      <th>invoice no.</th>\n",
              "      <th>customer</th>\n",
              "      <th>country</th>\n",
              "      <th>sales</th>\n",
              "    </tr>\n",
              "  </thead>\n",
              "  <tbody>\n",
              "    <tr>\n",
              "      <th>141</th>\n",
              "      <td>D</td>\n",
              "      <td>2016-12-01</td>\n",
              "      <td>57232</td>\n",
              "      <td>14527</td>\n",
              "      <td>United Kingdom</td>\n",
              "      <td>-27.50</td>\n",
              "    </tr>\n",
              "    <tr>\n",
              "      <th>154</th>\n",
              "      <td>35004C</td>\n",
              "      <td>2016-12-01</td>\n",
              "      <td>58016</td>\n",
              "      <td>15311</td>\n",
              "      <td>United Kingdom</td>\n",
              "      <td>-4.65</td>\n",
              "    </tr>\n",
              "    <tr>\n",
              "      <th>235</th>\n",
              "      <td>22556</td>\n",
              "      <td>2016-12-01</td>\n",
              "      <td>60253</td>\n",
              "      <td>17548</td>\n",
              "      <td>United Kingdom</td>\n",
              "      <td>-19.80</td>\n",
              "    </tr>\n",
              "    <tr>\n",
              "      <th>236</th>\n",
              "      <td>21984</td>\n",
              "      <td>2016-12-01</td>\n",
              "      <td>60253</td>\n",
              "      <td>17548</td>\n",
              "      <td>United Kingdom</td>\n",
              "      <td>-6.96</td>\n",
              "    </tr>\n",
              "    <tr>\n",
              "      <th>237</th>\n",
              "      <td>21983</td>\n",
              "      <td>2016-12-01</td>\n",
              "      <td>60253</td>\n",
              "      <td>17548</td>\n",
              "      <td>United Kingdom</td>\n",
              "      <td>-6.96</td>\n",
              "    </tr>\n",
              "    <tr>\n",
              "      <th>238</th>\n",
              "      <td>21980</td>\n",
              "      <td>2016-12-01</td>\n",
              "      <td>60253</td>\n",
              "      <td>17548</td>\n",
              "      <td>United Kingdom</td>\n",
              "      <td>-6.96</td>\n",
              "    </tr>\n",
              "    <tr>\n",
              "      <th>239</th>\n",
              "      <td>21484</td>\n",
              "      <td>2016-12-01</td>\n",
              "      <td>60253</td>\n",
              "      <td>17548</td>\n",
              "      <td>United Kingdom</td>\n",
              "      <td>-41.40</td>\n",
              "    </tr>\n",
              "    <tr>\n",
              "      <th>240</th>\n",
              "      <td>22557</td>\n",
              "      <td>2016-12-01</td>\n",
              "      <td>60253</td>\n",
              "      <td>17548</td>\n",
              "      <td>United Kingdom</td>\n",
              "      <td>-19.80</td>\n",
              "    </tr>\n",
              "    <tr>\n",
              "      <th>241</th>\n",
              "      <td>22553</td>\n",
              "      <td>2016-12-01</td>\n",
              "      <td>60253</td>\n",
              "      <td>17548</td>\n",
              "      <td>United Kingdom</td>\n",
              "      <td>-39.60</td>\n",
              "    </tr>\n",
              "    <tr>\n",
              "      <th>938</th>\n",
              "      <td>22960</td>\n",
              "      <td>2016-12-01</td>\n",
              "      <td>60602</td>\n",
              "      <td>17897</td>\n",
              "      <td>United Kingdom</td>\n",
              "      <td>-25.50</td>\n",
              "    </tr>\n",
              "  </tbody>\n",
              "</table>\n",
              "</div>"
            ],
            "text/plain": [
              "    product       date  invoice no.  customer         country  sales\n",
              "141       D 2016-12-01        57232     14527  United Kingdom -27.50\n",
              "154  35004C 2016-12-01        58016     15311  United Kingdom  -4.65\n",
              "235   22556 2016-12-01        60253     17548  United Kingdom -19.80\n",
              "236   21984 2016-12-01        60253     17548  United Kingdom  -6.96\n",
              "237   21983 2016-12-01        60253     17548  United Kingdom  -6.96\n",
              "238   21980 2016-12-01        60253     17548  United Kingdom  -6.96\n",
              "239   21484 2016-12-01        60253     17548  United Kingdom -41.40\n",
              "240   22557 2016-12-01        60253     17548  United Kingdom -19.80\n",
              "241   22553 2016-12-01        60253     17548  United Kingdom -39.60\n",
              "938   22960 2016-12-01        60602     17897  United Kingdom -25.50"
            ]
          },
          "metadata": {},
          "execution_count": 19
        }
      ]
    },
    {
      "cell_type": "code",
      "metadata": {
        "colab": {
          "base_uri": "https://localhost:8080/"
        },
        "id": "r_Q4uzJD10DV",
        "outputId": "d81b0688-d588-4750-feaa-1fa84b33c142"
      },
      "source": [
        "neg_sales.shape"
      ],
      "execution_count": 20,
      "outputs": [
        {
          "output_type": "execute_result",
          "data": {
            "text/plain": [
              "(8905, 6)"
            ]
          },
          "metadata": {},
          "execution_count": 20
        }
      ]
    },
    {
      "cell_type": "code",
      "metadata": {
        "colab": {
          "base_uri": "https://localhost:8080/"
        },
        "id": "qBzVmi2B12s8",
        "outputId": "8e05274c-3a64-40ff-c148-fb0dd2c2a7d1"
      },
      "source": [
        "print(\"The percentage of records with negative sales:\", neg_sales.shape[0]*100/df.shape[0])"
      ],
      "execution_count": 21,
      "outputs": [
        {
          "output_type": "stream",
          "text": [
            "The percentage of records with negative sales: 2.188880340388714\n"
          ],
          "name": "stdout"
        }
      ]
    },
    {
      "cell_type": "markdown",
      "metadata": {
        "id": "Kc0Iwn7s1-iV"
      },
      "source": [
        "There are 8,905 rows with negative sales values, which is about 2% out of the total number of records in the dataframe."
      ]
    },
    {
      "cell_type": "markdown",
      "metadata": {
        "id": "jwFEmfpL2Gak"
      },
      "source": [
        "## Data transformation\n",
        "\n",
        "### Handle negative sales"
      ]
    },
    {
      "cell_type": "code",
      "metadata": {
        "id": "0371vE-o16cg"
      },
      "source": [
        "df = df.loc[df['sales'] > 0]"
      ],
      "execution_count": 22,
      "outputs": []
    },
    {
      "cell_type": "code",
      "metadata": {
        "colab": {
          "base_uri": "https://localhost:8080/",
          "height": 49
        },
        "id": "6zsbIjbF2NvY",
        "outputId": "d2c60f43-8f16-40e4-91f0-ec91a10c9508"
      },
      "source": [
        "# Let's check negative records\n",
        "df[df['sales'] < 0]"
      ],
      "execution_count": 23,
      "outputs": [
        {
          "output_type": "execute_result",
          "data": {
            "text/html": [
              "<div>\n",
              "<style scoped>\n",
              "    .dataframe tbody tr th:only-of-type {\n",
              "        vertical-align: middle;\n",
              "    }\n",
              "\n",
              "    .dataframe tbody tr th {\n",
              "        vertical-align: top;\n",
              "    }\n",
              "\n",
              "    .dataframe thead th {\n",
              "        text-align: right;\n",
              "    }\n",
              "</style>\n",
              "<table border=\"1\" class=\"dataframe\">\n",
              "  <thead>\n",
              "    <tr style=\"text-align: right;\">\n",
              "      <th></th>\n",
              "      <th>product</th>\n",
              "      <th>date</th>\n",
              "      <th>invoice no.</th>\n",
              "      <th>customer</th>\n",
              "      <th>country</th>\n",
              "      <th>sales</th>\n",
              "    </tr>\n",
              "  </thead>\n",
              "  <tbody>\n",
              "  </tbody>\n",
              "</table>\n",
              "</div>"
            ],
            "text/plain": [
              "Empty DataFrame\n",
              "Columns: [product, date, invoice no., customer, country, sales]\n",
              "Index: []"
            ]
          },
          "metadata": {},
          "execution_count": 23
        }
      ]
    },
    {
      "cell_type": "markdown",
      "metadata": {
        "id": "VpwByeA32SaM"
      },
      "source": [
        "### Handle incomplete data\n",
        "\n",
        "Period of time for the purchase records is from December 1, 2016 to December 9, 2017. The data for the last month is incomplete. Because we are planning to predict CLTV for the next 3 months and we will be aggregating data monthly, let us ignore the records for the incomplete month."
      ]
    },
    {
      "cell_type": "code",
      "metadata": {
        "id": "Fw1DtzLp2Phm"
      },
      "source": [
        "df = df.loc[df['date'] < '2017-12-01']"
      ],
      "execution_count": 24,
      "outputs": []
    },
    {
      "cell_type": "code",
      "metadata": {
        "colab": {
          "base_uri": "https://localhost:8080/"
        },
        "id": "XkRVGYzU2V-1",
        "outputId": "e61b6b22-2f52-4ef3-d4e1-a59e49530008"
      },
      "source": [
        "# Let's check the time period\n",
        "df['date'].min(), df['date'].max()"
      ],
      "execution_count": 25,
      "outputs": [
        {
          "output_type": "execute_result",
          "data": {
            "text/plain": [
              "(Timestamp('2016-12-01 00:00:00'), Timestamp('2017-11-30 00:00:00'))"
            ]
          },
          "metadata": {},
          "execution_count": 25
        }
      ]
    },
    {
      "cell_type": "markdown",
      "metadata": {
        "id": "T7B4I-6m2aV3"
      },
      "source": [
        "Let us group the sales by each customer and their order"
      ]
    },
    {
      "cell_type": "code",
      "metadata": {
        "id": "0WFtUYIk2XvA"
      },
      "source": [
        "df_orders = df.groupby(['customer', 'invoice no.']).agg({'sales': sum, 'date': max})"
      ],
      "execution_count": 26,
      "outputs": []
    },
    {
      "cell_type": "code",
      "metadata": {
        "colab": {
          "base_uri": "https://localhost:8080/",
          "height": 331
        },
        "id": "f_PhNepX2dDD",
        "outputId": "17ee0c75-bd0d-4525-c9f2-000135d98684"
      },
      "source": [
        "df_orders.head(8)"
      ],
      "execution_count": 27,
      "outputs": [
        {
          "output_type": "execute_result",
          "data": {
            "text/html": [
              "<div>\n",
              "<style scoped>\n",
              "    .dataframe tbody tr th:only-of-type {\n",
              "        vertical-align: middle;\n",
              "    }\n",
              "\n",
              "    .dataframe tbody tr th {\n",
              "        vertical-align: top;\n",
              "    }\n",
              "\n",
              "    .dataframe thead th {\n",
              "        text-align: right;\n",
              "    }\n",
              "</style>\n",
              "<table border=\"1\" class=\"dataframe\">\n",
              "  <thead>\n",
              "    <tr style=\"text-align: right;\">\n",
              "      <th></th>\n",
              "      <th></th>\n",
              "      <th>sales</th>\n",
              "      <th>date</th>\n",
              "    </tr>\n",
              "    <tr>\n",
              "      <th>customer</th>\n",
              "      <th>invoice no.</th>\n",
              "      <th></th>\n",
              "      <th></th>\n",
              "    </tr>\n",
              "  </thead>\n",
              "  <tbody>\n",
              "    <tr>\n",
              "      <th>12346</th>\n",
              "      <th>55099</th>\n",
              "      <td>77183.60</td>\n",
              "      <td>2017-01-18</td>\n",
              "    </tr>\n",
              "    <tr>\n",
              "      <th rowspan=\"6\" valign=\"top\">12347</th>\n",
              "      <th>55058</th>\n",
              "      <td>711.79</td>\n",
              "      <td>2016-12-07</td>\n",
              "    </tr>\n",
              "    <tr>\n",
              "      <th>55108</th>\n",
              "      <td>475.39</td>\n",
              "      <td>2017-01-26</td>\n",
              "    </tr>\n",
              "    <tr>\n",
              "      <th>55179</th>\n",
              "      <td>636.25</td>\n",
              "      <td>2017-04-07</td>\n",
              "    </tr>\n",
              "    <tr>\n",
              "      <th>55242</th>\n",
              "      <td>382.52</td>\n",
              "      <td>2017-06-09</td>\n",
              "    </tr>\n",
              "    <tr>\n",
              "      <th>55296</th>\n",
              "      <td>584.91</td>\n",
              "      <td>2017-08-02</td>\n",
              "    </tr>\n",
              "    <tr>\n",
              "      <th>55386</th>\n",
              "      <td>1294.32</td>\n",
              "      <td>2017-10-31</td>\n",
              "    </tr>\n",
              "    <tr>\n",
              "      <th>12348</th>\n",
              "      <th>55068</th>\n",
              "      <td>892.80</td>\n",
              "      <td>2016-12-16</td>\n",
              "    </tr>\n",
              "  </tbody>\n",
              "</table>\n",
              "</div>"
            ],
            "text/plain": [
              "                         sales       date\n",
              "customer invoice no.                     \n",
              "12346    55099        77183.60 2017-01-18\n",
              "12347    55058          711.79 2016-12-07\n",
              "         55108          475.39 2017-01-26\n",
              "         55179          636.25 2017-04-07\n",
              "         55242          382.52 2017-06-09\n",
              "         55296          584.91 2017-08-02\n",
              "         55386         1294.32 2017-10-31\n",
              "12348    55068          892.80 2016-12-16"
            ]
          },
          "metadata": {},
          "execution_count": 27
        }
      ]
    },
    {
      "cell_type": "code",
      "metadata": {
        "colab": {
          "base_uri": "https://localhost:8080/"
        },
        "id": "FbtbAfL72fX6",
        "outputId": "55580ab9-2732-405b-8ddb-c1e80cb9dc98"
      },
      "source": [
        "df_orders['date'].max(), df_orders['date'].min()"
      ],
      "execution_count": 28,
      "outputs": [
        {
          "output_type": "execute_result",
          "data": {
            "text/plain": [
              "(Timestamp('2017-11-30 00:00:00'), Timestamp('2016-12-01 00:00:00'))"
            ]
          },
          "metadata": {},
          "execution_count": 28
        }
      ]
    },
    {
      "cell_type": "markdown",
      "metadata": {
        "id": "zpMAHiqL2lFj"
      },
      "source": [
        "## Data analysis\n",
        "\n",
        "In order to predict and calculate CLTV, we have to estimate the frequency, recency, and total amount of purchases by each customer. We are going to determine basic information about each customer's average and lifetime purchase amount, as well as each customer's duration and frequency of purchase."
      ]
    },
    {
      "cell_type": "code",
      "metadata": {
        "id": "c_PKfxyL2iBx"
      },
      "source": [
        "def groupby_mean(x):\n",
        "    return x.mean()\n",
        "\n",
        "def groupby_count(x):\n",
        "    return x.count()\n",
        "\n",
        "def purchase_duration(x):\n",
        "    return (x.max() - x.min()).days\n",
        "\n",
        "def avg_frequency(x):\n",
        "    return (x.max() - x.min()).days / x.count()\n",
        "\n",
        "groupby_mean.__name__ = 'avg'\n",
        "groupby_count.__name__ = 'count'\n",
        "purchase_duration.__name__ = 'purchase_duration'\n",
        "avg_frequency.__name__ = 'purchase_frequency'"
      ],
      "execution_count": 29,
      "outputs": []
    },
    {
      "cell_type": "code",
      "metadata": {
        "id": "Urke93vZ2qXf"
      },
      "source": [
        "\n",
        "df_summary = df_orders.reset_index().groupby('customer').agg({\n",
        "            'sales': [min, max, sum, groupby_mean, groupby_count],\n",
        "            'date': [min, max, purchase_duration, avg_frequency]\n",
        "             })"
      ],
      "execution_count": 30,
      "outputs": []
    },
    {
      "cell_type": "code",
      "metadata": {
        "colab": {
          "base_uri": "https://localhost:8080/",
          "height": 269
        },
        "id": "s29Cv8dN2s2j",
        "outputId": "23cd5ebe-7d28-42be-cd8e-cb0466003927"
      },
      "source": [
        "df_summary.head()"
      ],
      "execution_count": 31,
      "outputs": [
        {
          "output_type": "execute_result",
          "data": {
            "text/html": [
              "<div>\n",
              "<style scoped>\n",
              "    .dataframe tbody tr th:only-of-type {\n",
              "        vertical-align: middle;\n",
              "    }\n",
              "\n",
              "    .dataframe tbody tr th {\n",
              "        vertical-align: top;\n",
              "    }\n",
              "\n",
              "    .dataframe thead tr th {\n",
              "        text-align: left;\n",
              "    }\n",
              "\n",
              "    .dataframe thead tr:last-of-type th {\n",
              "        text-align: right;\n",
              "    }\n",
              "</style>\n",
              "<table border=\"1\" class=\"dataframe\">\n",
              "  <thead>\n",
              "    <tr>\n",
              "      <th></th>\n",
              "      <th colspan=\"5\" halign=\"left\">sales</th>\n",
              "      <th colspan=\"4\" halign=\"left\">date</th>\n",
              "    </tr>\n",
              "    <tr>\n",
              "      <th></th>\n",
              "      <th>min</th>\n",
              "      <th>max</th>\n",
              "      <th>sum</th>\n",
              "      <th>avg</th>\n",
              "      <th>count</th>\n",
              "      <th>min</th>\n",
              "      <th>max</th>\n",
              "      <th>purchase_duration</th>\n",
              "      <th>purchase_frequency</th>\n",
              "    </tr>\n",
              "    <tr>\n",
              "      <th>customer</th>\n",
              "      <th></th>\n",
              "      <th></th>\n",
              "      <th></th>\n",
              "      <th></th>\n",
              "      <th></th>\n",
              "      <th></th>\n",
              "      <th></th>\n",
              "      <th></th>\n",
              "      <th></th>\n",
              "    </tr>\n",
              "  </thead>\n",
              "  <tbody>\n",
              "    <tr>\n",
              "      <th>12346</th>\n",
              "      <td>77183.60</td>\n",
              "      <td>77183.60</td>\n",
              "      <td>77183.60</td>\n",
              "      <td>77183.600000</td>\n",
              "      <td>1.0</td>\n",
              "      <td>2017-01-18</td>\n",
              "      <td>2017-01-18</td>\n",
              "      <td>0</td>\n",
              "      <td>0.000000</td>\n",
              "    </tr>\n",
              "    <tr>\n",
              "      <th>12347</th>\n",
              "      <td>382.52</td>\n",
              "      <td>1294.32</td>\n",
              "      <td>4085.18</td>\n",
              "      <td>680.863333</td>\n",
              "      <td>6.0</td>\n",
              "      <td>2016-12-07</td>\n",
              "      <td>2017-10-31</td>\n",
              "      <td>328</td>\n",
              "      <td>54.666667</td>\n",
              "    </tr>\n",
              "    <tr>\n",
              "      <th>12348</th>\n",
              "      <td>227.44</td>\n",
              "      <td>892.80</td>\n",
              "      <td>1797.24</td>\n",
              "      <td>449.310000</td>\n",
              "      <td>4.0</td>\n",
              "      <td>2016-12-16</td>\n",
              "      <td>2017-09-25</td>\n",
              "      <td>283</td>\n",
              "      <td>70.750000</td>\n",
              "    </tr>\n",
              "    <tr>\n",
              "      <th>12349</th>\n",
              "      <td>1757.55</td>\n",
              "      <td>1757.55</td>\n",
              "      <td>1757.55</td>\n",
              "      <td>1757.550000</td>\n",
              "      <td>1.0</td>\n",
              "      <td>2017-11-21</td>\n",
              "      <td>2017-11-21</td>\n",
              "      <td>0</td>\n",
              "      <td>0.000000</td>\n",
              "    </tr>\n",
              "    <tr>\n",
              "      <th>12350</th>\n",
              "      <td>334.40</td>\n",
              "      <td>334.40</td>\n",
              "      <td>334.40</td>\n",
              "      <td>334.400000</td>\n",
              "      <td>1.0</td>\n",
              "      <td>2017-02-02</td>\n",
              "      <td>2017-02-02</td>\n",
              "      <td>0</td>\n",
              "      <td>0.000000</td>\n",
              "    </tr>\n",
              "  </tbody>\n",
              "</table>\n",
              "</div>"
            ],
            "text/plain": [
              "             sales            ...              date                   \n",
              "               min       max  ... purchase_duration purchase_frequency\n",
              "customer                      ...                                     \n",
              "12346     77183.60  77183.60  ...                 0           0.000000\n",
              "12347       382.52   1294.32  ...               328          54.666667\n",
              "12348       227.44    892.80  ...               283          70.750000\n",
              "12349      1757.55   1757.55  ...                 0           0.000000\n",
              "12350       334.40    334.40  ...                 0           0.000000\n",
              "\n",
              "[5 rows x 9 columns]"
            ]
          },
          "metadata": {},
          "execution_count": 31
        }
      ]
    },
    {
      "cell_type": "markdown",
      "metadata": {
        "id": "L_00ZCTV2yc4"
      },
      "source": [
        "This data gives us an idea on the purchases each customer made.\n",
        "\n",
        "Let us have a closer look at the repeat customers. Particularly, we are interested in the number of purchases and frequency of purchases made."
      ]
    },
    {
      "cell_type": "markdown",
      "metadata": {
        "id": "p4nh6M_E26Vc"
      },
      "source": [
        "### Repeat customers\n",
        "\n",
        "#### Number of purchases"
      ]
    },
    {
      "cell_type": "code",
      "metadata": {
        "id": "BeUVtIzu22f9"
      },
      "source": [
        "df_summary.columns = ['_'.join(col).lower() for col in df_summary.columns]"
      ],
      "execution_count": 32,
      "outputs": []
    },
    {
      "cell_type": "code",
      "metadata": {
        "colab": {
          "base_uri": "https://localhost:8080/",
          "height": 455
        },
        "id": "EccAc59q3HAZ",
        "outputId": "d53746fa-d1c9-40d7-e621-358c0669eff5"
      },
      "source": [
        "df_summary"
      ],
      "execution_count": 33,
      "outputs": [
        {
          "output_type": "execute_result",
          "data": {
            "text/html": [
              "<div>\n",
              "<style scoped>\n",
              "    .dataframe tbody tr th:only-of-type {\n",
              "        vertical-align: middle;\n",
              "    }\n",
              "\n",
              "    .dataframe tbody tr th {\n",
              "        vertical-align: top;\n",
              "    }\n",
              "\n",
              "    .dataframe thead th {\n",
              "        text-align: right;\n",
              "    }\n",
              "</style>\n",
              "<table border=\"1\" class=\"dataframe\">\n",
              "  <thead>\n",
              "    <tr style=\"text-align: right;\">\n",
              "      <th></th>\n",
              "      <th>sales_min</th>\n",
              "      <th>sales_max</th>\n",
              "      <th>sales_sum</th>\n",
              "      <th>sales_avg</th>\n",
              "      <th>sales_count</th>\n",
              "      <th>date_min</th>\n",
              "      <th>date_max</th>\n",
              "      <th>date_purchase_duration</th>\n",
              "      <th>date_purchase_frequency</th>\n",
              "    </tr>\n",
              "    <tr>\n",
              "      <th>customer</th>\n",
              "      <th></th>\n",
              "      <th></th>\n",
              "      <th></th>\n",
              "      <th></th>\n",
              "      <th></th>\n",
              "      <th></th>\n",
              "      <th></th>\n",
              "      <th></th>\n",
              "      <th></th>\n",
              "    </tr>\n",
              "  </thead>\n",
              "  <tbody>\n",
              "    <tr>\n",
              "      <th>12346</th>\n",
              "      <td>77183.60</td>\n",
              "      <td>77183.60</td>\n",
              "      <td>77183.60</td>\n",
              "      <td>77183.600000</td>\n",
              "      <td>1.0</td>\n",
              "      <td>2017-01-18</td>\n",
              "      <td>2017-01-18</td>\n",
              "      <td>0</td>\n",
              "      <td>0.000000</td>\n",
              "    </tr>\n",
              "    <tr>\n",
              "      <th>12347</th>\n",
              "      <td>382.52</td>\n",
              "      <td>1294.32</td>\n",
              "      <td>4085.18</td>\n",
              "      <td>680.863333</td>\n",
              "      <td>6.0</td>\n",
              "      <td>2016-12-07</td>\n",
              "      <td>2017-10-31</td>\n",
              "      <td>328</td>\n",
              "      <td>54.666667</td>\n",
              "    </tr>\n",
              "    <tr>\n",
              "      <th>12348</th>\n",
              "      <td>227.44</td>\n",
              "      <td>892.80</td>\n",
              "      <td>1797.24</td>\n",
              "      <td>449.310000</td>\n",
              "      <td>4.0</td>\n",
              "      <td>2016-12-16</td>\n",
              "      <td>2017-09-25</td>\n",
              "      <td>283</td>\n",
              "      <td>70.750000</td>\n",
              "    </tr>\n",
              "    <tr>\n",
              "      <th>12349</th>\n",
              "      <td>1757.55</td>\n",
              "      <td>1757.55</td>\n",
              "      <td>1757.55</td>\n",
              "      <td>1757.550000</td>\n",
              "      <td>1.0</td>\n",
              "      <td>2017-11-21</td>\n",
              "      <td>2017-11-21</td>\n",
              "      <td>0</td>\n",
              "      <td>0.000000</td>\n",
              "    </tr>\n",
              "    <tr>\n",
              "      <th>12350</th>\n",
              "      <td>334.40</td>\n",
              "      <td>334.40</td>\n",
              "      <td>334.40</td>\n",
              "      <td>334.400000</td>\n",
              "      <td>1.0</td>\n",
              "      <td>2017-02-02</td>\n",
              "      <td>2017-02-02</td>\n",
              "      <td>0</td>\n",
              "      <td>0.000000</td>\n",
              "    </tr>\n",
              "    <tr>\n",
              "      <th>...</th>\n",
              "      <td>...</td>\n",
              "      <td>...</td>\n",
              "      <td>...</td>\n",
              "      <td>...</td>\n",
              "      <td>...</td>\n",
              "      <td>...</td>\n",
              "      <td>...</td>\n",
              "      <td>...</td>\n",
              "      <td>...</td>\n",
              "    </tr>\n",
              "    <tr>\n",
              "      <th>18280</th>\n",
              "      <td>180.60</td>\n",
              "      <td>180.60</td>\n",
              "      <td>180.60</td>\n",
              "      <td>180.600000</td>\n",
              "      <td>1.0</td>\n",
              "      <td>2017-03-07</td>\n",
              "      <td>2017-03-07</td>\n",
              "      <td>0</td>\n",
              "      <td>0.000000</td>\n",
              "    </tr>\n",
              "    <tr>\n",
              "      <th>18281</th>\n",
              "      <td>80.82</td>\n",
              "      <td>80.82</td>\n",
              "      <td>80.82</td>\n",
              "      <td>80.820000</td>\n",
              "      <td>1.0</td>\n",
              "      <td>2017-06-12</td>\n",
              "      <td>2017-06-12</td>\n",
              "      <td>0</td>\n",
              "      <td>0.000000</td>\n",
              "    </tr>\n",
              "    <tr>\n",
              "      <th>18282</th>\n",
              "      <td>100.21</td>\n",
              "      <td>100.21</td>\n",
              "      <td>100.21</td>\n",
              "      <td>100.210000</td>\n",
              "      <td>1.0</td>\n",
              "      <td>2017-08-05</td>\n",
              "      <td>2017-08-05</td>\n",
              "      <td>0</td>\n",
              "      <td>0.000000</td>\n",
              "    </tr>\n",
              "    <tr>\n",
              "      <th>18283</th>\n",
              "      <td>99.47</td>\n",
              "      <td>313.65</td>\n",
              "      <td>1886.88</td>\n",
              "      <td>145.144615</td>\n",
              "      <td>13.0</td>\n",
              "      <td>2017-01-06</td>\n",
              "      <td>2017-11-30</td>\n",
              "      <td>328</td>\n",
              "      <td>25.230769</td>\n",
              "    </tr>\n",
              "    <tr>\n",
              "      <th>18287</th>\n",
              "      <td>70.68</td>\n",
              "      <td>1001.32</td>\n",
              "      <td>1837.28</td>\n",
              "      <td>612.426667</td>\n",
              "      <td>3.0</td>\n",
              "      <td>2017-05-22</td>\n",
              "      <td>2017-10-28</td>\n",
              "      <td>159</td>\n",
              "      <td>53.000000</td>\n",
              "    </tr>\n",
              "  </tbody>\n",
              "</table>\n",
              "<p>4297 rows × 9 columns</p>\n",
              "</div>"
            ],
            "text/plain": [
              "          sales_min  sales_max  ...  date_purchase_duration  date_purchase_frequency\n",
              "customer                        ...                                                 \n",
              "12346      77183.60   77183.60  ...                       0                 0.000000\n",
              "12347        382.52    1294.32  ...                     328                54.666667\n",
              "12348        227.44     892.80  ...                     283                70.750000\n",
              "12349       1757.55    1757.55  ...                       0                 0.000000\n",
              "12350        334.40     334.40  ...                       0                 0.000000\n",
              "...             ...        ...  ...                     ...                      ...\n",
              "18280        180.60     180.60  ...                       0                 0.000000\n",
              "18281         80.82      80.82  ...                       0                 0.000000\n",
              "18282        100.21     100.21  ...                       0                 0.000000\n",
              "18283         99.47     313.65  ...                     328                25.230769\n",
              "18287         70.68    1001.32  ...                     159                53.000000\n",
              "\n",
              "[4297 rows x 9 columns]"
            ]
          },
          "metadata": {},
          "execution_count": 33
        }
      ]
    },
    {
      "cell_type": "code",
      "metadata": {
        "id": "HJhqkwOG3Ix1"
      },
      "source": [
        "df_summary = df_summary.loc[df_summary['date_purchase_duration'] > 0]"
      ],
      "execution_count": 34,
      "outputs": []
    },
    {
      "cell_type": "code",
      "metadata": {
        "colab": {
          "base_uri": "https://localhost:8080/"
        },
        "id": "MhHyifZQxxvJ",
        "outputId": "80b831a1-65db-4999-ac36-43fc184b66a6"
      },
      "source": [
        "df_summary.groupby('sales_count').count()['sales_avg'][:20]"
      ],
      "execution_count": 35,
      "outputs": [
        {
          "output_type": "execute_result",
          "data": {
            "text/plain": [
              "sales_count\n",
              "2.0     840\n",
              "3.0     504\n",
              "4.0     383\n",
              "5.0     219\n",
              "6.0     181\n",
              "7.0     114\n",
              "8.0      86\n",
              "9.0      61\n",
              "10.0     41\n",
              "11.0     47\n",
              "12.0     38\n",
              "13.0     22\n",
              "14.0     20\n",
              "15.0     22\n",
              "16.0     15\n",
              "17.0     19\n",
              "18.0      6\n",
              "19.0     12\n",
              "20.0     10\n",
              "Name: sales_avg, dtype: int64"
            ]
          },
          "metadata": {},
          "execution_count": 35
        }
      ]
    },
    {
      "cell_type": "code",
      "metadata": {
        "colab": {
          "base_uri": "https://localhost:8080/",
          "height": 531
        },
        "id": "sbfVGNmY3LQJ",
        "outputId": "564f5978-2ea4-4cc3-e240-91947d9370bc"
      },
      "source": [
        "# Let's look at the number of purchases\n",
        "ax = df_summary.groupby('sales_count').count()['sales_avg'][:20].plot(\n",
        "        kind='bar', \n",
        "        color='darkorange', \n",
        "        figsize=(10,8), \n",
        "        grid=False)\n",
        "plt.xlabel('Sales count', fontsize=14)\n",
        "plt.ylabel('Number of customers', fontsize=14)\n",
        "plt.title('Number of purchases made by repeat customers', fontsize=16);"
      ],
      "execution_count": 36,
      "outputs": [
        {
          "output_type": "display_data",
          "data": {
            "image/png": "[encoded data removed]",
            "text/plain": [
              "<Figure size 720x576 with 1 Axes>"
            ]
          },
          "metadata": {
            "needs_background": "light"
          }
        }
      ]
    },
    {
      "cell_type": "markdown",
      "metadata": {
        "id": "J7jgogf83QSD"
      },
      "source": [
        "In our analysis, we consider repeat customers who made at least 2 purchases. As you can see, repeat customers tend to make about 12 purchases or less."
      ]
    },
    {
      "cell_type": "markdown",
      "metadata": {
        "id": "7zWyDr9K3Tfh"
      },
      "source": [
        "#### Average number of days between purchases"
      ]
    },
    {
      "cell_type": "code",
      "metadata": {
        "colab": {
          "base_uri": "https://localhost:8080/",
          "height": 519
        },
        "id": "jYP-HVcX3NMr",
        "outputId": "008aee83-35de-437e-8995-37b6edbe7475"
      },
      "source": [
        "ax = df_summary['date_purchase_frequency'].hist(\n",
        "        bins=20,\n",
        "        color='darkorange',\n",
        "        rwidth=0.7,\n",
        "        figsize=(10,8),\n",
        "        grid=False)\n",
        "plt.xlabel('Avearge number of days between purchases', fontsize=14)\n",
        "plt.ylabel('Number of customers', fontsize=14)\n",
        "plt.title('Frequency of purchases made by repeat customers', fontsize=16);"
      ],
      "execution_count": 37,
      "outputs": [
        {
          "output_type": "display_data",
          "data": {
            "image/png": "[encoded data removed]",
            "text/plain": [
              "<Figure size 720x576 with 1 Axes>"
            ]
          },
          "metadata": {
            "needs_background": "light"
          }
        }
      ]
    },
    {
      "cell_type": "markdown",
      "metadata": {
        "id": "abTS6AWA3Z4C"
      },
      "source": [
        "As you can see from this plot, the majority of repeat customers tend to make a purchase every 12 to 50 days."
      ]
    },
    {
      "cell_type": "markdown",
      "metadata": {
        "id": "Ygd4qP4n3a3J"
      },
      "source": [
        "## Predict 3-month CLTV\n",
        "\n",
        "We are going to build a model, which predicts CLTV for 3 months. First, let us slice the data into chunks with 3-month data each and take the last chunk as the target for predictions."
      ]
    },
    {
      "cell_type": "markdown",
      "metadata": {
        "id": "16ZbesQw3d31"
      },
      "source": [
        "#### Prepare data"
      ]
    },
    {
      "cell_type": "code",
      "metadata": {
        "id": "bClVsaXx3Wa-"
      },
      "source": [
        "clv_freq = '3M'"
      ],
      "execution_count": 38,
      "outputs": []
    },
    {
      "cell_type": "code",
      "metadata": {
        "id": "5Fx85d9K3j6U"
      },
      "source": [
        "df_data = df_orders.reset_index().groupby([\n",
        "            'customer',\n",
        "            pd.Grouper(key='date', freq=clv_freq)\n",
        "            ]).agg({'sales': [sum, groupby_mean, groupby_count]})"
      ],
      "execution_count": 39,
      "outputs": []
    },
    {
      "cell_type": "code",
      "metadata": {
        "id": "inWsrrmK3wfh"
      },
      "source": [
        "df_data.columns = ['_'.join(col).lower() for col in df_data.columns]"
      ],
      "execution_count": 40,
      "outputs": []
    },
    {
      "cell_type": "code",
      "metadata": {
        "colab": {
          "base_uri": "https://localhost:8080/",
          "height": 206
        },
        "id": "Jjljrh6t3ytq",
        "outputId": "30fdc43f-8f5f-4095-dfa2-74c31ed49fb1"
      },
      "source": [
        "df_data = df_data.reset_index()\n",
        "df_data.head()"
      ],
      "execution_count": 41,
      "outputs": [
        {
          "output_type": "execute_result",
          "data": {
            "text/html": [
              "<div>\n",
              "<style scoped>\n",
              "    .dataframe tbody tr th:only-of-type {\n",
              "        vertical-align: middle;\n",
              "    }\n",
              "\n",
              "    .dataframe tbody tr th {\n",
              "        vertical-align: top;\n",
              "    }\n",
              "\n",
              "    .dataframe thead th {\n",
              "        text-align: right;\n",
              "    }\n",
              "</style>\n",
              "<table border=\"1\" class=\"dataframe\">\n",
              "  <thead>\n",
              "    <tr style=\"text-align: right;\">\n",
              "      <th></th>\n",
              "      <th>customer</th>\n",
              "      <th>date</th>\n",
              "      <th>sales_sum</th>\n",
              "      <th>sales_avg</th>\n",
              "      <th>sales_count</th>\n",
              "    </tr>\n",
              "  </thead>\n",
              "  <tbody>\n",
              "    <tr>\n",
              "      <th>0</th>\n",
              "      <td>12346</td>\n",
              "      <td>2017-03-31</td>\n",
              "      <td>77183.60</td>\n",
              "      <td>77183.600</td>\n",
              "      <td>1.0</td>\n",
              "    </tr>\n",
              "    <tr>\n",
              "      <th>1</th>\n",
              "      <td>12347</td>\n",
              "      <td>2016-12-31</td>\n",
              "      <td>711.79</td>\n",
              "      <td>711.790</td>\n",
              "      <td>1.0</td>\n",
              "    </tr>\n",
              "    <tr>\n",
              "      <th>2</th>\n",
              "      <td>12347</td>\n",
              "      <td>2017-03-31</td>\n",
              "      <td>475.39</td>\n",
              "      <td>475.390</td>\n",
              "      <td>1.0</td>\n",
              "    </tr>\n",
              "    <tr>\n",
              "      <th>3</th>\n",
              "      <td>12347</td>\n",
              "      <td>2017-06-30</td>\n",
              "      <td>1018.77</td>\n",
              "      <td>509.385</td>\n",
              "      <td>2.0</td>\n",
              "    </tr>\n",
              "    <tr>\n",
              "      <th>4</th>\n",
              "      <td>12347</td>\n",
              "      <td>2017-09-30</td>\n",
              "      <td>584.91</td>\n",
              "      <td>584.910</td>\n",
              "      <td>1.0</td>\n",
              "    </tr>\n",
              "  </tbody>\n",
              "</table>\n",
              "</div>"
            ],
            "text/plain": [
              "   customer       date  sales_sum  sales_avg  sales_count\n",
              "0     12346 2017-03-31   77183.60  77183.600          1.0\n",
              "1     12347 2016-12-31     711.79    711.790          1.0\n",
              "2     12347 2017-03-31     475.39    475.390          1.0\n",
              "3     12347 2017-06-30    1018.77    509.385          2.0\n",
              "4     12347 2017-09-30     584.91    584.910          1.0"
            ]
          },
          "metadata": {},
          "execution_count": 41
        }
      ]
    },
    {
      "cell_type": "code",
      "metadata": {
        "colab": {
          "base_uri": "https://localhost:8080/"
        },
        "id": "SlfRk0le30s4",
        "outputId": "c4fdec67-04e7-483d-d353-8182050c5381"
      },
      "source": [
        "df_data.info()"
      ],
      "execution_count": 42,
      "outputs": [
        {
          "output_type": "stream",
          "text": [
            "<class 'pandas.core.frame.DataFrame'>\n",
            "RangeIndex: 9219 entries, 0 to 9218\n",
            "Data columns (total 5 columns):\n",
            " #   Column       Non-Null Count  Dtype         \n",
            "---  ------       --------------  -----         \n",
            " 0   customer     9219 non-null   int64         \n",
            " 1   date         9219 non-null   datetime64[ns]\n",
            " 2   sales_sum    9219 non-null   float64       \n",
            " 3   sales_avg    9219 non-null   float64       \n",
            " 4   sales_count  9219 non-null   float64       \n",
            "dtypes: datetime64[ns](1), float64(3), int64(1)\n",
            "memory usage: 360.2 KB\n"
          ],
          "name": "stdout"
        }
      ]
    },
    {
      "cell_type": "markdown",
      "metadata": {
        "id": "UMYFZ_FZ34H1"
      },
      "source": [
        "For further simplicity, let us encode date column and define in which month a purchase was made"
      ]
    },
    {
      "cell_type": "code",
      "metadata": {
        "id": "ONWvQPy_33Cv"
      },
      "source": [
        "map_date_month = {str(x)[:10]: 'M_%s'% (i+1)  for i, x in enumerate(\n",
        "                    sorted(df_data.reset_index()['date'].unique(), reverse=True))}"
      ],
      "execution_count": 43,
      "outputs": []
    },
    {
      "cell_type": "code",
      "metadata": {
        "colab": {
          "base_uri": "https://localhost:8080/"
        },
        "id": "iPkMM--Ts3Tc",
        "outputId": "22dd341b-c01a-4dc6-f395-4be75d9f4ad0"
      },
      "source": [
        "df_data.reset_index()['date']"
      ],
      "execution_count": 44,
      "outputs": [
        {
          "output_type": "execute_result",
          "data": {
            "text/plain": [
              "0      2017-03-31\n",
              "1      2016-12-31\n",
              "2      2017-03-31\n",
              "3      2017-06-30\n",
              "4      2017-09-30\n",
              "          ...    \n",
              "9214   2017-06-30\n",
              "9215   2017-09-30\n",
              "9216   2017-12-31\n",
              "9217   2017-06-30\n",
              "9218   2017-12-31\n",
              "Name: date, Length: 9219, dtype: datetime64[ns]"
            ]
          },
          "metadata": {},
          "execution_count": 44
        }
      ]
    },
    {
      "cell_type": "code",
      "metadata": {
        "colab": {
          "base_uri": "https://localhost:8080/"
        },
        "id": "quemwNZa37-1",
        "outputId": "5d19f4c8-a45a-453b-ef87-7262b90a138c"
      },
      "source": [
        "map_date_month"
      ],
      "execution_count": 45,
      "outputs": [
        {
          "output_type": "execute_result",
          "data": {
            "text/plain": [
              "{'2016-12-31': 'M_5',\n",
              " '2017-03-31': 'M_4',\n",
              " '2017-06-30': 'M_3',\n",
              " '2017-09-30': 'M_2',\n",
              " '2017-12-31': 'M_1'}"
            ]
          },
          "metadata": {},
          "execution_count": 45
        }
      ]
    },
    {
      "cell_type": "code",
      "metadata": {
        "id": "n9MOEiT63-Hs"
      },
      "source": [
        "df_data['M'] = df_data['date'].apply(lambda x: map_date_month[str(x)[:10]])"
      ],
      "execution_count": 46,
      "outputs": []
    },
    {
      "cell_type": "code",
      "metadata": {
        "colab": {
          "base_uri": "https://localhost:8080/",
          "height": 206
        },
        "id": "MN0bRLow4AtB",
        "outputId": "b64335a6-0d7a-42c9-8454-fb9d4fc6610a"
      },
      "source": [
        "df_data.head()"
      ],
      "execution_count": 47,
      "outputs": [
        {
          "output_type": "execute_result",
          "data": {
            "text/html": [
              "<div>\n",
              "<style scoped>\n",
              "    .dataframe tbody tr th:only-of-type {\n",
              "        vertical-align: middle;\n",
              "    }\n",
              "\n",
              "    .dataframe tbody tr th {\n",
              "        vertical-align: top;\n",
              "    }\n",
              "\n",
              "    .dataframe thead th {\n",
              "        text-align: right;\n",
              "    }\n",
              "</style>\n",
              "<table border=\"1\" class=\"dataframe\">\n",
              "  <thead>\n",
              "    <tr style=\"text-align: right;\">\n",
              "      <th></th>\n",
              "      <th>customer</th>\n",
              "      <th>date</th>\n",
              "      <th>sales_sum</th>\n",
              "      <th>sales_avg</th>\n",
              "      <th>sales_count</th>\n",
              "      <th>M</th>\n",
              "    </tr>\n",
              "  </thead>\n",
              "  <tbody>\n",
              "    <tr>\n",
              "      <th>0</th>\n",
              "      <td>12346</td>\n",
              "      <td>2017-03-31</td>\n",
              "      <td>77183.60</td>\n",
              "      <td>77183.600</td>\n",
              "      <td>1.0</td>\n",
              "      <td>M_4</td>\n",
              "    </tr>\n",
              "    <tr>\n",
              "      <th>1</th>\n",
              "      <td>12347</td>\n",
              "      <td>2016-12-31</td>\n",
              "      <td>711.79</td>\n",
              "      <td>711.790</td>\n",
              "      <td>1.0</td>\n",
              "      <td>M_5</td>\n",
              "    </tr>\n",
              "    <tr>\n",
              "      <th>2</th>\n",
              "      <td>12347</td>\n",
              "      <td>2017-03-31</td>\n",
              "      <td>475.39</td>\n",
              "      <td>475.390</td>\n",
              "      <td>1.0</td>\n",
              "      <td>M_4</td>\n",
              "    </tr>\n",
              "    <tr>\n",
              "      <th>3</th>\n",
              "      <td>12347</td>\n",
              "      <td>2017-06-30</td>\n",
              "      <td>1018.77</td>\n",
              "      <td>509.385</td>\n",
              "      <td>2.0</td>\n",
              "      <td>M_3</td>\n",
              "    </tr>\n",
              "    <tr>\n",
              "      <th>4</th>\n",
              "      <td>12347</td>\n",
              "      <td>2017-09-30</td>\n",
              "      <td>584.91</td>\n",
              "      <td>584.910</td>\n",
              "      <td>1.0</td>\n",
              "      <td>M_2</td>\n",
              "    </tr>\n",
              "  </tbody>\n",
              "</table>\n",
              "</div>"
            ],
            "text/plain": [
              "   customer       date  sales_sum  sales_avg  sales_count    M\n",
              "0     12346 2017-03-31   77183.60  77183.600          1.0  M_4\n",
              "1     12347 2016-12-31     711.79    711.790          1.0  M_5\n",
              "2     12347 2017-03-31     475.39    475.390          1.0  M_4\n",
              "3     12347 2017-06-30    1018.77    509.385          2.0  M_3\n",
              "4     12347 2017-09-30     584.91    584.910          1.0  M_2"
            ]
          },
          "metadata": {},
          "execution_count": 47
        }
      ]
    },
    {
      "cell_type": "code",
      "metadata": {
        "colab": {
          "base_uri": "https://localhost:8080/"
        },
        "id": "kcYtCV904Ctp",
        "outputId": "b80e18d0-7784-489c-bbe6-9d2f4b2e2555"
      },
      "source": [
        "# Number of purchases made in each chunk\n",
        "df_data['M'].value_counts()"
      ],
      "execution_count": 48,
      "outputs": [
        {
          "output_type": "execute_result",
          "data": {
            "text/plain": [
              "M_1    2406\n",
              "M_2    2161\n",
              "M_3    1991\n",
              "M_4    1776\n",
              "M_5     885\n",
              "Name: M, dtype: int64"
            ]
          },
          "metadata": {},
          "execution_count": 48
        }
      ]
    },
    {
      "cell_type": "markdown",
      "metadata": {
        "id": "PJvknKqs4KJu"
      },
      "source": [
        "We marked data with a chunk/time period it belongs to. Now, let us create a set with features and target variables. In order to train a model, we have to transfrom the data into tabular data, where each row represent a customer and each column represent a feature."
      ]
    },
    {
      "cell_type": "code",
      "metadata": {
        "id": "BaMyjlqR4HtD"
      },
      "source": [
        "df_features = pd.pivot_table(\n",
        "                df_data.loc[df_data['M'] != 'M_1'] \n",
        "                ,\n",
        "                values=['sales_sum', 'sales_avg', 'sales_count'], \n",
        "                columns='M', \n",
        "                index='customer')"
      ],
      "execution_count": 49,
      "outputs": []
    },
    {
      "cell_type": "code",
      "metadata": {
        "colab": {
          "base_uri": "https://localhost:8080/",
          "height": 455
        },
        "id": "UWeBzaJc4Mik",
        "outputId": "03db6b4a-05f7-40fd-8735-fef5cff66551"
      },
      "source": [
        "df_features.reset_index()"
      ],
      "execution_count": 50,
      "outputs": [
        {
          "output_type": "execute_result",
          "data": {
            "text/html": [
              "<div>\n",
              "<style scoped>\n",
              "    .dataframe tbody tr th:only-of-type {\n",
              "        vertical-align: middle;\n",
              "    }\n",
              "\n",
              "    .dataframe tbody tr th {\n",
              "        vertical-align: top;\n",
              "    }\n",
              "\n",
              "    .dataframe thead tr th {\n",
              "        text-align: left;\n",
              "    }\n",
              "</style>\n",
              "<table border=\"1\" class=\"dataframe\">\n",
              "  <thead>\n",
              "    <tr>\n",
              "      <th></th>\n",
              "      <th>customer</th>\n",
              "      <th colspan=\"4\" halign=\"left\">sales_avg</th>\n",
              "      <th colspan=\"4\" halign=\"left\">sales_count</th>\n",
              "      <th colspan=\"4\" halign=\"left\">sales_sum</th>\n",
              "    </tr>\n",
              "    <tr>\n",
              "      <th>M</th>\n",
              "      <th></th>\n",
              "      <th>M_2</th>\n",
              "      <th>M_3</th>\n",
              "      <th>M_4</th>\n",
              "      <th>M_5</th>\n",
              "      <th>M_2</th>\n",
              "      <th>M_3</th>\n",
              "      <th>M_4</th>\n",
              "      <th>M_5</th>\n",
              "      <th>M_2</th>\n",
              "      <th>M_3</th>\n",
              "      <th>M_4</th>\n",
              "      <th>M_5</th>\n",
              "    </tr>\n",
              "  </thead>\n",
              "  <tbody>\n",
              "    <tr>\n",
              "      <th>0</th>\n",
              "      <td>12346</td>\n",
              "      <td>NaN</td>\n",
              "      <td>NaN</td>\n",
              "      <td>77183.600000</td>\n",
              "      <td>NaN</td>\n",
              "      <td>NaN</td>\n",
              "      <td>NaN</td>\n",
              "      <td>1.0</td>\n",
              "      <td>NaN</td>\n",
              "      <td>NaN</td>\n",
              "      <td>NaN</td>\n",
              "      <td>77183.60</td>\n",
              "      <td>NaN</td>\n",
              "    </tr>\n",
              "    <tr>\n",
              "      <th>1</th>\n",
              "      <td>12347</td>\n",
              "      <td>584.910</td>\n",
              "      <td>509.385</td>\n",
              "      <td>475.390000</td>\n",
              "      <td>711.79</td>\n",
              "      <td>1.0</td>\n",
              "      <td>2.0</td>\n",
              "      <td>1.0</td>\n",
              "      <td>1.0</td>\n",
              "      <td>584.91</td>\n",
              "      <td>1018.77</td>\n",
              "      <td>475.39</td>\n",
              "      <td>711.79</td>\n",
              "    </tr>\n",
              "    <tr>\n",
              "      <th>2</th>\n",
              "      <td>12348</td>\n",
              "      <td>310.000</td>\n",
              "      <td>367.000</td>\n",
              "      <td>227.440000</td>\n",
              "      <td>892.80</td>\n",
              "      <td>1.0</td>\n",
              "      <td>1.0</td>\n",
              "      <td>1.0</td>\n",
              "      <td>1.0</td>\n",
              "      <td>310.00</td>\n",
              "      <td>367.00</td>\n",
              "      <td>227.44</td>\n",
              "      <td>892.80</td>\n",
              "    </tr>\n",
              "    <tr>\n",
              "      <th>3</th>\n",
              "      <td>12350</td>\n",
              "      <td>NaN</td>\n",
              "      <td>NaN</td>\n",
              "      <td>334.400000</td>\n",
              "      <td>NaN</td>\n",
              "      <td>NaN</td>\n",
              "      <td>NaN</td>\n",
              "      <td>1.0</td>\n",
              "      <td>NaN</td>\n",
              "      <td>NaN</td>\n",
              "      <td>NaN</td>\n",
              "      <td>334.40</td>\n",
              "      <td>NaN</td>\n",
              "    </tr>\n",
              "    <tr>\n",
              "      <th>4</th>\n",
              "      <td>12352</td>\n",
              "      <td>316.250</td>\n",
              "      <td>NaN</td>\n",
              "      <td>390.452500</td>\n",
              "      <td>NaN</td>\n",
              "      <td>2.0</td>\n",
              "      <td>NaN</td>\n",
              "      <td>4.0</td>\n",
              "      <td>NaN</td>\n",
              "      <td>632.50</td>\n",
              "      <td>NaN</td>\n",
              "      <td>1561.81</td>\n",
              "      <td>NaN</td>\n",
              "    </tr>\n",
              "    <tr>\n",
              "      <th>...</th>\n",
              "      <td>...</td>\n",
              "      <td>...</td>\n",
              "      <td>...</td>\n",
              "      <td>...</td>\n",
              "      <td>...</td>\n",
              "      <td>...</td>\n",
              "      <td>...</td>\n",
              "      <td>...</td>\n",
              "      <td>...</td>\n",
              "      <td>...</td>\n",
              "      <td>...</td>\n",
              "      <td>...</td>\n",
              "      <td>...</td>\n",
              "    </tr>\n",
              "    <tr>\n",
              "      <th>3611</th>\n",
              "      <td>18280</td>\n",
              "      <td>NaN</td>\n",
              "      <td>NaN</td>\n",
              "      <td>180.600000</td>\n",
              "      <td>NaN</td>\n",
              "      <td>NaN</td>\n",
              "      <td>NaN</td>\n",
              "      <td>1.0</td>\n",
              "      <td>NaN</td>\n",
              "      <td>NaN</td>\n",
              "      <td>NaN</td>\n",
              "      <td>180.60</td>\n",
              "      <td>NaN</td>\n",
              "    </tr>\n",
              "    <tr>\n",
              "      <th>3612</th>\n",
              "      <td>18281</td>\n",
              "      <td>NaN</td>\n",
              "      <td>80.820</td>\n",
              "      <td>NaN</td>\n",
              "      <td>NaN</td>\n",
              "      <td>NaN</td>\n",
              "      <td>1.0</td>\n",
              "      <td>NaN</td>\n",
              "      <td>NaN</td>\n",
              "      <td>NaN</td>\n",
              "      <td>80.82</td>\n",
              "      <td>NaN</td>\n",
              "      <td>NaN</td>\n",
              "    </tr>\n",
              "    <tr>\n",
              "      <th>3613</th>\n",
              "      <td>18282</td>\n",
              "      <td>100.210</td>\n",
              "      <td>NaN</td>\n",
              "      <td>NaN</td>\n",
              "      <td>NaN</td>\n",
              "      <td>1.0</td>\n",
              "      <td>NaN</td>\n",
              "      <td>NaN</td>\n",
              "      <td>NaN</td>\n",
              "      <td>100.21</td>\n",
              "      <td>NaN</td>\n",
              "      <td>NaN</td>\n",
              "      <td>NaN</td>\n",
              "    </tr>\n",
              "    <tr>\n",
              "      <th>3614</th>\n",
              "      <td>18283</td>\n",
              "      <td>139.045</td>\n",
              "      <td>131.170</td>\n",
              "      <td>105.966667</td>\n",
              "      <td>NaN</td>\n",
              "      <td>2.0</td>\n",
              "      <td>4.0</td>\n",
              "      <td>3.0</td>\n",
              "      <td>NaN</td>\n",
              "      <td>278.09</td>\n",
              "      <td>524.68</td>\n",
              "      <td>317.90</td>\n",
              "      <td>NaN</td>\n",
              "    </tr>\n",
              "    <tr>\n",
              "      <th>3615</th>\n",
              "      <td>18287</td>\n",
              "      <td>NaN</td>\n",
              "      <td>765.280</td>\n",
              "      <td>NaN</td>\n",
              "      <td>NaN</td>\n",
              "      <td>NaN</td>\n",
              "      <td>1.0</td>\n",
              "      <td>NaN</td>\n",
              "      <td>NaN</td>\n",
              "      <td>NaN</td>\n",
              "      <td>765.28</td>\n",
              "      <td>NaN</td>\n",
              "      <td>NaN</td>\n",
              "    </tr>\n",
              "  </tbody>\n",
              "</table>\n",
              "<p>3616 rows × 13 columns</p>\n",
              "</div>"
            ],
            "text/plain": [
              "     customer sales_avg           ... sales_sum                  \n",
              "M                   M_2      M_3  ...       M_3       M_4     M_5\n",
              "0       12346       NaN      NaN  ...       NaN  77183.60     NaN\n",
              "1       12347   584.910  509.385  ...   1018.77    475.39  711.79\n",
              "2       12348   310.000  367.000  ...    367.00    227.44  892.80\n",
              "3       12350       NaN      NaN  ...       NaN    334.40     NaN\n",
              "4       12352   316.250      NaN  ...       NaN   1561.81     NaN\n",
              "...       ...       ...      ...  ...       ...       ...     ...\n",
              "3611    18280       NaN      NaN  ...       NaN    180.60     NaN\n",
              "3612    18281       NaN   80.820  ...     80.82       NaN     NaN\n",
              "3613    18282   100.210      NaN  ...       NaN       NaN     NaN\n",
              "3614    18283   139.045  131.170  ...    524.68    317.90     NaN\n",
              "3615    18287       NaN  765.280  ...    765.28       NaN     NaN\n",
              "\n",
              "[3616 rows x 13 columns]"
            ]
          },
          "metadata": {},
          "execution_count": 50
        }
      ]
    },
    {
      "cell_type": "code",
      "metadata": {
        "id": "rooQ3XO44O5J"
      },
      "source": [
        "df_features.columns = ['_'.join(col) for col in df_features.columns]"
      ],
      "execution_count": 51,
      "outputs": []
    },
    {
      "cell_type": "code",
      "metadata": {
        "colab": {
          "base_uri": "https://localhost:8080/",
          "height": 257
        },
        "id": "2gWoWtmY4Q9E",
        "outputId": "feeafeb1-ca27-4076-bc55-0b13c5b94fe3"
      },
      "source": [
        "df_features.head()"
      ],
      "execution_count": 52,
      "outputs": [
        {
          "output_type": "execute_result",
          "data": {
            "text/html": [
              "<div>\n",
              "<style scoped>\n",
              "    .dataframe tbody tr th:only-of-type {\n",
              "        vertical-align: middle;\n",
              "    }\n",
              "\n",
              "    .dataframe tbody tr th {\n",
              "        vertical-align: top;\n",
              "    }\n",
              "\n",
              "    .dataframe thead th {\n",
              "        text-align: right;\n",
              "    }\n",
              "</style>\n",
              "<table border=\"1\" class=\"dataframe\">\n",
              "  <thead>\n",
              "    <tr style=\"text-align: right;\">\n",
              "      <th></th>\n",
              "      <th>sales_avg_M_2</th>\n",
              "      <th>sales_avg_M_3</th>\n",
              "      <th>sales_avg_M_4</th>\n",
              "      <th>sales_avg_M_5</th>\n",
              "      <th>sales_count_M_2</th>\n",
              "      <th>sales_count_M_3</th>\n",
              "      <th>sales_count_M_4</th>\n",
              "      <th>sales_count_M_5</th>\n",
              "      <th>sales_sum_M_2</th>\n",
              "      <th>sales_sum_M_3</th>\n",
              "      <th>sales_sum_M_4</th>\n",
              "      <th>sales_sum_M_5</th>\n",
              "    </tr>\n",
              "    <tr>\n",
              "      <th>customer</th>\n",
              "      <th></th>\n",
              "      <th></th>\n",
              "      <th></th>\n",
              "      <th></th>\n",
              "      <th></th>\n",
              "      <th></th>\n",
              "      <th></th>\n",
              "      <th></th>\n",
              "      <th></th>\n",
              "      <th></th>\n",
              "      <th></th>\n",
              "      <th></th>\n",
              "    </tr>\n",
              "  </thead>\n",
              "  <tbody>\n",
              "    <tr>\n",
              "      <th>12346</th>\n",
              "      <td>NaN</td>\n",
              "      <td>NaN</td>\n",
              "      <td>77183.6000</td>\n",
              "      <td>NaN</td>\n",
              "      <td>NaN</td>\n",
              "      <td>NaN</td>\n",
              "      <td>1.0</td>\n",
              "      <td>NaN</td>\n",
              "      <td>NaN</td>\n",
              "      <td>NaN</td>\n",
              "      <td>77183.60</td>\n",
              "      <td>NaN</td>\n",
              "    </tr>\n",
              "    <tr>\n",
              "      <th>12347</th>\n",
              "      <td>584.91</td>\n",
              "      <td>509.385</td>\n",
              "      <td>475.3900</td>\n",
              "      <td>711.79</td>\n",
              "      <td>1.0</td>\n",
              "      <td>2.0</td>\n",
              "      <td>1.0</td>\n",
              "      <td>1.0</td>\n",
              "      <td>584.91</td>\n",
              "      <td>1018.77</td>\n",
              "      <td>475.39</td>\n",
              "      <td>711.79</td>\n",
              "    </tr>\n",
              "    <tr>\n",
              "      <th>12348</th>\n",
              "      <td>310.00</td>\n",
              "      <td>367.000</td>\n",
              "      <td>227.4400</td>\n",
              "      <td>892.80</td>\n",
              "      <td>1.0</td>\n",
              "      <td>1.0</td>\n",
              "      <td>1.0</td>\n",
              "      <td>1.0</td>\n",
              "      <td>310.00</td>\n",
              "      <td>367.00</td>\n",
              "      <td>227.44</td>\n",
              "      <td>892.80</td>\n",
              "    </tr>\n",
              "    <tr>\n",
              "      <th>12350</th>\n",
              "      <td>NaN</td>\n",
              "      <td>NaN</td>\n",
              "      <td>334.4000</td>\n",
              "      <td>NaN</td>\n",
              "      <td>NaN</td>\n",
              "      <td>NaN</td>\n",
              "      <td>1.0</td>\n",
              "      <td>NaN</td>\n",
              "      <td>NaN</td>\n",
              "      <td>NaN</td>\n",
              "      <td>334.40</td>\n",
              "      <td>NaN</td>\n",
              "    </tr>\n",
              "    <tr>\n",
              "      <th>12352</th>\n",
              "      <td>316.25</td>\n",
              "      <td>NaN</td>\n",
              "      <td>390.4525</td>\n",
              "      <td>NaN</td>\n",
              "      <td>2.0</td>\n",
              "      <td>NaN</td>\n",
              "      <td>4.0</td>\n",
              "      <td>NaN</td>\n",
              "      <td>632.50</td>\n",
              "      <td>NaN</td>\n",
              "      <td>1561.81</td>\n",
              "      <td>NaN</td>\n",
              "    </tr>\n",
              "  </tbody>\n",
              "</table>\n",
              "</div>"
            ],
            "text/plain": [
              "          sales_avg_M_2  sales_avg_M_3  ...  sales_sum_M_4  sales_sum_M_5\n",
              "customer                                ...                              \n",
              "12346               NaN            NaN  ...       77183.60            NaN\n",
              "12347            584.91        509.385  ...         475.39         711.79\n",
              "12348            310.00        367.000  ...         227.44         892.80\n",
              "12350               NaN            NaN  ...         334.40            NaN\n",
              "12352            316.25            NaN  ...        1561.81            NaN\n",
              "\n",
              "[5 rows x 12 columns]"
            ]
          },
          "metadata": {},
          "execution_count": 52
        }
      ]
    },
    {
      "cell_type": "code",
      "metadata": {
        "colab": {
          "base_uri": "https://localhost:8080/",
          "height": 226
        },
        "id": "0ksSVNhC4Ssy",
        "outputId": "93e9b229-1a95-4c0b-9f5b-f1732d49c289"
      },
      "source": [
        "df_features.reset_index(level=0, inplace=True)\n",
        "df_features.head()"
      ],
      "execution_count": 53,
      "outputs": [
        {
          "output_type": "execute_result",
          "data": {
            "text/html": [
              "<div>\n",
              "<style scoped>\n",
              "    .dataframe tbody tr th:only-of-type {\n",
              "        vertical-align: middle;\n",
              "    }\n",
              "\n",
              "    .dataframe tbody tr th {\n",
              "        vertical-align: top;\n",
              "    }\n",
              "\n",
              "    .dataframe thead th {\n",
              "        text-align: right;\n",
              "    }\n",
              "</style>\n",
              "<table border=\"1\" class=\"dataframe\">\n",
              "  <thead>\n",
              "    <tr style=\"text-align: right;\">\n",
              "      <th></th>\n",
              "      <th>customer</th>\n",
              "      <th>sales_avg_M_2</th>\n",
              "      <th>sales_avg_M_3</th>\n",
              "      <th>sales_avg_M_4</th>\n",
              "      <th>sales_avg_M_5</th>\n",
              "      <th>sales_count_M_2</th>\n",
              "      <th>sales_count_M_3</th>\n",
              "      <th>sales_count_M_4</th>\n",
              "      <th>sales_count_M_5</th>\n",
              "      <th>sales_sum_M_2</th>\n",
              "      <th>sales_sum_M_3</th>\n",
              "      <th>sales_sum_M_4</th>\n",
              "      <th>sales_sum_M_5</th>\n",
              "    </tr>\n",
              "  </thead>\n",
              "  <tbody>\n",
              "    <tr>\n",
              "      <th>0</th>\n",
              "      <td>12346</td>\n",
              "      <td>NaN</td>\n",
              "      <td>NaN</td>\n",
              "      <td>77183.6000</td>\n",
              "      <td>NaN</td>\n",
              "      <td>NaN</td>\n",
              "      <td>NaN</td>\n",
              "      <td>1.0</td>\n",
              "      <td>NaN</td>\n",
              "      <td>NaN</td>\n",
              "      <td>NaN</td>\n",
              "      <td>77183.60</td>\n",
              "      <td>NaN</td>\n",
              "    </tr>\n",
              "    <tr>\n",
              "      <th>1</th>\n",
              "      <td>12347</td>\n",
              "      <td>584.91</td>\n",
              "      <td>509.385</td>\n",
              "      <td>475.3900</td>\n",
              "      <td>711.79</td>\n",
              "      <td>1.0</td>\n",
              "      <td>2.0</td>\n",
              "      <td>1.0</td>\n",
              "      <td>1.0</td>\n",
              "      <td>584.91</td>\n",
              "      <td>1018.77</td>\n",
              "      <td>475.39</td>\n",
              "      <td>711.79</td>\n",
              "    </tr>\n",
              "    <tr>\n",
              "      <th>2</th>\n",
              "      <td>12348</td>\n",
              "      <td>310.00</td>\n",
              "      <td>367.000</td>\n",
              "      <td>227.4400</td>\n",
              "      <td>892.80</td>\n",
              "      <td>1.0</td>\n",
              "      <td>1.0</td>\n",
              "      <td>1.0</td>\n",
              "      <td>1.0</td>\n",
              "      <td>310.00</td>\n",
              "      <td>367.00</td>\n",
              "      <td>227.44</td>\n",
              "      <td>892.80</td>\n",
              "    </tr>\n",
              "    <tr>\n",
              "      <th>3</th>\n",
              "      <td>12350</td>\n",
              "      <td>NaN</td>\n",
              "      <td>NaN</td>\n",
              "      <td>334.4000</td>\n",
              "      <td>NaN</td>\n",
              "      <td>NaN</td>\n",
              "      <td>NaN</td>\n",
              "      <td>1.0</td>\n",
              "      <td>NaN</td>\n",
              "      <td>NaN</td>\n",
              "      <td>NaN</td>\n",
              "      <td>334.40</td>\n",
              "      <td>NaN</td>\n",
              "    </tr>\n",
              "    <tr>\n",
              "      <th>4</th>\n",
              "      <td>12352</td>\n",
              "      <td>316.25</td>\n",
              "      <td>NaN</td>\n",
              "      <td>390.4525</td>\n",
              "      <td>NaN</td>\n",
              "      <td>2.0</td>\n",
              "      <td>NaN</td>\n",
              "      <td>4.0</td>\n",
              "      <td>NaN</td>\n",
              "      <td>632.50</td>\n",
              "      <td>NaN</td>\n",
              "      <td>1561.81</td>\n",
              "      <td>NaN</td>\n",
              "    </tr>\n",
              "  </tbody>\n",
              "</table>\n",
              "</div>"
            ],
            "text/plain": [
              "   customer  sales_avg_M_2  ...  sales_sum_M_4  sales_sum_M_5\n",
              "0     12346            NaN  ...       77183.60            NaN\n",
              "1     12347         584.91  ...         475.39         711.79\n",
              "2     12348         310.00  ...         227.44         892.80\n",
              "3     12350            NaN  ...         334.40            NaN\n",
              "4     12352         316.25  ...        1561.81            NaN\n",
              "\n",
              "[5 rows x 13 columns]"
            ]
          },
          "metadata": {},
          "execution_count": 53
        }
      ]
    },
    {
      "cell_type": "markdown",
      "metadata": {
        "id": "lGMZFmNE4X24"
      },
      "source": [
        "We got Null values after pivoting the table. Let us fill in the Null values with 0."
      ]
    },
    {
      "cell_type": "code",
      "metadata": {
        "id": "52Wgz0Nc4Ucs"
      },
      "source": [
        "df_features.fillna(0, inplace=True)"
      ],
      "execution_count": 54,
      "outputs": []
    },
    {
      "cell_type": "code",
      "metadata": {
        "colab": {
          "base_uri": "https://localhost:8080/"
        },
        "id": "0kgNXnie4amC",
        "outputId": "c9b7bfe8-4f91-4658-de6c-d74ea384d3c9"
      },
      "source": [
        "# Let's check the Null values\n",
        "df_features.isnull().sum().sum()"
      ],
      "execution_count": 55,
      "outputs": [
        {
          "output_type": "execute_result",
          "data": {
            "text/plain": [
              "0"
            ]
          },
          "metadata": {},
          "execution_count": 55
        }
      ]
    },
    {
      "cell_type": "code",
      "metadata": {
        "colab": {
          "base_uri": "https://localhost:8080/"
        },
        "id": "hrwZPj-L4cZR",
        "outputId": "bef534bd-922c-4d34-8a81-85b5d9084b1f"
      },
      "source": [
        "df_features.info()"
      ],
      "execution_count": 56,
      "outputs": [
        {
          "output_type": "stream",
          "text": [
            "<class 'pandas.core.frame.DataFrame'>\n",
            "RangeIndex: 3616 entries, 0 to 3615\n",
            "Data columns (total 13 columns):\n",
            " #   Column           Non-Null Count  Dtype  \n",
            "---  ------           --------------  -----  \n",
            " 0   customer         3616 non-null   int64  \n",
            " 1   sales_avg_M_2    3616 non-null   float64\n",
            " 2   sales_avg_M_3    3616 non-null   float64\n",
            " 3   sales_avg_M_4    3616 non-null   float64\n",
            " 4   sales_avg_M_5    3616 non-null   float64\n",
            " 5   sales_count_M_2  3616 non-null   float64\n",
            " 6   sales_count_M_3  3616 non-null   float64\n",
            " 7   sales_count_M_4  3616 non-null   float64\n",
            " 8   sales_count_M_5  3616 non-null   float64\n",
            " 9   sales_sum_M_2    3616 non-null   float64\n",
            " 10  sales_sum_M_3    3616 non-null   float64\n",
            " 11  sales_sum_M_4    3616 non-null   float64\n",
            " 12  sales_sum_M_5    3616 non-null   float64\n",
            "dtypes: float64(12), int64(1)\n",
            "memory usage: 367.4 KB\n"
          ],
          "name": "stdout"
        }
      ]
    },
    {
      "cell_type": "code",
      "metadata": {
        "colab": {
          "base_uri": "https://localhost:8080/",
          "height": 226
        },
        "id": "NO2nayoM4eK-",
        "outputId": "49b746f3-07ce-443d-d5cf-89d9ecee6c75"
      },
      "source": [
        "df_features.head()"
      ],
      "execution_count": 57,
      "outputs": [
        {
          "output_type": "execute_result",
          "data": {
            "text/html": [
              "<div>\n",
              "<style scoped>\n",
              "    .dataframe tbody tr th:only-of-type {\n",
              "        vertical-align: middle;\n",
              "    }\n",
              "\n",
              "    .dataframe tbody tr th {\n",
              "        vertical-align: top;\n",
              "    }\n",
              "\n",
              "    .dataframe thead th {\n",
              "        text-align: right;\n",
              "    }\n",
              "</style>\n",
              "<table border=\"1\" class=\"dataframe\">\n",
              "  <thead>\n",
              "    <tr style=\"text-align: right;\">\n",
              "      <th></th>\n",
              "      <th>customer</th>\n",
              "      <th>sales_avg_M_2</th>\n",
              "      <th>sales_avg_M_3</th>\n",
              "      <th>sales_avg_M_4</th>\n",
              "      <th>sales_avg_M_5</th>\n",
              "      <th>sales_count_M_2</th>\n",
              "      <th>sales_count_M_3</th>\n",
              "      <th>sales_count_M_4</th>\n",
              "      <th>sales_count_M_5</th>\n",
              "      <th>sales_sum_M_2</th>\n",
              "      <th>sales_sum_M_3</th>\n",
              "      <th>sales_sum_M_4</th>\n",
              "      <th>sales_sum_M_5</th>\n",
              "    </tr>\n",
              "  </thead>\n",
              "  <tbody>\n",
              "    <tr>\n",
              "      <th>0</th>\n",
              "      <td>12346</td>\n",
              "      <td>0.00</td>\n",
              "      <td>0.000</td>\n",
              "      <td>77183.6000</td>\n",
              "      <td>0.00</td>\n",
              "      <td>0.0</td>\n",
              "      <td>0.0</td>\n",
              "      <td>1.0</td>\n",
              "      <td>0.0</td>\n",
              "      <td>0.00</td>\n",
              "      <td>0.00</td>\n",
              "      <td>77183.60</td>\n",
              "      <td>0.00</td>\n",
              "    </tr>\n",
              "    <tr>\n",
              "      <th>1</th>\n",
              "      <td>12347</td>\n",
              "      <td>584.91</td>\n",
              "      <td>509.385</td>\n",
              "      <td>475.3900</td>\n",
              "      <td>711.79</td>\n",
              "      <td>1.0</td>\n",
              "      <td>2.0</td>\n",
              "      <td>1.0</td>\n",
              "      <td>1.0</td>\n",
              "      <td>584.91</td>\n",
              "      <td>1018.77</td>\n",
              "      <td>475.39</td>\n",
              "      <td>711.79</td>\n",
              "    </tr>\n",
              "    <tr>\n",
              "      <th>2</th>\n",
              "      <td>12348</td>\n",
              "      <td>310.00</td>\n",
              "      <td>367.000</td>\n",
              "      <td>227.4400</td>\n",
              "      <td>892.80</td>\n",
              "      <td>1.0</td>\n",
              "      <td>1.0</td>\n",
              "      <td>1.0</td>\n",
              "      <td>1.0</td>\n",
              "      <td>310.00</td>\n",
              "      <td>367.00</td>\n",
              "      <td>227.44</td>\n",
              "      <td>892.80</td>\n",
              "    </tr>\n",
              "    <tr>\n",
              "      <th>3</th>\n",
              "      <td>12350</td>\n",
              "      <td>0.00</td>\n",
              "      <td>0.000</td>\n",
              "      <td>334.4000</td>\n",
              "      <td>0.00</td>\n",
              "      <td>0.0</td>\n",
              "      <td>0.0</td>\n",
              "      <td>1.0</td>\n",
              "      <td>0.0</td>\n",
              "      <td>0.00</td>\n",
              "      <td>0.00</td>\n",
              "      <td>334.40</td>\n",
              "      <td>0.00</td>\n",
              "    </tr>\n",
              "    <tr>\n",
              "      <th>4</th>\n",
              "      <td>12352</td>\n",
              "      <td>316.25</td>\n",
              "      <td>0.000</td>\n",
              "      <td>390.4525</td>\n",
              "      <td>0.00</td>\n",
              "      <td>2.0</td>\n",
              "      <td>0.0</td>\n",
              "      <td>4.0</td>\n",
              "      <td>0.0</td>\n",
              "      <td>632.50</td>\n",
              "      <td>0.00</td>\n",
              "      <td>1561.81</td>\n",
              "      <td>0.00</td>\n",
              "    </tr>\n",
              "  </tbody>\n",
              "</table>\n",
              "</div>"
            ],
            "text/plain": [
              "   customer  sales_avg_M_2  ...  sales_sum_M_4  sales_sum_M_5\n",
              "0     12346           0.00  ...       77183.60           0.00\n",
              "1     12347         584.91  ...         475.39         711.79\n",
              "2     12348         310.00  ...         227.44         892.80\n",
              "3     12350           0.00  ...         334.40           0.00\n",
              "4     12352         316.25  ...        1561.81           0.00\n",
              "\n",
              "[5 rows x 13 columns]"
            ]
          },
          "metadata": {},
          "execution_count": 57
        }
      ]
    },
    {
      "cell_type": "markdown",
      "metadata": {
        "id": "kjN27gSt4mMX"
      },
      "source": [
        "Our target variables will be:"
      ]
    },
    {
      "cell_type": "code",
      "metadata": {
        "id": "QwQM9NQt4kIA"
      },
      "source": [
        "df_target = df_data.loc[df_data['M'] == 'M_1', ['customer', 'sales_sum']]"
      ],
      "execution_count": 58,
      "outputs": []
    },
    {
      "cell_type": "code",
      "metadata": {
        "id": "oNHglFc-4oNv"
      },
      "source": [
        "df_target.columns = ['customer', 'CLV_'+clv_freq]"
      ],
      "execution_count": 59,
      "outputs": []
    },
    {
      "cell_type": "code",
      "metadata": {
        "colab": {
          "base_uri": "https://localhost:8080/"
        },
        "id": "9HCW3S1F4qaj",
        "outputId": "725a672a-f0df-482d-f424-19046ed1a056"
      },
      "source": [
        "df_target.shape"
      ],
      "execution_count": 60,
      "outputs": [
        {
          "output_type": "execute_result",
          "data": {
            "text/plain": [
              "(2406, 2)"
            ]
          },
          "metadata": {},
          "execution_count": 60
        }
      ]
    },
    {
      "cell_type": "code",
      "metadata": {
        "colab": {
          "base_uri": "https://localhost:8080/",
          "height": 206
        },
        "id": "QqmHW36A4sEG",
        "outputId": "9804d7e9-62dc-48a8-b919-d2c0e73cec25"
      },
      "source": [
        "df_target.head()"
      ],
      "execution_count": 61,
      "outputs": [
        {
          "output_type": "execute_result",
          "data": {
            "text/html": [
              "<div>\n",
              "<style scoped>\n",
              "    .dataframe tbody tr th:only-of-type {\n",
              "        vertical-align: middle;\n",
              "    }\n",
              "\n",
              "    .dataframe tbody tr th {\n",
              "        vertical-align: top;\n",
              "    }\n",
              "\n",
              "    .dataframe thead th {\n",
              "        text-align: right;\n",
              "    }\n",
              "</style>\n",
              "<table border=\"1\" class=\"dataframe\">\n",
              "  <thead>\n",
              "    <tr style=\"text-align: right;\">\n",
              "      <th></th>\n",
              "      <th>customer</th>\n",
              "      <th>CLV_3M</th>\n",
              "    </tr>\n",
              "  </thead>\n",
              "  <tbody>\n",
              "    <tr>\n",
              "      <th>5</th>\n",
              "      <td>12347</td>\n",
              "      <td>1294.32</td>\n",
              "    </tr>\n",
              "    <tr>\n",
              "      <th>10</th>\n",
              "      <td>12349</td>\n",
              "      <td>1757.55</td>\n",
              "    </tr>\n",
              "    <tr>\n",
              "      <th>14</th>\n",
              "      <td>12352</td>\n",
              "      <td>311.73</td>\n",
              "    </tr>\n",
              "    <tr>\n",
              "      <th>20</th>\n",
              "      <td>12356</td>\n",
              "      <td>58.35</td>\n",
              "    </tr>\n",
              "    <tr>\n",
              "      <th>21</th>\n",
              "      <td>12357</td>\n",
              "      <td>6207.67</td>\n",
              "    </tr>\n",
              "  </tbody>\n",
              "</table>\n",
              "</div>"
            ],
            "text/plain": [
              "    customer   CLV_3M\n",
              "5      12347  1294.32\n",
              "10     12349  1757.55\n",
              "14     12352   311.73\n",
              "20     12356    58.35\n",
              "21     12357  6207.67"
            ]
          },
          "metadata": {},
          "execution_count": 61
        }
      ]
    },
    {
      "cell_type": "code",
      "metadata": {
        "id": "fGFgK6eW4tuS"
      },
      "source": [
        "df_sample_set = df_features.merge(\n",
        "                df_target, \n",
        "                left_on='customer', \n",
        "                right_on='customer',\n",
        "                how='left')"
      ],
      "execution_count": 62,
      "outputs": []
    },
    {
      "cell_type": "code",
      "metadata": {
        "colab": {
          "base_uri": "https://localhost:8080/",
          "height": 226
        },
        "id": "RhA0-qrc4xg4",
        "outputId": "4b9b4a5d-540c-4b9a-c15d-efa9f1ec8532"
      },
      "source": [
        "df_sample_set.head()"
      ],
      "execution_count": 63,
      "outputs": [
        {
          "output_type": "execute_result",
          "data": {
            "text/html": [
              "<div>\n",
              "<style scoped>\n",
              "    .dataframe tbody tr th:only-of-type {\n",
              "        vertical-align: middle;\n",
              "    }\n",
              "\n",
              "    .dataframe tbody tr th {\n",
              "        vertical-align: top;\n",
              "    }\n",
              "\n",
              "    .dataframe thead th {\n",
              "        text-align: right;\n",
              "    }\n",
              "</style>\n",
              "<table border=\"1\" class=\"dataframe\">\n",
              "  <thead>\n",
              "    <tr style=\"text-align: right;\">\n",
              "      <th></th>\n",
              "      <th>customer</th>\n",
              "      <th>sales_avg_M_2</th>\n",
              "      <th>sales_avg_M_3</th>\n",
              "      <th>sales_avg_M_4</th>\n",
              "      <th>sales_avg_M_5</th>\n",
              "      <th>sales_count_M_2</th>\n",
              "      <th>sales_count_M_3</th>\n",
              "      <th>sales_count_M_4</th>\n",
              "      <th>sales_count_M_5</th>\n",
              "      <th>sales_sum_M_2</th>\n",
              "      <th>sales_sum_M_3</th>\n",
              "      <th>sales_sum_M_4</th>\n",
              "      <th>sales_sum_M_5</th>\n",
              "      <th>CLV_3M</th>\n",
              "    </tr>\n",
              "  </thead>\n",
              "  <tbody>\n",
              "    <tr>\n",
              "      <th>0</th>\n",
              "      <td>12346</td>\n",
              "      <td>0.00</td>\n",
              "      <td>0.000</td>\n",
              "      <td>77183.6000</td>\n",
              "      <td>0.00</td>\n",
              "      <td>0.0</td>\n",
              "      <td>0.0</td>\n",
              "      <td>1.0</td>\n",
              "      <td>0.0</td>\n",
              "      <td>0.00</td>\n",
              "      <td>0.00</td>\n",
              "      <td>77183.60</td>\n",
              "      <td>0.00</td>\n",
              "      <td>NaN</td>\n",
              "    </tr>\n",
              "    <tr>\n",
              "      <th>1</th>\n",
              "      <td>12347</td>\n",
              "      <td>584.91</td>\n",
              "      <td>509.385</td>\n",
              "      <td>475.3900</td>\n",
              "      <td>711.79</td>\n",
              "      <td>1.0</td>\n",
              "      <td>2.0</td>\n",
              "      <td>1.0</td>\n",
              "      <td>1.0</td>\n",
              "      <td>584.91</td>\n",
              "      <td>1018.77</td>\n",
              "      <td>475.39</td>\n",
              "      <td>711.79</td>\n",
              "      <td>1294.32</td>\n",
              "    </tr>\n",
              "    <tr>\n",
              "      <th>2</th>\n",
              "      <td>12348</td>\n",
              "      <td>310.00</td>\n",
              "      <td>367.000</td>\n",
              "      <td>227.4400</td>\n",
              "      <td>892.80</td>\n",
              "      <td>1.0</td>\n",
              "      <td>1.0</td>\n",
              "      <td>1.0</td>\n",
              "      <td>1.0</td>\n",
              "      <td>310.00</td>\n",
              "      <td>367.00</td>\n",
              "      <td>227.44</td>\n",
              "      <td>892.80</td>\n",
              "      <td>NaN</td>\n",
              "    </tr>\n",
              "    <tr>\n",
              "      <th>3</th>\n",
              "      <td>12350</td>\n",
              "      <td>0.00</td>\n",
              "      <td>0.000</td>\n",
              "      <td>334.4000</td>\n",
              "      <td>0.00</td>\n",
              "      <td>0.0</td>\n",
              "      <td>0.0</td>\n",
              "      <td>1.0</td>\n",
              "      <td>0.0</td>\n",
              "      <td>0.00</td>\n",
              "      <td>0.00</td>\n",
              "      <td>334.40</td>\n",
              "      <td>0.00</td>\n",
              "      <td>NaN</td>\n",
              "    </tr>\n",
              "    <tr>\n",
              "      <th>4</th>\n",
              "      <td>12352</td>\n",
              "      <td>316.25</td>\n",
              "      <td>0.000</td>\n",
              "      <td>390.4525</td>\n",
              "      <td>0.00</td>\n",
              "      <td>2.0</td>\n",
              "      <td>0.0</td>\n",
              "      <td>4.0</td>\n",
              "      <td>0.0</td>\n",
              "      <td>632.50</td>\n",
              "      <td>0.00</td>\n",
              "      <td>1561.81</td>\n",
              "      <td>0.00</td>\n",
              "      <td>311.73</td>\n",
              "    </tr>\n",
              "  </tbody>\n",
              "</table>\n",
              "</div>"
            ],
            "text/plain": [
              "   customer  sales_avg_M_2  ...  sales_sum_M_5   CLV_3M\n",
              "0     12346           0.00  ...           0.00      NaN\n",
              "1     12347         584.91  ...         711.79  1294.32\n",
              "2     12348         310.00  ...         892.80      NaN\n",
              "3     12350           0.00  ...           0.00      NaN\n",
              "4     12352         316.25  ...           0.00   311.73\n",
              "\n",
              "[5 rows x 14 columns]"
            ]
          },
          "metadata": {},
          "execution_count": 63
        }
      ]
    },
    {
      "cell_type": "code",
      "metadata": {
        "colab": {
          "base_uri": "https://localhost:8080/",
          "height": 226
        },
        "id": "jTztQckq4zBq",
        "outputId": "5edf9f9e-d3da-4233-a6d7-f7631fa6af7f"
      },
      "source": [
        "df_sample_set.fillna(0, inplace=True)\n",
        "df_sample_set.head()"
      ],
      "execution_count": 64,
      "outputs": [
        {
          "output_type": "execute_result",
          "data": {
            "text/html": [
              "<div>\n",
              "<style scoped>\n",
              "    .dataframe tbody tr th:only-of-type {\n",
              "        vertical-align: middle;\n",
              "    }\n",
              "\n",
              "    .dataframe tbody tr th {\n",
              "        vertical-align: top;\n",
              "    }\n",
              "\n",
              "    .dataframe thead th {\n",
              "        text-align: right;\n",
              "    }\n",
              "</style>\n",
              "<table border=\"1\" class=\"dataframe\">\n",
              "  <thead>\n",
              "    <tr style=\"text-align: right;\">\n",
              "      <th></th>\n",
              "      <th>customer</th>\n",
              "      <th>sales_avg_M_2</th>\n",
              "      <th>sales_avg_M_3</th>\n",
              "      <th>sales_avg_M_4</th>\n",
              "      <th>sales_avg_M_5</th>\n",
              "      <th>sales_count_M_2</th>\n",
              "      <th>sales_count_M_3</th>\n",
              "      <th>sales_count_M_4</th>\n",
              "      <th>sales_count_M_5</th>\n",
              "      <th>sales_sum_M_2</th>\n",
              "      <th>sales_sum_M_3</th>\n",
              "      <th>sales_sum_M_4</th>\n",
              "      <th>sales_sum_M_5</th>\n",
              "      <th>CLV_3M</th>\n",
              "    </tr>\n",
              "  </thead>\n",
              "  <tbody>\n",
              "    <tr>\n",
              "      <th>0</th>\n",
              "      <td>12346</td>\n",
              "      <td>0.00</td>\n",
              "      <td>0.000</td>\n",
              "      <td>77183.6000</td>\n",
              "      <td>0.00</td>\n",
              "      <td>0.0</td>\n",
              "      <td>0.0</td>\n",
              "      <td>1.0</td>\n",
              "      <td>0.0</td>\n",
              "      <td>0.00</td>\n",
              "      <td>0.00</td>\n",
              "      <td>77183.60</td>\n",
              "      <td>0.00</td>\n",
              "      <td>0.00</td>\n",
              "    </tr>\n",
              "    <tr>\n",
              "      <th>1</th>\n",
              "      <td>12347</td>\n",
              "      <td>584.91</td>\n",
              "      <td>509.385</td>\n",
              "      <td>475.3900</td>\n",
              "      <td>711.79</td>\n",
              "      <td>1.0</td>\n",
              "      <td>2.0</td>\n",
              "      <td>1.0</td>\n",
              "      <td>1.0</td>\n",
              "      <td>584.91</td>\n",
              "      <td>1018.77</td>\n",
              "      <td>475.39</td>\n",
              "      <td>711.79</td>\n",
              "      <td>1294.32</td>\n",
              "    </tr>\n",
              "    <tr>\n",
              "      <th>2</th>\n",
              "      <td>12348</td>\n",
              "      <td>310.00</td>\n",
              "      <td>367.000</td>\n",
              "      <td>227.4400</td>\n",
              "      <td>892.80</td>\n",
              "      <td>1.0</td>\n",
              "      <td>1.0</td>\n",
              "      <td>1.0</td>\n",
              "      <td>1.0</td>\n",
              "      <td>310.00</td>\n",
              "      <td>367.00</td>\n",
              "      <td>227.44</td>\n",
              "      <td>892.80</td>\n",
              "      <td>0.00</td>\n",
              "    </tr>\n",
              "    <tr>\n",
              "      <th>3</th>\n",
              "      <td>12350</td>\n",
              "      <td>0.00</td>\n",
              "      <td>0.000</td>\n",
              "      <td>334.4000</td>\n",
              "      <td>0.00</td>\n",
              "      <td>0.0</td>\n",
              "      <td>0.0</td>\n",
              "      <td>1.0</td>\n",
              "      <td>0.0</td>\n",
              "      <td>0.00</td>\n",
              "      <td>0.00</td>\n",
              "      <td>334.40</td>\n",
              "      <td>0.00</td>\n",
              "      <td>0.00</td>\n",
              "    </tr>\n",
              "    <tr>\n",
              "      <th>4</th>\n",
              "      <td>12352</td>\n",
              "      <td>316.25</td>\n",
              "      <td>0.000</td>\n",
              "      <td>390.4525</td>\n",
              "      <td>0.00</td>\n",
              "      <td>2.0</td>\n",
              "      <td>0.0</td>\n",
              "      <td>4.0</td>\n",
              "      <td>0.0</td>\n",
              "      <td>632.50</td>\n",
              "      <td>0.00</td>\n",
              "      <td>1561.81</td>\n",
              "      <td>0.00</td>\n",
              "      <td>311.73</td>\n",
              "    </tr>\n",
              "  </tbody>\n",
              "</table>\n",
              "</div>"
            ],
            "text/plain": [
              "   customer  sales_avg_M_2  ...  sales_sum_M_5   CLV_3M\n",
              "0     12346           0.00  ...           0.00     0.00\n",
              "1     12347         584.91  ...         711.79  1294.32\n",
              "2     12348         310.00  ...         892.80     0.00\n",
              "3     12350           0.00  ...           0.00     0.00\n",
              "4     12352         316.25  ...           0.00   311.73\n",
              "\n",
              "[5 rows x 14 columns]"
            ]
          },
          "metadata": {},
          "execution_count": 64
        }
      ]
    },
    {
      "cell_type": "code",
      "metadata": {
        "colab": {
          "base_uri": "https://localhost:8080/"
        },
        "id": "b7JJjj7p41L0",
        "outputId": "115ad2ad-916b-48e4-a9eb-ec6b3fcdcc54"
      },
      "source": [
        "df_sample_set['CLV_3M'].describe()"
      ],
      "execution_count": 65,
      "outputs": [
        {
          "output_type": "execute_result",
          "data": {
            "text/plain": [
              "count     3616.000000\n",
              "mean       511.558520\n",
              "std       2371.743293\n",
              "min          0.000000\n",
              "25%          0.000000\n",
              "50%          0.000000\n",
              "75%        458.662500\n",
              "max      68012.350000\n",
              "Name: CLV_3M, dtype: float64"
            ]
          },
          "metadata": {},
          "execution_count": 65
        }
      ]
    },
    {
      "cell_type": "code",
      "metadata": {
        "id": "wLy28Tg09-2G"
      },
      "source": [
        ""
      ],
      "execution_count": 65,
      "outputs": []
    },
    {
      "cell_type": "markdown",
      "metadata": {
        "id": "dqOfTBCG47rB"
      },
      "source": [
        "## Build linear regression"
      ]
    },
    {
      "cell_type": "code",
      "metadata": {
        "id": "heiuSxbF44bb"
      },
      "source": [
        "from sklearn.model_selection import train_test_split\n",
        "from sklearn.linear_model import LinearRegression"
      ],
      "execution_count": 66,
      "outputs": []
    },
    {
      "cell_type": "code",
      "metadata": {
        "colab": {
          "base_uri": "https://localhost:8080/"
        },
        "id": "dJOIfHv54-EX",
        "outputId": "4f7a3dfa-5521-4460-efbd-e5481a3a1ecd"
      },
      "source": [
        "target_var = 'CLV_3M'\n",
        "all_features = [x for x in df_sample_set.columns if x not in [target_var]]\n",
        "all_features"
      ],
      "execution_count": 67,
      "outputs": [
        {
          "output_type": "execute_result",
          "data": {
            "text/plain": [
              "['customer',\n",
              " 'sales_avg_M_2',\n",
              " 'sales_avg_M_3',\n",
              " 'sales_avg_M_4',\n",
              " 'sales_avg_M_5',\n",
              " 'sales_count_M_2',\n",
              " 'sales_count_M_3',\n",
              " 'sales_count_M_4',\n",
              " 'sales_count_M_5',\n",
              " 'sales_sum_M_2',\n",
              " 'sales_sum_M_3',\n",
              " 'sales_sum_M_4',\n",
              " 'sales_sum_M_5']"
            ]
          },
          "metadata": {},
          "execution_count": 67
        }
      ]
    },
    {
      "cell_type": "code",
      "metadata": {
        "colab": {
          "base_uri": "https://localhost:8080/",
          "height": 35
        },
        "id": "9afERLaI4_t5",
        "outputId": "d811953e-64a7-4eae-e9b7-bfe923f5045d"
      },
      "source": [
        "target_var"
      ],
      "execution_count": 68,
      "outputs": [
        {
          "output_type": "execute_result",
          "data": {
            "application/vnd.google.colaboratory.intrinsic+json": {
              "type": "string"
            },
            "text/plain": [
              "'CLV_3M'"
            ]
          },
          "metadata": {},
          "execution_count": 68
        }
      ]
    },
    {
      "cell_type": "code",
      "metadata": {
        "colab": {
          "base_uri": "https://localhost:8080/",
          "height": 443
        },
        "id": "PZW6qL735DNC",
        "outputId": "79881179-d2ca-47f6-eb44-cc8456dea212"
      },
      "source": [
        "df_sample_set"
      ],
      "execution_count": 69,
      "outputs": [
        {
          "output_type": "execute_result",
          "data": {
            "text/html": [
              "<div>\n",
              "<style scoped>\n",
              "    .dataframe tbody tr th:only-of-type {\n",
              "        vertical-align: middle;\n",
              "    }\n",
              "\n",
              "    .dataframe tbody tr th {\n",
              "        vertical-align: top;\n",
              "    }\n",
              "\n",
              "    .dataframe thead th {\n",
              "        text-align: right;\n",
              "    }\n",
              "</style>\n",
              "<table border=\"1\" class=\"dataframe\">\n",
              "  <thead>\n",
              "    <tr style=\"text-align: right;\">\n",
              "      <th></th>\n",
              "      <th>customer</th>\n",
              "      <th>sales_avg_M_2</th>\n",
              "      <th>sales_avg_M_3</th>\n",
              "      <th>sales_avg_M_4</th>\n",
              "      <th>sales_avg_M_5</th>\n",
              "      <th>sales_count_M_2</th>\n",
              "      <th>sales_count_M_3</th>\n",
              "      <th>sales_count_M_4</th>\n",
              "      <th>sales_count_M_5</th>\n",
              "      <th>sales_sum_M_2</th>\n",
              "      <th>sales_sum_M_3</th>\n",
              "      <th>sales_sum_M_4</th>\n",
              "      <th>sales_sum_M_5</th>\n",
              "      <th>CLV_3M</th>\n",
              "    </tr>\n",
              "  </thead>\n",
              "  <tbody>\n",
              "    <tr>\n",
              "      <th>0</th>\n",
              "      <td>12346</td>\n",
              "      <td>0.000</td>\n",
              "      <td>0.000</td>\n",
              "      <td>77183.600000</td>\n",
              "      <td>0.00</td>\n",
              "      <td>0.0</td>\n",
              "      <td>0.0</td>\n",
              "      <td>1.0</td>\n",
              "      <td>0.0</td>\n",
              "      <td>0.00</td>\n",
              "      <td>0.00</td>\n",
              "      <td>77183.60</td>\n",
              "      <td>0.00</td>\n",
              "      <td>0.00</td>\n",
              "    </tr>\n",
              "    <tr>\n",
              "      <th>1</th>\n",
              "      <td>12347</td>\n",
              "      <td>584.910</td>\n",
              "      <td>509.385</td>\n",
              "      <td>475.390000</td>\n",
              "      <td>711.79</td>\n",
              "      <td>1.0</td>\n",
              "      <td>2.0</td>\n",
              "      <td>1.0</td>\n",
              "      <td>1.0</td>\n",
              "      <td>584.91</td>\n",
              "      <td>1018.77</td>\n",
              "      <td>475.39</td>\n",
              "      <td>711.79</td>\n",
              "      <td>1294.32</td>\n",
              "    </tr>\n",
              "    <tr>\n",
              "      <th>2</th>\n",
              "      <td>12348</td>\n",
              "      <td>310.000</td>\n",
              "      <td>367.000</td>\n",
              "      <td>227.440000</td>\n",
              "      <td>892.80</td>\n",
              "      <td>1.0</td>\n",
              "      <td>1.0</td>\n",
              "      <td>1.0</td>\n",
              "      <td>1.0</td>\n",
              "      <td>310.00</td>\n",
              "      <td>367.00</td>\n",
              "      <td>227.44</td>\n",
              "      <td>892.80</td>\n",
              "      <td>0.00</td>\n",
              "    </tr>\n",
              "    <tr>\n",
              "      <th>3</th>\n",
              "      <td>12350</td>\n",
              "      <td>0.000</td>\n",
              "      <td>0.000</td>\n",
              "      <td>334.400000</td>\n",
              "      <td>0.00</td>\n",
              "      <td>0.0</td>\n",
              "      <td>0.0</td>\n",
              "      <td>1.0</td>\n",
              "      <td>0.0</td>\n",
              "      <td>0.00</td>\n",
              "      <td>0.00</td>\n",
              "      <td>334.40</td>\n",
              "      <td>0.00</td>\n",
              "      <td>0.00</td>\n",
              "    </tr>\n",
              "    <tr>\n",
              "      <th>4</th>\n",
              "      <td>12352</td>\n",
              "      <td>316.250</td>\n",
              "      <td>0.000</td>\n",
              "      <td>390.452500</td>\n",
              "      <td>0.00</td>\n",
              "      <td>2.0</td>\n",
              "      <td>0.0</td>\n",
              "      <td>4.0</td>\n",
              "      <td>0.0</td>\n",
              "      <td>632.50</td>\n",
              "      <td>0.00</td>\n",
              "      <td>1561.81</td>\n",
              "      <td>0.00</td>\n",
              "      <td>311.73</td>\n",
              "    </tr>\n",
              "    <tr>\n",
              "      <th>...</th>\n",
              "      <td>...</td>\n",
              "      <td>...</td>\n",
              "      <td>...</td>\n",
              "      <td>...</td>\n",
              "      <td>...</td>\n",
              "      <td>...</td>\n",
              "      <td>...</td>\n",
              "      <td>...</td>\n",
              "      <td>...</td>\n",
              "      <td>...</td>\n",
              "      <td>...</td>\n",
              "      <td>...</td>\n",
              "      <td>...</td>\n",
              "      <td>...</td>\n",
              "    </tr>\n",
              "    <tr>\n",
              "      <th>3611</th>\n",
              "      <td>18280</td>\n",
              "      <td>0.000</td>\n",
              "      <td>0.000</td>\n",
              "      <td>180.600000</td>\n",
              "      <td>0.00</td>\n",
              "      <td>0.0</td>\n",
              "      <td>0.0</td>\n",
              "      <td>1.0</td>\n",
              "      <td>0.0</td>\n",
              "      <td>0.00</td>\n",
              "      <td>0.00</td>\n",
              "      <td>180.60</td>\n",
              "      <td>0.00</td>\n",
              "      <td>0.00</td>\n",
              "    </tr>\n",
              "    <tr>\n",
              "      <th>3612</th>\n",
              "      <td>18281</td>\n",
              "      <td>0.000</td>\n",
              "      <td>80.820</td>\n",
              "      <td>0.000000</td>\n",
              "      <td>0.00</td>\n",
              "      <td>0.0</td>\n",
              "      <td>1.0</td>\n",
              "      <td>0.0</td>\n",
              "      <td>0.0</td>\n",
              "      <td>0.00</td>\n",
              "      <td>80.82</td>\n",
              "      <td>0.00</td>\n",
              "      <td>0.00</td>\n",
              "      <td>0.00</td>\n",
              "    </tr>\n",
              "    <tr>\n",
              "      <th>3613</th>\n",
              "      <td>18282</td>\n",
              "      <td>100.210</td>\n",
              "      <td>0.000</td>\n",
              "      <td>0.000000</td>\n",
              "      <td>0.00</td>\n",
              "      <td>1.0</td>\n",
              "      <td>0.0</td>\n",
              "      <td>0.0</td>\n",
              "      <td>0.0</td>\n",
              "      <td>100.21</td>\n",
              "      <td>0.00</td>\n",
              "      <td>0.00</td>\n",
              "      <td>0.00</td>\n",
              "      <td>0.00</td>\n",
              "    </tr>\n",
              "    <tr>\n",
              "      <th>3614</th>\n",
              "      <td>18283</td>\n",
              "      <td>139.045</td>\n",
              "      <td>131.170</td>\n",
              "      <td>105.966667</td>\n",
              "      <td>0.00</td>\n",
              "      <td>2.0</td>\n",
              "      <td>4.0</td>\n",
              "      <td>3.0</td>\n",
              "      <td>0.0</td>\n",
              "      <td>278.09</td>\n",
              "      <td>524.68</td>\n",
              "      <td>317.90</td>\n",
              "      <td>0.00</td>\n",
              "      <td>766.21</td>\n",
              "    </tr>\n",
              "    <tr>\n",
              "      <th>3615</th>\n",
              "      <td>18287</td>\n",
              "      <td>0.000</td>\n",
              "      <td>765.280</td>\n",
              "      <td>0.000000</td>\n",
              "      <td>0.00</td>\n",
              "      <td>0.0</td>\n",
              "      <td>1.0</td>\n",
              "      <td>0.0</td>\n",
              "      <td>0.0</td>\n",
              "      <td>0.00</td>\n",
              "      <td>765.28</td>\n",
              "      <td>0.00</td>\n",
              "      <td>0.00</td>\n",
              "      <td>1072.00</td>\n",
              "    </tr>\n",
              "  </tbody>\n",
              "</table>\n",
              "<p>3616 rows × 14 columns</p>\n",
              "</div>"
            ],
            "text/plain": [
              "      customer  sales_avg_M_2  ...  sales_sum_M_5   CLV_3M\n",
              "0        12346          0.000  ...           0.00     0.00\n",
              "1        12347        584.910  ...         711.79  1294.32\n",
              "2        12348        310.000  ...         892.80     0.00\n",
              "3        12350          0.000  ...           0.00     0.00\n",
              "4        12352        316.250  ...           0.00   311.73\n",
              "...        ...            ...  ...            ...      ...\n",
              "3611     18280          0.000  ...           0.00     0.00\n",
              "3612     18281          0.000  ...           0.00     0.00\n",
              "3613     18282        100.210  ...           0.00     0.00\n",
              "3614     18283        139.045  ...           0.00   766.21\n",
              "3615     18287          0.000  ...           0.00  1072.00\n",
              "\n",
              "[3616 rows x 14 columns]"
            ]
          },
          "metadata": {},
          "execution_count": 69
        }
      ]
    },
    {
      "cell_type": "code",
      "metadata": {
        "colab": {
          "base_uri": "https://localhost:8080/",
          "height": 443
        },
        "id": "cKeLpE3M-FI4",
        "outputId": "a9a542af-0f4f-4189-cc14-1a36a3116293"
      },
      "source": [
        "X = df_sample_set[all_features]\n",
        "X"
      ],
      "execution_count": 70,
      "outputs": [
        {
          "output_type": "execute_result",
          "data": {
            "text/html": [
              "<div>\n",
              "<style scoped>\n",
              "    .dataframe tbody tr th:only-of-type {\n",
              "        vertical-align: middle;\n",
              "    }\n",
              "\n",
              "    .dataframe tbody tr th {\n",
              "        vertical-align: top;\n",
              "    }\n",
              "\n",
              "    .dataframe thead th {\n",
              "        text-align: right;\n",
              "    }\n",
              "</style>\n",
              "<table border=\"1\" class=\"dataframe\">\n",
              "  <thead>\n",
              "    <tr style=\"text-align: right;\">\n",
              "      <th></th>\n",
              "      <th>customer</th>\n",
              "      <th>sales_avg_M_2</th>\n",
              "      <th>sales_avg_M_3</th>\n",
              "      <th>sales_avg_M_4</th>\n",
              "      <th>sales_avg_M_5</th>\n",
              "      <th>sales_count_M_2</th>\n",
              "      <th>sales_count_M_3</th>\n",
              "      <th>sales_count_M_4</th>\n",
              "      <th>sales_count_M_5</th>\n",
              "      <th>sales_sum_M_2</th>\n",
              "      <th>sales_sum_M_3</th>\n",
              "      <th>sales_sum_M_4</th>\n",
              "      <th>sales_sum_M_5</th>\n",
              "    </tr>\n",
              "  </thead>\n",
              "  <tbody>\n",
              "    <tr>\n",
              "      <th>0</th>\n",
              "      <td>12346</td>\n",
              "      <td>0.000</td>\n",
              "      <td>0.000</td>\n",
              "      <td>77183.600000</td>\n",
              "      <td>0.00</td>\n",
              "      <td>0.0</td>\n",
              "      <td>0.0</td>\n",
              "      <td>1.0</td>\n",
              "      <td>0.0</td>\n",
              "      <td>0.00</td>\n",
              "      <td>0.00</td>\n",
              "      <td>77183.60</td>\n",
              "      <td>0.00</td>\n",
              "    </tr>\n",
              "    <tr>\n",
              "      <th>1</th>\n",
              "      <td>12347</td>\n",
              "      <td>584.910</td>\n",
              "      <td>509.385</td>\n",
              "      <td>475.390000</td>\n",
              "      <td>711.79</td>\n",
              "      <td>1.0</td>\n",
              "      <td>2.0</td>\n",
              "      <td>1.0</td>\n",
              "      <td>1.0</td>\n",
              "      <td>584.91</td>\n",
              "      <td>1018.77</td>\n",
              "      <td>475.39</td>\n",
              "      <td>711.79</td>\n",
              "    </tr>\n",
              "    <tr>\n",
              "      <th>2</th>\n",
              "      <td>12348</td>\n",
              "      <td>310.000</td>\n",
              "      <td>367.000</td>\n",
              "      <td>227.440000</td>\n",
              "      <td>892.80</td>\n",
              "      <td>1.0</td>\n",
              "      <td>1.0</td>\n",
              "      <td>1.0</td>\n",
              "      <td>1.0</td>\n",
              "      <td>310.00</td>\n",
              "      <td>367.00</td>\n",
              "      <td>227.44</td>\n",
              "      <td>892.80</td>\n",
              "    </tr>\n",
              "    <tr>\n",
              "      <th>3</th>\n",
              "      <td>12350</td>\n",
              "      <td>0.000</td>\n",
              "      <td>0.000</td>\n",
              "      <td>334.400000</td>\n",
              "      <td>0.00</td>\n",
              "      <td>0.0</td>\n",
              "      <td>0.0</td>\n",
              "      <td>1.0</td>\n",
              "      <td>0.0</td>\n",
              "      <td>0.00</td>\n",
              "      <td>0.00</td>\n",
              "      <td>334.40</td>\n",
              "      <td>0.00</td>\n",
              "    </tr>\n",
              "    <tr>\n",
              "      <th>4</th>\n",
              "      <td>12352</td>\n",
              "      <td>316.250</td>\n",
              "      <td>0.000</td>\n",
              "      <td>390.452500</td>\n",
              "      <td>0.00</td>\n",
              "      <td>2.0</td>\n",
              "      <td>0.0</td>\n",
              "      <td>4.0</td>\n",
              "      <td>0.0</td>\n",
              "      <td>632.50</td>\n",
              "      <td>0.00</td>\n",
              "      <td>1561.81</td>\n",
              "      <td>0.00</td>\n",
              "    </tr>\n",
              "    <tr>\n",
              "      <th>...</th>\n",
              "      <td>...</td>\n",
              "      <td>...</td>\n",
              "      <td>...</td>\n",
              "      <td>...</td>\n",
              "      <td>...</td>\n",
              "      <td>...</td>\n",
              "      <td>...</td>\n",
              "      <td>...</td>\n",
              "      <td>...</td>\n",
              "      <td>...</td>\n",
              "      <td>...</td>\n",
              "      <td>...</td>\n",
              "      <td>...</td>\n",
              "    </tr>\n",
              "    <tr>\n",
              "      <th>3611</th>\n",
              "      <td>18280</td>\n",
              "      <td>0.000</td>\n",
              "      <td>0.000</td>\n",
              "      <td>180.600000</td>\n",
              "      <td>0.00</td>\n",
              "      <td>0.0</td>\n",
              "      <td>0.0</td>\n",
              "      <td>1.0</td>\n",
              "      <td>0.0</td>\n",
              "      <td>0.00</td>\n",
              "      <td>0.00</td>\n",
              "      <td>180.60</td>\n",
              "      <td>0.00</td>\n",
              "    </tr>\n",
              "    <tr>\n",
              "      <th>3612</th>\n",
              "      <td>18281</td>\n",
              "      <td>0.000</td>\n",
              "      <td>80.820</td>\n",
              "      <td>0.000000</td>\n",
              "      <td>0.00</td>\n",
              "      <td>0.0</td>\n",
              "      <td>1.0</td>\n",
              "      <td>0.0</td>\n",
              "      <td>0.0</td>\n",
              "      <td>0.00</td>\n",
              "      <td>80.82</td>\n",
              "      <td>0.00</td>\n",
              "      <td>0.00</td>\n",
              "    </tr>\n",
              "    <tr>\n",
              "      <th>3613</th>\n",
              "      <td>18282</td>\n",
              "      <td>100.210</td>\n",
              "      <td>0.000</td>\n",
              "      <td>0.000000</td>\n",
              "      <td>0.00</td>\n",
              "      <td>1.0</td>\n",
              "      <td>0.0</td>\n",
              "      <td>0.0</td>\n",
              "      <td>0.0</td>\n",
              "      <td>100.21</td>\n",
              "      <td>0.00</td>\n",
              "      <td>0.00</td>\n",
              "      <td>0.00</td>\n",
              "    </tr>\n",
              "    <tr>\n",
              "      <th>3614</th>\n",
              "      <td>18283</td>\n",
              "      <td>139.045</td>\n",
              "      <td>131.170</td>\n",
              "      <td>105.966667</td>\n",
              "      <td>0.00</td>\n",
              "      <td>2.0</td>\n",
              "      <td>4.0</td>\n",
              "      <td>3.0</td>\n",
              "      <td>0.0</td>\n",
              "      <td>278.09</td>\n",
              "      <td>524.68</td>\n",
              "      <td>317.90</td>\n",
              "      <td>0.00</td>\n",
              "    </tr>\n",
              "    <tr>\n",
              "      <th>3615</th>\n",
              "      <td>18287</td>\n",
              "      <td>0.000</td>\n",
              "      <td>765.280</td>\n",
              "      <td>0.000000</td>\n",
              "      <td>0.00</td>\n",
              "      <td>0.0</td>\n",
              "      <td>1.0</td>\n",
              "      <td>0.0</td>\n",
              "      <td>0.0</td>\n",
              "      <td>0.00</td>\n",
              "      <td>765.28</td>\n",
              "      <td>0.00</td>\n",
              "      <td>0.00</td>\n",
              "    </tr>\n",
              "  </tbody>\n",
              "</table>\n",
              "<p>3616 rows × 13 columns</p>\n",
              "</div>"
            ],
            "text/plain": [
              "      customer  sales_avg_M_2  ...  sales_sum_M_4  sales_sum_M_5\n",
              "0        12346          0.000  ...       77183.60           0.00\n",
              "1        12347        584.910  ...         475.39         711.79\n",
              "2        12348        310.000  ...         227.44         892.80\n",
              "3        12350          0.000  ...         334.40           0.00\n",
              "4        12352        316.250  ...        1561.81           0.00\n",
              "...        ...            ...  ...            ...            ...\n",
              "3611     18280          0.000  ...         180.60           0.00\n",
              "3612     18281          0.000  ...           0.00           0.00\n",
              "3613     18282        100.210  ...           0.00           0.00\n",
              "3614     18283        139.045  ...         317.90           0.00\n",
              "3615     18287          0.000  ...           0.00           0.00\n",
              "\n",
              "[3616 rows x 13 columns]"
            ]
          },
          "metadata": {},
          "execution_count": 70
        }
      ]
    },
    {
      "cell_type": "code",
      "metadata": {
        "colab": {
          "base_uri": "https://localhost:8080/"
        },
        "id": "XKoxT_sZ-KPJ",
        "outputId": "f59ef87d-cb1f-42d0-90dc-5be8496de050"
      },
      "source": [
        "y = df_sample_set[target_var]\n",
        "\n",
        "y"
      ],
      "execution_count": 71,
      "outputs": [
        {
          "output_type": "execute_result",
          "data": {
            "text/plain": [
              "0          0.00\n",
              "1       1294.32\n",
              "2          0.00\n",
              "3          0.00\n",
              "4        311.73\n",
              "         ...   \n",
              "3611       0.00\n",
              "3612       0.00\n",
              "3613       0.00\n",
              "3614     766.21\n",
              "3615    1072.00\n",
              "Name: CLV_3M, Length: 3616, dtype: float64"
            ]
          },
          "metadata": {},
          "execution_count": 71
        }
      ]
    },
    {
      "cell_type": "code",
      "metadata": {
        "id": "JNCeREAT5FF4"
      },
      "source": [
        "X_train, X_test, y_train, y_test = train_test_split(\n",
        "                                    df_sample_set[all_features], \n",
        "                                    df_sample_set[target_var], \n",
        "                                    random_state=2,\n",
        "                                    test_size=0.35)"
      ],
      "execution_count": 72,
      "outputs": []
    },
    {
      "cell_type": "code",
      "metadata": {
        "colab": {
          "base_uri": "https://localhost:8080/"
        },
        "id": "X78xXrxd5IQD",
        "outputId": "c1a99a6b-7147-4508-c111-ef783f82207f"
      },
      "source": [
        "y_train"
      ],
      "execution_count": 73,
      "outputs": [
        {
          "output_type": "execute_result",
          "data": {
            "text/plain": [
              "1823     718.37\n",
              "1746     474.87\n",
              "1815       0.00\n",
              "291        0.00\n",
              "2720     755.10\n",
              "         ...   \n",
              "3606       0.00\n",
              "1608    3064.14\n",
              "2541     223.26\n",
              "2575    2232.00\n",
              "3240     278.45\n",
              "Name: CLV_3M, Length: 2350, dtype: float64"
            ]
          },
          "metadata": {},
          "execution_count": 73
        }
      ]
    },
    {
      "cell_type": "code",
      "metadata": {
        "colab": {
          "base_uri": "https://localhost:8080/"
        },
        "id": "9OFQUuof5K9U",
        "outputId": "0b84292c-9be3-43f5-ed4f-729932ce2bb1"
      },
      "source": [
        "\n",
        "lin_reg = LinearRegression(n_jobs=1)\n",
        "lin_reg.fit(X_train, y_train)\n"
      ],
      "execution_count": 74,
      "outputs": [
        {
          "output_type": "execute_result",
          "data": {
            "text/plain": [
              "LinearRegression(copy_X=True, fit_intercept=True, n_jobs=1, normalize=False)"
            ]
          },
          "metadata": {},
          "execution_count": 74
        }
      ]
    },
    {
      "cell_type": "code",
      "metadata": {
        "colab": {
          "base_uri": "https://localhost:8080/"
        },
        "id": "AqE4Kbz15SVk",
        "outputId": "78858b52-d6c0-4816-9cc1-c98a60eb53f6"
      },
      "source": [
        "lin_reg.intercept_"
      ],
      "execution_count": 75,
      "outputs": [
        {
          "output_type": "execute_result",
          "data": {
            "text/plain": [
              "236.56179498181888"
            ]
          },
          "metadata": {},
          "execution_count": 75
        }
      ]
    },
    {
      "cell_type": "code",
      "metadata": {
        "id": "6Dao8PrJ5Ur9"
      },
      "source": [
        "coef = pd.DataFrame(list(zip(all_features, lin_reg.coef_)))\n",
        "coef.columns = ['feature', 'coef']"
      ],
      "execution_count": 76,
      "outputs": []
    },
    {
      "cell_type": "code",
      "metadata": {
        "colab": {
          "base_uri": "https://localhost:8080/",
          "height": 457
        },
        "id": "5w7G0Bv15XeJ",
        "outputId": "9f1d71bb-48b7-4285-d8d2-27109a2381f3"
      },
      "source": [
        "coef"
      ],
      "execution_count": 77,
      "outputs": [
        {
          "output_type": "execute_result",
          "data": {
            "text/html": [
              "<div>\n",
              "<style scoped>\n",
              "    .dataframe tbody tr th:only-of-type {\n",
              "        vertical-align: middle;\n",
              "    }\n",
              "\n",
              "    .dataframe tbody tr th {\n",
              "        vertical-align: top;\n",
              "    }\n",
              "\n",
              "    .dataframe thead th {\n",
              "        text-align: right;\n",
              "    }\n",
              "</style>\n",
              "<table border=\"1\" class=\"dataframe\">\n",
              "  <thead>\n",
              "    <tr style=\"text-align: right;\">\n",
              "      <th></th>\n",
              "      <th>feature</th>\n",
              "      <th>coef</th>\n",
              "    </tr>\n",
              "  </thead>\n",
              "  <tbody>\n",
              "    <tr>\n",
              "      <th>0</th>\n",
              "      <td>customer</td>\n",
              "      <td>-0.018021</td>\n",
              "    </tr>\n",
              "    <tr>\n",
              "      <th>1</th>\n",
              "      <td>sales_avg_M_2</td>\n",
              "      <td>0.164182</td>\n",
              "    </tr>\n",
              "    <tr>\n",
              "      <th>2</th>\n",
              "      <td>sales_avg_M_3</td>\n",
              "      <td>0.121239</td>\n",
              "    </tr>\n",
              "    <tr>\n",
              "      <th>3</th>\n",
              "      <td>sales_avg_M_4</td>\n",
              "      <td>0.139855</td>\n",
              "    </tr>\n",
              "    <tr>\n",
              "      <th>4</th>\n",
              "      <td>sales_avg_M_5</td>\n",
              "      <td>-0.835557</td>\n",
              "    </tr>\n",
              "    <tr>\n",
              "      <th>5</th>\n",
              "      <td>sales_count_M_2</td>\n",
              "      <td>96.201695</td>\n",
              "    </tr>\n",
              "    <tr>\n",
              "      <th>6</th>\n",
              "      <td>sales_count_M_3</td>\n",
              "      <td>-52.285089</td>\n",
              "    </tr>\n",
              "    <tr>\n",
              "      <th>7</th>\n",
              "      <td>sales_count_M_4</td>\n",
              "      <td>40.502764</td>\n",
              "    </tr>\n",
              "    <tr>\n",
              "      <th>8</th>\n",
              "      <td>sales_count_M_5</td>\n",
              "      <td>0.857581</td>\n",
              "    </tr>\n",
              "    <tr>\n",
              "      <th>9</th>\n",
              "      <td>sales_sum_M_2</td>\n",
              "      <td>0.284529</td>\n",
              "    </tr>\n",
              "    <tr>\n",
              "      <th>10</th>\n",
              "      <td>sales_sum_M_3</td>\n",
              "      <td>0.354303</td>\n",
              "    </tr>\n",
              "    <tr>\n",
              "      <th>11</th>\n",
              "      <td>sales_sum_M_4</td>\n",
              "      <td>-0.128369</td>\n",
              "    </tr>\n",
              "    <tr>\n",
              "      <th>12</th>\n",
              "      <td>sales_sum_M_5</td>\n",
              "      <td>1.092466</td>\n",
              "    </tr>\n",
              "  </tbody>\n",
              "</table>\n",
              "</div>"
            ],
            "text/plain": [
              "            feature       coef\n",
              "0          customer  -0.018021\n",
              "1     sales_avg_M_2   0.164182\n",
              "2     sales_avg_M_3   0.121239\n",
              "3     sales_avg_M_4   0.139855\n",
              "4     sales_avg_M_5  -0.835557\n",
              "5   sales_count_M_2  96.201695\n",
              "6   sales_count_M_3 -52.285089\n",
              "7   sales_count_M_4  40.502764\n",
              "8   sales_count_M_5   0.857581\n",
              "9     sales_sum_M_2   0.284529\n",
              "10    sales_sum_M_3   0.354303\n",
              "11    sales_sum_M_4  -0.128369\n",
              "12    sales_sum_M_5   1.092466"
            ]
          },
          "metadata": {},
          "execution_count": 77
        }
      ]
    },
    {
      "cell_type": "markdown",
      "metadata": {
        "id": "kTzA_8hL5bUu"
      },
      "source": [
        "###  Evaluate the model"
      ]
    },
    {
      "cell_type": "code",
      "metadata": {
        "id": "FEcJtDE75YQ-"
      },
      "source": [
        "from sklearn.metrics import r2_score, median_absolute_error, mean_squared_error\n",
        "train_preds =  lin_reg.predict(X_train)\n",
        "test_preds = lin_reg.predict(X_test)"
      ],
      "execution_count": 78,
      "outputs": []
    },
    {
      "cell_type": "markdown",
      "metadata": {
        "id": "U2WM1oK65hTU"
      },
      "source": [
        "#### R-squared"
      ]
    },
    {
      "cell_type": "code",
      "metadata": {
        "colab": {
          "base_uri": "https://localhost:8080/"
        },
        "id": "2p6h9B765en9",
        "outputId": "b207b3d3-d119-4138-e942-6e4be02edef7"
      },
      "source": [
        "print('R-Squared for Train set: %0.2f' % r2_score(y_true=y_train, y_pred=train_preds))\n",
        "print('R-Squared for Test set: %0.2f' % r2_score(y_true=y_test, y_pred=test_preds))"
      ],
      "execution_count": 79,
      "outputs": [
        {
          "output_type": "stream",
          "text": [
            "R-Squared for Train set: 0.71\n",
            "R-Squared for Test set: 0.66\n"
          ],
          "name": "stdout"
        }
      ]
    },
    {
      "cell_type": "markdown",
      "metadata": {
        "id": "1Op7OesF5k0i"
      },
      "source": [
        "#### Median Absolute Error"
      ]
    },
    {
      "cell_type": "code",
      "metadata": {
        "colab": {
          "base_uri": "https://localhost:8080/"
        },
        "id": "dnsJ2vXwtwEQ",
        "outputId": "c6f4783f-822e-4f56-8a65-77b2f104311a"
      },
      "source": [
        "print('MAE for Train set: %0.2f' % mean_squared_error(y_true=y_train, y_pred=train_preds))\n",
        "print('MAE for Test set: %0.2f' % mean_squared_error(y_true=y_test, y_pred=test_preds))"
      ],
      "execution_count": 80,
      "outputs": [
        {
          "output_type": "stream",
          "text": [
            "MAE for Train set: 1786776.24\n",
            "MAE for Test set: 1609433.89\n"
          ],
          "name": "stdout"
        }
      ]
    },
    {
      "cell_type": "code",
      "metadata": {
        "colab": {
          "base_uri": "https://localhost:8080/"
        },
        "id": "J8ss2GBX5kFb",
        "outputId": "1ff05564-b294-4307-fe3f-942c8fabcac4"
      },
      "source": [
        "print('MedAE for Train set: %0.2f' % median_absolute_error(y_true=y_train, y_pred=train_preds))\n",
        "print('MedAE for Test set: %0.2f' % median_absolute_error(y_true=y_test, y_pred=test_preds))"
      ],
      "execution_count": 81,
      "outputs": [
        {
          "output_type": "stream",
          "text": [
            "MedAE for Train set: 181.76\n",
            "MedAE for Test set: 192.94\n"
          ],
          "name": "stdout"
        }
      ]
    },
    {
      "cell_type": "markdown",
      "metadata": {
        "id": "lMlZVbwW5vqU"
      },
      "source": [
        "#### Scatter plot"
      ]
    },
    {
      "cell_type": "code",
      "metadata": {
        "colab": {
          "base_uri": "https://localhost:8080/",
          "height": 453
        },
        "id": "dAvI3jBG5ruk",
        "outputId": "ea44ab02-d6f6-49e9-d956-f63da4ddc4c6"
      },
      "source": [
        "plt.figure(figsize=(8, 6), dpi=80)\n",
        "plt.scatter(y_train, train_preds, color='darkorange')\n",
        "plt.plot([0, max(y_train)], [0, max(train_preds)], color='gray', lw=1, linestyle='--')\n",
        "\n",
        "plt.xlabel('Actual Values', fontsize=14)\n",
        "plt.ylabel('Predicted Values', fontsize=14)\n",
        "plt.title('Actual vs. Predicted for Train Set', fontsize=16)\n",
        "plt.grid()"
      ],
      "execution_count": 82,
      "outputs": [
        {
          "output_type": "display_data",
          "data": {
            "image/png": "[encoded data removed]",
            "text/plain": [
              "<Figure size 640x480 with 1 Axes>"
            ]
          },
          "metadata": {
            "needs_background": "light"
          }
        }
      ]
    },
    {
      "cell_type": "code",
      "metadata": {
        "colab": {
          "base_uri": "https://localhost:8080/",
          "height": 453
        },
        "id": "iaFzajxE5yop",
        "outputId": "469b8acf-7c22-430d-b589-3fdd070daadc"
      },
      "source": [
        "plt.figure(figsize=(8, 6), dpi=80)\n",
        "plt.scatter(y_test, test_preds, color='darkorange')\n",
        "plt.plot([0, max(y_test)], [0, max(test_preds)], color='gray', lw=1, linestyle='--')\n",
        "\n",
        "plt.xlabel('Actual Values', fontsize=14)\n",
        "plt.ylabel('Predicted Values', fontsize=14)\n",
        "plt.title('Actual vs. Predicted for Test Set', fontsize=16)\n",
        "plt.grid()"
      ],
      "execution_count": 83,
      "outputs": [
        {
          "output_type": "display_data",
          "data": {
            "image/png": "[encoded data removed]",
            "text/plain": [
              "<Figure size 640x480 with 1 Axes>"
            ]
          },
          "metadata": {
            "needs_background": "light"
          }
        }
      ]
    },
    {
      "cell_type": "code",
      "metadata": {
        "id": "v2TFNc0k52NK"
      },
      "source": [
        "X_train['predicted'] = train_preds"
      ],
      "execution_count": 84,
      "outputs": []
    },
    {
      "cell_type": "code",
      "metadata": {
        "id": "5DpuRvux6AmS"
      },
      "source": [
        "X_train['actual'] = y_train"
      ],
      "execution_count": 85,
      "outputs": []
    },
    {
      "cell_type": "code",
      "metadata": {
        "colab": {
          "base_uri": "https://localhost:8080/",
          "height": 443
        },
        "id": "VZtwFr0u6EMo",
        "outputId": "c17f7c73-9e74-4c76-89f8-53cd7475fc60"
      },
      "source": [
        "X_train"
      ],
      "execution_count": 86,
      "outputs": [
        {
          "output_type": "execute_result",
          "data": {
            "text/html": [
              "<div>\n",
              "<style scoped>\n",
              "    .dataframe tbody tr th:only-of-type {\n",
              "        vertical-align: middle;\n",
              "    }\n",
              "\n",
              "    .dataframe tbody tr th {\n",
              "        vertical-align: top;\n",
              "    }\n",
              "\n",
              "    .dataframe thead th {\n",
              "        text-align: right;\n",
              "    }\n",
              "</style>\n",
              "<table border=\"1\" class=\"dataframe\">\n",
              "  <thead>\n",
              "    <tr style=\"text-align: right;\">\n",
              "      <th></th>\n",
              "      <th>customer</th>\n",
              "      <th>sales_avg_M_2</th>\n",
              "      <th>sales_avg_M_3</th>\n",
              "      <th>sales_avg_M_4</th>\n",
              "      <th>sales_avg_M_5</th>\n",
              "      <th>sales_count_M_2</th>\n",
              "      <th>sales_count_M_3</th>\n",
              "      <th>sales_count_M_4</th>\n",
              "      <th>sales_count_M_5</th>\n",
              "      <th>sales_sum_M_2</th>\n",
              "      <th>sales_sum_M_3</th>\n",
              "      <th>sales_sum_M_4</th>\n",
              "      <th>sales_sum_M_5</th>\n",
              "      <th>predicted</th>\n",
              "      <th>actual</th>\n",
              "    </tr>\n",
              "  </thead>\n",
              "  <tbody>\n",
              "    <tr>\n",
              "      <th>1823</th>\n",
              "      <td>15271</td>\n",
              "      <td>180.056667</td>\n",
              "      <td>138.320000</td>\n",
              "      <td>253.10</td>\n",
              "      <td>111.75</td>\n",
              "      <td>3.0</td>\n",
              "      <td>5.0</td>\n",
              "      <td>1.0</td>\n",
              "      <td>1.0</td>\n",
              "      <td>540.17</td>\n",
              "      <td>691.60</td>\n",
              "      <td>253.10</td>\n",
              "      <td>111.75</td>\n",
              "      <td>506.584053</td>\n",
              "      <td>718.37</td>\n",
              "    </tr>\n",
              "    <tr>\n",
              "      <th>1746</th>\n",
              "      <td>15164</td>\n",
              "      <td>0.000000</td>\n",
              "      <td>194.790000</td>\n",
              "      <td>173.39</td>\n",
              "      <td>0.00</td>\n",
              "      <td>0.0</td>\n",
              "      <td>1.0</td>\n",
              "      <td>1.0</td>\n",
              "      <td>0.0</td>\n",
              "      <td>0.00</td>\n",
              "      <td>194.79</td>\n",
              "      <td>173.39</td>\n",
              "      <td>0.00</td>\n",
              "      <td>46.134094</td>\n",
              "      <td>474.87</td>\n",
              "    </tr>\n",
              "    <tr>\n",
              "      <th>1815</th>\n",
              "      <td>15260</td>\n",
              "      <td>270.145000</td>\n",
              "      <td>283.326667</td>\n",
              "      <td>0.00</td>\n",
              "      <td>420.50</td>\n",
              "      <td>2.0</td>\n",
              "      <td>3.0</td>\n",
              "      <td>0.0</td>\n",
              "      <td>1.0</td>\n",
              "      <td>540.29</td>\n",
              "      <td>849.98</td>\n",
              "      <td>0.00</td>\n",
              "      <td>420.50</td>\n",
              "      <td>639.581515</td>\n",
              "      <td>0.00</td>\n",
              "    </tr>\n",
              "    <tr>\n",
              "      <th>291</th>\n",
              "      <td>12790</td>\n",
              "      <td>0.000000</td>\n",
              "      <td>324.920000</td>\n",
              "      <td>0.00</td>\n",
              "      <td>0.00</td>\n",
              "      <td>0.0</td>\n",
              "      <td>1.0</td>\n",
              "      <td>0.0</td>\n",
              "      <td>0.0</td>\n",
              "      <td>0.00</td>\n",
              "      <td>324.92</td>\n",
              "      <td>0.00</td>\n",
              "      <td>0.00</td>\n",
              "      <td>108.303542</td>\n",
              "      <td>0.00</td>\n",
              "    </tr>\n",
              "    <tr>\n",
              "      <th>2720</th>\n",
              "      <td>16767</td>\n",
              "      <td>592.420000</td>\n",
              "      <td>408.690000</td>\n",
              "      <td>1115.43</td>\n",
              "      <td>0.00</td>\n",
              "      <td>3.0</td>\n",
              "      <td>2.0</td>\n",
              "      <td>2.0</td>\n",
              "      <td>0.0</td>\n",
              "      <td>1777.26</td>\n",
              "      <td>817.38</td>\n",
              "      <td>2230.86</td>\n",
              "      <td>0.00</td>\n",
              "      <td>1011.167449</td>\n",
              "      <td>755.10</td>\n",
              "    </tr>\n",
              "    <tr>\n",
              "      <th>...</th>\n",
              "      <td>...</td>\n",
              "      <td>...</td>\n",
              "      <td>...</td>\n",
              "      <td>...</td>\n",
              "      <td>...</td>\n",
              "      <td>...</td>\n",
              "      <td>...</td>\n",
              "      <td>...</td>\n",
              "      <td>...</td>\n",
              "      <td>...</td>\n",
              "      <td>...</td>\n",
              "      <td>...</td>\n",
              "      <td>...</td>\n",
              "      <td>...</td>\n",
              "      <td>...</td>\n",
              "    </tr>\n",
              "    <tr>\n",
              "      <th>3606</th>\n",
              "      <td>18269</td>\n",
              "      <td>0.000000</td>\n",
              "      <td>0.000000</td>\n",
              "      <td>0.00</td>\n",
              "      <td>168.60</td>\n",
              "      <td>0.0</td>\n",
              "      <td>0.0</td>\n",
              "      <td>0.0</td>\n",
              "      <td>1.0</td>\n",
              "      <td>0.00</td>\n",
              "      <td>0.00</td>\n",
              "      <td>0.00</td>\n",
              "      <td>168.60</td>\n",
              "      <td>-48.488047</td>\n",
              "      <td>0.00</td>\n",
              "    </tr>\n",
              "    <tr>\n",
              "      <th>1608</th>\n",
              "      <td>14936</td>\n",
              "      <td>1436.490000</td>\n",
              "      <td>2060.030000</td>\n",
              "      <td>1576.36</td>\n",
              "      <td>0.00</td>\n",
              "      <td>1.0</td>\n",
              "      <td>1.0</td>\n",
              "      <td>1.0</td>\n",
              "      <td>0.0</td>\n",
              "      <td>1436.49</td>\n",
              "      <td>2060.03</td>\n",
              "      <td>1576.36</td>\n",
              "      <td>0.00</td>\n",
              "      <td>1694.126859</td>\n",
              "      <td>3064.14</td>\n",
              "    </tr>\n",
              "    <tr>\n",
              "      <th>2541</th>\n",
              "      <td>16470</td>\n",
              "      <td>193.470000</td>\n",
              "      <td>129.320000</td>\n",
              "      <td>0.00</td>\n",
              "      <td>216.34</td>\n",
              "      <td>1.0</td>\n",
              "      <td>1.0</td>\n",
              "      <td>0.0</td>\n",
              "      <td>1.0</td>\n",
              "      <td>193.47</td>\n",
              "      <td>129.32</td>\n",
              "      <td>0.00</td>\n",
              "      <td>216.34</td>\n",
              "      <td>188.422064</td>\n",
              "      <td>223.26</td>\n",
              "    </tr>\n",
              "    <tr>\n",
              "      <th>2575</th>\n",
              "      <td>16532</td>\n",
              "      <td>2606.400000</td>\n",
              "      <td>0.000000</td>\n",
              "      <td>1910.40</td>\n",
              "      <td>0.00</td>\n",
              "      <td>1.0</td>\n",
              "      <td>0.0</td>\n",
              "      <td>1.0</td>\n",
              "      <td>0.0</td>\n",
              "      <td>2606.40</td>\n",
              "      <td>0.00</td>\n",
              "      <td>1910.40</td>\n",
              "      <td>0.00</td>\n",
              "      <td>1266.809347</td>\n",
              "      <td>2232.00</td>\n",
              "    </tr>\n",
              "    <tr>\n",
              "      <th>3240</th>\n",
              "      <td>17664</td>\n",
              "      <td>0.000000</td>\n",
              "      <td>326.190000</td>\n",
              "      <td>0.00</td>\n",
              "      <td>0.00</td>\n",
              "      <td>0.0</td>\n",
              "      <td>1.0</td>\n",
              "      <td>0.0</td>\n",
              "      <td>0.0</td>\n",
              "      <td>0.00</td>\n",
              "      <td>326.19</td>\n",
              "      <td>0.00</td>\n",
              "      <td>0.00</td>\n",
              "      <td>21.074056</td>\n",
              "      <td>278.45</td>\n",
              "    </tr>\n",
              "  </tbody>\n",
              "</table>\n",
              "<p>2350 rows × 15 columns</p>\n",
              "</div>"
            ],
            "text/plain": [
              "      customer  sales_avg_M_2  ...    predicted   actual\n",
              "1823     15271     180.056667  ...   506.584053   718.37\n",
              "1746     15164       0.000000  ...    46.134094   474.87\n",
              "1815     15260     270.145000  ...   639.581515     0.00\n",
              "291      12790       0.000000  ...   108.303542     0.00\n",
              "2720     16767     592.420000  ...  1011.167449   755.10\n",
              "...        ...            ...  ...          ...      ...\n",
              "3606     18269       0.000000  ...   -48.488047     0.00\n",
              "1608     14936    1436.490000  ...  1694.126859  3064.14\n",
              "2541     16470     193.470000  ...   188.422064   223.26\n",
              "2575     16532    2606.400000  ...  1266.809347  2232.00\n",
              "3240     17664       0.000000  ...    21.074056   278.45\n",
              "\n",
              "[2350 rows x 15 columns]"
            ]
          },
          "metadata": {},
          "execution_count": 86
        }
      ]
    },
    {
      "cell_type": "code",
      "metadata": {
        "id": "w8k3I_it6FLF"
      },
      "source": [
        "X_test['predicted'] = test_preds"
      ],
      "execution_count": 87,
      "outputs": []
    },
    {
      "cell_type": "code",
      "metadata": {
        "id": "6kZzSdiR6Js4"
      },
      "source": [
        "X_test['actual'] = y_test"
      ],
      "execution_count": 88,
      "outputs": []
    },
    {
      "cell_type": "code",
      "metadata": {
        "colab": {
          "base_uri": "https://localhost:8080/",
          "height": 443
        },
        "id": "P5CSelLJ6Met",
        "outputId": "6810d881-4cf5-4726-bcaf-a02c223d7a06"
      },
      "source": [
        "X_test"
      ],
      "execution_count": 89,
      "outputs": [
        {
          "output_type": "execute_result",
          "data": {
            "text/html": [
              "<div>\n",
              "<style scoped>\n",
              "    .dataframe tbody tr th:only-of-type {\n",
              "        vertical-align: middle;\n",
              "    }\n",
              "\n",
              "    .dataframe tbody tr th {\n",
              "        vertical-align: top;\n",
              "    }\n",
              "\n",
              "    .dataframe thead th {\n",
              "        text-align: right;\n",
              "    }\n",
              "</style>\n",
              "<table border=\"1\" class=\"dataframe\">\n",
              "  <thead>\n",
              "    <tr style=\"text-align: right;\">\n",
              "      <th></th>\n",
              "      <th>customer</th>\n",
              "      <th>sales_avg_M_2</th>\n",
              "      <th>sales_avg_M_3</th>\n",
              "      <th>sales_avg_M_4</th>\n",
              "      <th>sales_avg_M_5</th>\n",
              "      <th>sales_count_M_2</th>\n",
              "      <th>sales_count_M_3</th>\n",
              "      <th>sales_count_M_4</th>\n",
              "      <th>sales_count_M_5</th>\n",
              "      <th>sales_sum_M_2</th>\n",
              "      <th>sales_sum_M_3</th>\n",
              "      <th>sales_sum_M_4</th>\n",
              "      <th>sales_sum_M_5</th>\n",
              "      <th>predicted</th>\n",
              "      <th>actual</th>\n",
              "    </tr>\n",
              "  </thead>\n",
              "  <tbody>\n",
              "    <tr>\n",
              "      <th>3378</th>\n",
              "      <td>17886</td>\n",
              "      <td>0.000000</td>\n",
              "      <td>198.130000</td>\n",
              "      <td>0.000000</td>\n",
              "      <td>0.00</td>\n",
              "      <td>0.0</td>\n",
              "      <td>2.0</td>\n",
              "      <td>0.0</td>\n",
              "      <td>0.0</td>\n",
              "      <td>0.00</td>\n",
              "      <td>396.26</td>\n",
              "      <td>0.00</td>\n",
              "      <td>0.00</td>\n",
              "      <td>-25.911558</td>\n",
              "      <td>503.35</td>\n",
              "    </tr>\n",
              "    <tr>\n",
              "      <th>1901</th>\n",
              "      <td>15405</td>\n",
              "      <td>0.000000</td>\n",
              "      <td>349.100000</td>\n",
              "      <td>0.000000</td>\n",
              "      <td>0.00</td>\n",
              "      <td>0.0</td>\n",
              "      <td>1.0</td>\n",
              "      <td>0.0</td>\n",
              "      <td>0.0</td>\n",
              "      <td>0.00</td>\n",
              "      <td>349.10</td>\n",
              "      <td>0.00</td>\n",
              "      <td>0.00</td>\n",
              "      <td>72.677723</td>\n",
              "      <td>0.00</td>\n",
              "    </tr>\n",
              "    <tr>\n",
              "      <th>3040</th>\n",
              "      <td>17339</td>\n",
              "      <td>183.360000</td>\n",
              "      <td>0.000000</td>\n",
              "      <td>0.000000</td>\n",
              "      <td>60.00</td>\n",
              "      <td>1.0</td>\n",
              "      <td>0.0</td>\n",
              "      <td>0.0</td>\n",
              "      <td>1.0</td>\n",
              "      <td>183.36</td>\n",
              "      <td>0.00</td>\n",
              "      <td>0.00</td>\n",
              "      <td>60.00</td>\n",
              "      <td>118.848506</td>\n",
              "      <td>0.00</td>\n",
              "    </tr>\n",
              "    <tr>\n",
              "      <th>846</th>\n",
              "      <td>13692</td>\n",
              "      <td>0.000000</td>\n",
              "      <td>435.790000</td>\n",
              "      <td>0.000000</td>\n",
              "      <td>0.00</td>\n",
              "      <td>0.0</td>\n",
              "      <td>2.0</td>\n",
              "      <td>0.0</td>\n",
              "      <td>0.0</td>\n",
              "      <td>0.00</td>\n",
              "      <td>871.58</td>\n",
              "      <td>0.00</td>\n",
              "      <td>0.00</td>\n",
              "      <td>246.888477</td>\n",
              "      <td>616.74</td>\n",
              "    </tr>\n",
              "    <tr>\n",
              "      <th>1699</th>\n",
              "      <td>15098</td>\n",
              "      <td>0.000000</td>\n",
              "      <td>39916.500000</td>\n",
              "      <td>0.000000</td>\n",
              "      <td>0.00</td>\n",
              "      <td>0.0</td>\n",
              "      <td>1.0</td>\n",
              "      <td>0.0</td>\n",
              "      <td>0.0</td>\n",
              "      <td>0.00</td>\n",
              "      <td>39916.50</td>\n",
              "      <td>0.00</td>\n",
              "      <td>0.00</td>\n",
              "      <td>18894.156119</td>\n",
              "      <td>0.00</td>\n",
              "    </tr>\n",
              "    <tr>\n",
              "      <th>...</th>\n",
              "      <td>...</td>\n",
              "      <td>...</td>\n",
              "      <td>...</td>\n",
              "      <td>...</td>\n",
              "      <td>...</td>\n",
              "      <td>...</td>\n",
              "      <td>...</td>\n",
              "      <td>...</td>\n",
              "      <td>...</td>\n",
              "      <td>...</td>\n",
              "      <td>...</td>\n",
              "      <td>...</td>\n",
              "      <td>...</td>\n",
              "      <td>...</td>\n",
              "      <td>...</td>\n",
              "    </tr>\n",
              "    <tr>\n",
              "      <th>2648</th>\n",
              "      <td>16656</td>\n",
              "      <td>652.130000</td>\n",
              "      <td>901.020000</td>\n",
              "      <td>442.226667</td>\n",
              "      <td>428.76</td>\n",
              "      <td>6.0</td>\n",
              "      <td>2.0</td>\n",
              "      <td>3.0</td>\n",
              "      <td>1.0</td>\n",
              "      <td>3912.78</td>\n",
              "      <td>1802.04</td>\n",
              "      <td>1326.68</td>\n",
              "      <td>428.76</td>\n",
              "      <td>2501.181724</td>\n",
              "      <td>1155.54</td>\n",
              "    </tr>\n",
              "    <tr>\n",
              "      <th>769</th>\n",
              "      <td>13557</td>\n",
              "      <td>0.000000</td>\n",
              "      <td>0.000000</td>\n",
              "      <td>240.680000</td>\n",
              "      <td>0.00</td>\n",
              "      <td>0.0</td>\n",
              "      <td>0.0</td>\n",
              "      <td>1.0</td>\n",
              "      <td>0.0</td>\n",
              "      <td>0.00</td>\n",
              "      <td>0.00</td>\n",
              "      <td>240.68</td>\n",
              "      <td>0.00</td>\n",
              "      <td>35.520709</td>\n",
              "      <td>343.38</td>\n",
              "    </tr>\n",
              "    <tr>\n",
              "      <th>215</th>\n",
              "      <td>12678</td>\n",
              "      <td>929.713333</td>\n",
              "      <td>1036.760000</td>\n",
              "      <td>1798.280000</td>\n",
              "      <td>221.28</td>\n",
              "      <td>3.0</td>\n",
              "      <td>2.0</td>\n",
              "      <td>2.0</td>\n",
              "      <td>1.0</td>\n",
              "      <td>2789.14</td>\n",
              "      <td>2073.52</td>\n",
              "      <td>3596.56</td>\n",
              "      <td>221.28</td>\n",
              "      <td>1927.233649</td>\n",
              "      <td>8947.96</td>\n",
              "    </tr>\n",
              "    <tr>\n",
              "      <th>2279</th>\n",
              "      <td>16049</td>\n",
              "      <td>488.260000</td>\n",
              "      <td>0.000000</td>\n",
              "      <td>0.000000</td>\n",
              "      <td>0.00</td>\n",
              "      <td>1.0</td>\n",
              "      <td>0.0</td>\n",
              "      <td>0.0</td>\n",
              "      <td>0.0</td>\n",
              "      <td>488.26</td>\n",
              "      <td>0.00</td>\n",
              "      <td>0.00</td>\n",
              "      <td>0.00</td>\n",
              "      <td>262.635419</td>\n",
              "      <td>623.53</td>\n",
              "    </tr>\n",
              "    <tr>\n",
              "      <th>1660</th>\n",
              "      <td>15039</td>\n",
              "      <td>404.583750</td>\n",
              "      <td>562.929231</td>\n",
              "      <td>576.127500</td>\n",
              "      <td>658.88</td>\n",
              "      <td>8.0</td>\n",
              "      <td>13.0</td>\n",
              "      <td>12.0</td>\n",
              "      <td>2.0</td>\n",
              "      <td>3236.67</td>\n",
              "      <td>7318.08</td>\n",
              "      <td>6913.53</td>\n",
              "      <td>1317.76</td>\n",
              "      <td>4273.782508</td>\n",
              "      <td>1128.40</td>\n",
              "    </tr>\n",
              "  </tbody>\n",
              "</table>\n",
              "<p>1266 rows × 15 columns</p>\n",
              "</div>"
            ],
            "text/plain": [
              "      customer  sales_avg_M_2  ...     predicted   actual\n",
              "3378     17886       0.000000  ...    -25.911558   503.35\n",
              "1901     15405       0.000000  ...     72.677723     0.00\n",
              "3040     17339     183.360000  ...    118.848506     0.00\n",
              "846      13692       0.000000  ...    246.888477   616.74\n",
              "1699     15098       0.000000  ...  18894.156119     0.00\n",
              "...        ...            ...  ...           ...      ...\n",
              "2648     16656     652.130000  ...   2501.181724  1155.54\n",
              "769      13557       0.000000  ...     35.520709   343.38\n",
              "215      12678     929.713333  ...   1927.233649  8947.96\n",
              "2279     16049     488.260000  ...    262.635419   623.53\n",
              "1660     15039     404.583750  ...   4273.782508  1128.40\n",
              "\n",
              "[1266 rows x 15 columns]"
            ]
          },
          "metadata": {},
          "execution_count": 89
        }
      ]
    },
    {
      "cell_type": "code",
      "metadata": {
        "id": "y26pGy6c6OPu"
      },
      "source": [
        ""
      ],
      "execution_count": 89,
      "outputs": []
    }
  ]
}